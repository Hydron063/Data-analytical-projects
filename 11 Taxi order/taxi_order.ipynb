{
 "cells": [
  {
   "cell_type": "markdown",
   "metadata": {},
   "source": [
    "#  Прогнозирование заказов такси"
   ]
  },
  {
   "cell_type": "markdown",
   "metadata": {},
   "source": [
    "Компания «Чётенькое такси» собрала исторические данные о заказах такси в аэропортах. Чтобы привлекать больше водителей в период пиковой нагрузки, нужно спрогнозировать количество заказов такси на следующий час. Цель проекта: построить модель для такого предсказания.\n",
    "\n",
    "Ключевой показатель успеха: значение метрики *RMSE* на тестовой выборке должно быть не больше 48.\n",
    "\n",
    "Для достижения цели необходимо выполнить следующие задачи:\n",
    "\n",
    "1. Загрузить данные и выполнить их ресемплирование по одному часу.\n",
    "2. Проанализировать данные с учётом сезонности и создать новые переменные.\n",
    "3. Обучить разные модели с различными гиперпараметрами. Сделать тестовую выборку размером 10% от исходных данных.\n",
    "4. Проверить данные на тестовой выборке, сравнить результат с требуемым щначением и сделать выводы.\n",
    "\n",
    "\n",
    "Данные лежат в файле `taxi.csv`. Количество заказов находится в столбце `num_orders` (от англ. *number of orders*, «число заказов»)."
   ]
  },
  {
   "cell_type": "markdown",
   "metadata": {},
   "source": [
    "Планируется выполнять задачи в том порядке, в каком они указаны в содержании ниже."
   ]
  },
  {
   "cell_type": "markdown",
   "metadata": {
    "toc": true
   },
   "source": [
    "<h1>Содержание<span class=\"tocSkip\"></span></h1>\n",
    "<div class=\"toc\"><ul class=\"toc-item\"><li><span><a href=\"#Подготовка\" data-toc-modified-id=\"Подготовка-1\"><span class=\"toc-item-num\">1&nbsp;&nbsp;</span>Подготовка</a></span><ul class=\"toc-item\"><li><span><a href=\"#Установка-и-подключение-библиотек\" data-toc-modified-id=\"Установка-и-подключение-библиотек-1.1\"><span class=\"toc-item-num\">1.1&nbsp;&nbsp;</span>Установка и подключение библиотек</a></span></li><li><span><a href=\"#Загрузка-и-ресэмплинг-датасета\" data-toc-modified-id=\"Загрузка-и-ресэмплинг-датасета-1.2\"><span class=\"toc-item-num\">1.2&nbsp;&nbsp;</span>Загрузка и ресэмплинг датасета</a></span></li></ul></li><li><span><a href=\"#Анализ\" data-toc-modified-id=\"Анализ-2\"><span class=\"toc-item-num\">2&nbsp;&nbsp;</span>Анализ</a></span><ul class=\"toc-item\"><li><span><a href=\"#Исследование-сезонности\" data-toc-modified-id=\"Исследование-сезонности-2.1\"><span class=\"toc-item-num\">2.1&nbsp;&nbsp;</span>Исследование сезонности</a></span></li><li><span><a href=\"#Создание-и-проверка-состоятельности-переменных\" data-toc-modified-id=\"Создание-и-проверка-состоятельности-переменных-2.2\"><span class=\"toc-item-num\">2.2&nbsp;&nbsp;</span>Создание и проверка состоятельности переменных</a></span></li></ul></li><li><span><a href=\"#Обучение\" data-toc-modified-id=\"Обучение-3\"><span class=\"toc-item-num\">3&nbsp;&nbsp;</span>Обучение</a></span><ul class=\"toc-item\"><li><span><a href=\"#Настройка-гиперпараметров\" data-toc-modified-id=\"Настройка-гиперпараметров-3.1\"><span class=\"toc-item-num\">3.1&nbsp;&nbsp;</span>Настройка гиперпараметров</a></span></li><li><span><a href=\"#Поиск-по-решётке\" data-toc-modified-id=\"Поиск-по-решётке-3.2\"><span class=\"toc-item-num\">3.2&nbsp;&nbsp;</span>Поиск по решётке</a></span></li></ul></li><li><span><a href=\"#Тестирование\" data-toc-modified-id=\"Тестирование-4\"><span class=\"toc-item-num\">4&nbsp;&nbsp;</span>Тестирование</a></span></li><li><span><a href=\"#Вывод\" data-toc-modified-id=\"Вывод-5\"><span class=\"toc-item-num\">5&nbsp;&nbsp;</span>Вывод</a></span></li></ul></div>"
   ]
  },
  {
   "cell_type": "markdown",
   "metadata": {},
   "source": [
    "## Подготовка"
   ]
  },
  {
   "cell_type": "markdown",
   "metadata": {},
   "source": [
    "### Установка и подключение библиотек"
   ]
  },
  {
   "cell_type": "code",
   "execution_count": 1,
   "metadata": {
    "scrolled": true
   },
   "outputs": [],
   "source": [
    "!pip install -Uq scipy\n",
    "!pip install -Uq scikit-learn\n",
    "!pip install -Uq matplotlib\n",
    "!pip install -Uq catboost"
   ]
  },
  {
   "cell_type": "code",
   "execution_count": 2,
   "metadata": {},
   "outputs": [],
   "source": [
    "import pandas as pd\n",
    "import matplotlib.pyplot as plt\n",
    "import numpy as np\n",
    "import pickle\n",
    "import os\n",
    "\n",
    "from statsmodels.tsa.seasonal import seasonal_decompose\n",
    "from statsmodels.tsa.stattools import adfuller\n",
    "from sklearn.linear_model import LinearRegression\n",
    "from sklearn.model_selection import train_test_split, TimeSeriesSplit\n",
    "from sklearn.metrics import mean_squared_error as mse\n",
    "from sklearn.model_selection import GridSearchCV\n",
    "from sklearn.svm import SVR\n",
    "from sklearn.linear_model import Ridge, Lasso\n",
    "from sklearn.dummy import DummyRegressor\n",
    "from sklearn.pipeline import Pipeline\n",
    "from sklearn.preprocessing import OneHotEncoder, OrdinalEncoder, StandardScaler, MinMaxScaler, RobustScaler, PolynomialFeatures, LabelEncoder\n",
    "from sklearn.compose import ColumnTransformer\n",
    "from sklearn.tree import DecisionTreeRegressor\n",
    "from sklearn.neighbors import KNeighborsRegressor\n",
    "from sklearn.feature_selection import SelectKBest\n",
    "from sklearn.metrics import root_mean_squared_error as rmse\n",
    "from sklearn import set_config\n",
    "\n",
    "from catboost import CatBoostRegressor\n",
    "\n",
    "RANDOM_STATE = 42\n",
    "set_config(transform_output=\"pandas\")"
   ]
  },
  {
   "cell_type": "markdown",
   "metadata": {},
   "source": [
    "### Загрузка и ресэмплинг датасета"
   ]
  },
  {
   "cell_type": "code",
   "execution_count": 3,
   "metadata": {},
   "outputs": [
    {
     "name": "stdout",
     "output_type": "stream",
     "text": [
      "<class 'pandas.core.frame.DataFrame'>\n",
      "DatetimeIndex: 26496 entries, 2018-03-01 00:00:00 to 2018-08-31 23:50:00\n",
      "Data columns (total 1 columns):\n",
      " #   Column      Non-Null Count  Dtype\n",
      "---  ------      --------------  -----\n",
      " 0   num_orders  26496 non-null  int64\n",
      "dtypes: int64(1)\n",
      "memory usage: 414.0 KB\n",
      "True\n"
     ]
    },
    {
     "data": {
      "text/html": [
       "<div>\n",
       "<style scoped>\n",
       "    .dataframe tbody tr th:only-of-type {\n",
       "        vertical-align: middle;\n",
       "    }\n",
       "\n",
       "    .dataframe tbody tr th {\n",
       "        vertical-align: top;\n",
       "    }\n",
       "\n",
       "    .dataframe thead th {\n",
       "        text-align: right;\n",
       "    }\n",
       "</style>\n",
       "<table border=\"1\" class=\"dataframe\">\n",
       "  <thead>\n",
       "    <tr style=\"text-align: right;\">\n",
       "      <th></th>\n",
       "      <th>num_orders</th>\n",
       "    </tr>\n",
       "    <tr>\n",
       "      <th>datetime</th>\n",
       "      <th></th>\n",
       "    </tr>\n",
       "  </thead>\n",
       "  <tbody>\n",
       "    <tr>\n",
       "      <th>2018-03-01 00:00:00</th>\n",
       "      <td>9</td>\n",
       "    </tr>\n",
       "    <tr>\n",
       "      <th>2018-03-01 00:10:00</th>\n",
       "      <td>14</td>\n",
       "    </tr>\n",
       "    <tr>\n",
       "      <th>2018-03-01 00:20:00</th>\n",
       "      <td>28</td>\n",
       "    </tr>\n",
       "    <tr>\n",
       "      <th>2018-03-01 00:30:00</th>\n",
       "      <td>20</td>\n",
       "    </tr>\n",
       "    <tr>\n",
       "      <th>2018-03-01 00:40:00</th>\n",
       "      <td>32</td>\n",
       "    </tr>\n",
       "    <tr>\n",
       "      <th>...</th>\n",
       "      <td>...</td>\n",
       "    </tr>\n",
       "    <tr>\n",
       "      <th>2018-08-31 23:10:00</th>\n",
       "      <td>32</td>\n",
       "    </tr>\n",
       "    <tr>\n",
       "      <th>2018-08-31 23:20:00</th>\n",
       "      <td>24</td>\n",
       "    </tr>\n",
       "    <tr>\n",
       "      <th>2018-08-31 23:30:00</th>\n",
       "      <td>27</td>\n",
       "    </tr>\n",
       "    <tr>\n",
       "      <th>2018-08-31 23:40:00</th>\n",
       "      <td>39</td>\n",
       "    </tr>\n",
       "    <tr>\n",
       "      <th>2018-08-31 23:50:00</th>\n",
       "      <td>53</td>\n",
       "    </tr>\n",
       "  </tbody>\n",
       "</table>\n",
       "<p>26496 rows × 1 columns</p>\n",
       "</div>"
      ],
      "text/plain": [
       "                     num_orders\n",
       "datetime                       \n",
       "2018-03-01 00:00:00           9\n",
       "2018-03-01 00:10:00          14\n",
       "2018-03-01 00:20:00          28\n",
       "2018-03-01 00:30:00          20\n",
       "2018-03-01 00:40:00          32\n",
       "...                         ...\n",
       "2018-08-31 23:10:00          32\n",
       "2018-08-31 23:20:00          24\n",
       "2018-08-31 23:30:00          27\n",
       "2018-08-31 23:40:00          39\n",
       "2018-08-31 23:50:00          53\n",
       "\n",
       "[26496 rows x 1 columns]"
      ]
     },
     "execution_count": 3,
     "metadata": {},
     "output_type": "execute_result"
    }
   ],
   "source": [
    "def check_and_read(path, index_col=None, parse_dates=None):\n",
    "    if os.path.exists(path):\n",
    "        return pd.read_csv(path, index_col=index_col, parse_dates=parse_dates)\n",
    "    else:\n",
    "        print(f'Не найден файл по указанному пути: {path}')\n",
    "\n",
    "        \n",
    "df = pd.read_csv('datasets/taxi.csv', index_col=[0], parse_dates=[0])\n",
    "df.info()\n",
    "target = 'num_orders'\n",
    "df.sort_index(inplace=True)\n",
    "print(df.index.is_monotonic_increasing)\n",
    "df"
   ]
  },
  {
   "cell_type": "code",
   "execution_count": 4,
   "metadata": {
    "scrolled": true
   },
   "outputs": [
    {
     "name": "stderr",
     "output_type": "stream",
     "text": [
      "C:\\Users\\hydro\\AppData\\Local\\Temp\\ipykernel_16156\\1978968788.py:1: FutureWarning: 'H' is deprecated and will be removed in a future version, please use 'h' instead.\n",
      "  df = df.resample('1H').sum()\n"
     ]
    },
    {
     "data": {
      "text/html": [
       "<div>\n",
       "<style scoped>\n",
       "    .dataframe tbody tr th:only-of-type {\n",
       "        vertical-align: middle;\n",
       "    }\n",
       "\n",
       "    .dataframe tbody tr th {\n",
       "        vertical-align: top;\n",
       "    }\n",
       "\n",
       "    .dataframe thead th {\n",
       "        text-align: right;\n",
       "    }\n",
       "</style>\n",
       "<table border=\"1\" class=\"dataframe\">\n",
       "  <thead>\n",
       "    <tr style=\"text-align: right;\">\n",
       "      <th></th>\n",
       "      <th>num_orders</th>\n",
       "    </tr>\n",
       "    <tr>\n",
       "      <th>datetime</th>\n",
       "      <th></th>\n",
       "    </tr>\n",
       "  </thead>\n",
       "  <tbody>\n",
       "    <tr>\n",
       "      <th>2018-03-01 00:00:00</th>\n",
       "      <td>124</td>\n",
       "    </tr>\n",
       "    <tr>\n",
       "      <th>2018-03-01 01:00:00</th>\n",
       "      <td>85</td>\n",
       "    </tr>\n",
       "    <tr>\n",
       "      <th>2018-03-01 02:00:00</th>\n",
       "      <td>71</td>\n",
       "    </tr>\n",
       "    <tr>\n",
       "      <th>2018-03-01 03:00:00</th>\n",
       "      <td>66</td>\n",
       "    </tr>\n",
       "    <tr>\n",
       "      <th>2018-03-01 04:00:00</th>\n",
       "      <td>43</td>\n",
       "    </tr>\n",
       "    <tr>\n",
       "      <th>...</th>\n",
       "      <td>...</td>\n",
       "    </tr>\n",
       "    <tr>\n",
       "      <th>2018-08-31 19:00:00</th>\n",
       "      <td>136</td>\n",
       "    </tr>\n",
       "    <tr>\n",
       "      <th>2018-08-31 20:00:00</th>\n",
       "      <td>154</td>\n",
       "    </tr>\n",
       "    <tr>\n",
       "      <th>2018-08-31 21:00:00</th>\n",
       "      <td>159</td>\n",
       "    </tr>\n",
       "    <tr>\n",
       "      <th>2018-08-31 22:00:00</th>\n",
       "      <td>223</td>\n",
       "    </tr>\n",
       "    <tr>\n",
       "      <th>2018-08-31 23:00:00</th>\n",
       "      <td>205</td>\n",
       "    </tr>\n",
       "  </tbody>\n",
       "</table>\n",
       "<p>4416 rows × 1 columns</p>\n",
       "</div>"
      ],
      "text/plain": [
       "                     num_orders\n",
       "datetime                       \n",
       "2018-03-01 00:00:00         124\n",
       "2018-03-01 01:00:00          85\n",
       "2018-03-01 02:00:00          71\n",
       "2018-03-01 03:00:00          66\n",
       "2018-03-01 04:00:00          43\n",
       "...                         ...\n",
       "2018-08-31 19:00:00         136\n",
       "2018-08-31 20:00:00         154\n",
       "2018-08-31 21:00:00         159\n",
       "2018-08-31 22:00:00         223\n",
       "2018-08-31 23:00:00         205\n",
       "\n",
       "[4416 rows x 1 columns]"
      ]
     },
     "execution_count": 4,
     "metadata": {},
     "output_type": "execute_result"
    }
   ],
   "source": [
    "df = df.resample('1H').sum()\n",
    "df"
   ]
  },
  {
   "cell_type": "markdown",
   "metadata": {},
   "source": [
    "Дата установлена в качестве индекса, ресэмплинг с периодичности 10 минут до 1 часа произведён успешно. Проверено, что встречающиеся даты монотонно возрастают. В наборе данных представлены сведения с 1 марта по 31 августа 2018 года. Помимо индекса присутствует только один столбец - зависимая переменная."
   ]
  },
  {
   "cell_type": "markdown",
   "metadata": {},
   "source": [
    "## Анализ"
   ]
  },
  {
   "cell_type": "markdown",
   "metadata": {},
   "source": [
    "### Исследование сезонности"
   ]
  },
  {
   "cell_type": "markdown",
   "metadata": {},
   "source": [
    "Исследуем сезонность. Как видно, тренд - в целом возрастающее количество заказов, сезонность наблюдается с периодичностью, похожей на неделю (сезонность по дням недели), а скачки активности в остатках часто расположены рядом с праздниками (8 марта, майские праздники, 12 июня). В свою очередь, на уровне недели наблюдается сезонность внутри каждого дня по периодам, близким к часу-двум:"
   ]
  },
  {
   "cell_type": "code",
   "execution_count": 5,
   "metadata": {},
   "outputs": [
    {
     "data": {
      "image/png": "[encoded data removed]",
      "text/plain": [
       "<Figure size 600x800 with 3 Axes>"
      ]
     },
     "metadata": {},
     "output_type": "display_data"
    }
   ],
   "source": [
    "decomposed = seasonal_decompose(df[target].resample('1D').sum())\n",
    "plt.figure(figsize=(6, 8))\n",
    "plt.subplot(311)\n",
    "decomposed.trend.plot(ax=plt.gca())\n",
    "plt.title('Тренд')\n",
    "plt.xlabel('Дата')\n",
    "plt.ylabel('Количество заказов')\n",
    "plt.subplot(312)\n",
    "decomposed.seasonal.plot(ax=plt.gca()) \n",
    "plt.title('Сезонность')\n",
    "plt.xlabel('Дата')\n",
    "plt.ylabel('Количество заказов')\n",
    "plt.subplot(313)\n",
    "decomposed.resid.plot(ax=plt.gca()) \n",
    "plt.title('Остатки')\n",
    "plt.xlabel('Дата')\n",
    "plt.ylabel('Количество заказов')\n",
    "plt.tight_layout()"
   ]
  },
  {
   "cell_type": "markdown",
   "metadata": {},
   "source": [
    "Дополнительно проверим, как меняется количество суммарное количество заказов за день, неделю и месяц:"
   ]
  },
  {
   "cell_type": "code",
   "execution_count": 6,
   "metadata": {},
   "outputs": [
    {
     "data": {
      "image/png": "[encoded data removed]",
      "text/plain": [
       "<Figure size 600x800 with 3 Axes>"
      ]
     },
     "metadata": {},
     "output_type": "display_data"
    }
   ],
   "source": [
    "decomposed1 = seasonal_decompose(df.loc['2018-04-01':'2018-04-07', target])\n",
    "plt.figure(figsize=(6, 8))\n",
    "plt.subplot(311)\n",
    "decomposed1.trend.plot(ax=plt.gca())\n",
    "plt.title('Тренд')\n",
    "plt.xlabel('Дата')\n",
    "plt.ylabel('Количество заказов')\n",
    "plt.subplot(312)\n",
    "decomposed1.seasonal.plot(ax=plt.gca()) \n",
    "plt.title('Сезонность')\n",
    "plt.xlabel('Дата')\n",
    "plt.ylabel('Количество заказов')\n",
    "plt.subplot(313)\n",
    "decomposed1.resid.plot(ax=plt.gca()) \n",
    "plt.title('Остатки')\n",
    "plt.xlabel('Дата')\n",
    "plt.ylabel('Количество заказов')\n",
    "plt.tight_layout()"
   ]
  },
  {
   "cell_type": "markdown",
   "metadata": {},
   "source": [
    "### Создание и проверка состоятельности переменных"
   ]
  },
  {
   "cell_type": "markdown",
   "metadata": {},
   "source": [
    "На основе приведённых графиков создадим новые календарные признаки, отражающие основные элементы сезонности и тренда, без потери информации о дате и времени. Такими переменными станут номер часа внутри суток, лень недели и номер недели. Дополнительно добавим переменные с отстающими значениями и скользящим средним:"
   ]
  },
  {
   "cell_type": "code",
   "execution_count": 7,
   "metadata": {},
   "outputs": [],
   "source": [
    "df['hour'] = df.index.hour\n",
    "df['weekofyear'] = df.index.isocalendar().week\n",
    "df['dayofweek'] = df.index.dayofweek\n",
    "\n",
    "max_lag = 7\n",
    "rolling_mean_size = 7\n",
    "\n",
    "for lag in range(1, max_lag + 1):\n",
    "    df['lag_{}'.format(lag)] = df[target].shift(lag)\n",
    "\n",
    "df['rolling_mean'] = df[target].shift().rolling(rolling_mean_size).mean()\n",
    "\n",
    "#df['out'] = 0\n",
    "#df[(df.index.day==8) & (df.index.month==3) | (df.index.day==1) & (df.index.month==5) | (df.index.day==9) & (df.index.month==5) | (df.index.day==12) & (df.index.month==6)] = 1\n",
    "\n",
    "df = df.dropna()"
   ]
  },
  {
   "cell_type": "markdown",
   "metadata": {},
   "source": [
    "Ещё раз убедимся в правильности выделенных переменных и посмотрим на то, как меняется среднее значение в каждый час дня, день недели и каждую неделю (серым выделены значения стандартных отклонений). Как видно, пик активности приходится на ночь, когда городской транспорт не работает, а основной спад - на раннее утро с 5 до 7-8."
   ]
  },
  {
   "cell_type": "code",
   "execution_count": 8,
   "metadata": {},
   "outputs": [
    {
     "data": {
      "image/png": "[encoded data removed]",
      "text/plain": [
       "<Figure size 640x480 with 1 Axes>"
      ]
     },
     "metadata": {},
     "output_type": "display_data"
    }
   ],
   "source": [
    "df.groupby('hour')['num_orders'].mean().plot(kind='bar', color='blue')\n",
    "df.groupby('hour')['num_orders'].std().plot(kind='bar', color='yellow', alpha=0.5)\n",
    "plt.title('Среднее количество заказов с стандартное отклонение в каждый час суток')\n",
    "plt.xlabel('Час')\n",
    "plt.ylabel('Количество заказов')\n",
    "plt.show()"
   ]
  },
  {
   "cell_type": "markdown",
   "metadata": {},
   "source": [
    "По дням недели разница в среднем не велика, небольшие пики приходятся на понедельник и пятницу, а спад на вторник."
   ]
  },
  {
   "cell_type": "code",
   "execution_count": 9,
   "metadata": {
    "scrolled": true
   },
   "outputs": [
    {
     "data": {
      "image/png": "[encoded data removed]",
      "text/plain": [
       "<Figure size 640x480 with 1 Axes>"
      ]
     },
     "metadata": {},
     "output_type": "display_data"
    }
   ],
   "source": [
    "df.groupby('dayofweek')['num_orders'].mean().plot(kind='bar', color='blue')\n",
    "df.groupby('dayofweek')['num_orders'].std().plot(kind='bar', color='yellow', alpha=0.5)\n",
    "plt.title('Среднее количество заказов с стандартное отклонение в каждый день недели')\n",
    "plt.xlabel('День недели')\n",
    "plt.ylabel('Количество заказов')\n",
    "plt.show()"
   ]
  },
  {
   "cell_type": "markdown",
   "metadata": {},
   "source": [
    "По номерам недели виден отчётливый восходящий тренд."
   ]
  },
  {
   "cell_type": "code",
   "execution_count": 10,
   "metadata": {},
   "outputs": [
    {
     "data": {
      "image/png": "[encoded data removed]",
      "text/plain": [
       "<Figure size 640x480 with 1 Axes>"
      ]
     },
     "metadata": {},
     "output_type": "display_data"
    }
   ],
   "source": [
    "df.groupby('weekofyear')['num_orders'].mean().plot(kind='bar', color='blue')\n",
    "df.groupby('weekofyear')['num_orders'].std().plot(kind='bar', color='yellow', alpha=0.5)\n",
    "plt.title('Среднее количество заказов с стандартное отклонение в каждую неделю')\n",
    "plt.xlabel('Номер недели')\n",
    "plt.ylabel('Количество заказов')\n",
    "plt.show()"
   ]
  },
  {
   "cell_type": "markdown",
   "metadata": {},
   "source": [
    "По итогам анализа видно, что час и день недели нелинейно и немонотонно связаны с количеством заказов, а значит, эти переменные лучше считать категориальными."
   ]
  },
  {
   "cell_type": "markdown",
   "metadata": {},
   "source": [
    "Проверим стационарность ряда. p-значение 0,028 менее уровня значимости 0,05; ряд можно считать стационарным."
   ]
  },
  {
   "cell_type": "code",
   "execution_count": 11,
   "metadata": {
    "scrolled": true
   },
   "outputs": [
    {
     "name": "stdout",
     "output_type": "stream",
     "text": [
      "ADF Statistic: -3.0806369578196593\n",
      "p-value: 0.02801972266684902\n",
      "Critical Values: {'1%': -3.4318445496379937, '5%': -2.8622004086791435, '10%': -2.567121539885148}\n"
     ]
    }
   ],
   "source": [
    "result = adfuller(df['num_orders'])\n",
    "print(\"ADF Statistic:\", result[0])\n",
    "print(\"p-value:\", result[1])\n",
    "print(\"Critical Values:\", result[4])"
   ]
  },
  {
   "cell_type": "markdown",
   "metadata": {},
   "source": [
    "## Обучение"
   ]
  },
  {
   "cell_type": "markdown",
   "metadata": {},
   "source": [
    "### Настройка гиперпараметров"
   ]
  },
  {
   "cell_type": "markdown",
   "metadata": {},
   "source": [
    "Разделим выборку на обучающую и тестовую в соотношении 9 к 1 и проведём поиск по решётке. Испробуем линейную регрессию с квадратичной регуляризацией, алгоритм ближайших соседей и метод опорных векторов с двумя ядрами: линейным и радиальным."
   ]
  },
  {
   "cell_type": "code",
   "execution_count": 12,
   "metadata": {},
   "outputs": [],
   "source": [
    "df.loc[:, 'dayofweek'] = df['dayofweek'].astype('category')\n",
    "df.loc[:, 'hour'] = df['hour'].astype('category')\n",
    "X_train, X_test, y_train, y_test = train_test_split(df.drop(target, axis=1), df[target], shuffle = False, test_size=0.1)\n",
    "\n",
    "ohe_columns = df[['dayofweek', 'hour']].columns\n",
    "num_columns = df.drop([target, 'dayofweek', 'hour'], axis=1).columns\n",
    "\n",
    "num_pipe = Pipeline([\n",
    "    ('scaler', MinMaxScaler()),\n",
    "    ('poly', PolynomialFeatures(degree=2, include_bias=False))\n",
    "])\n",
    "\n",
    "ohe_pipe = Pipeline([\n",
    "    ('ohe', OneHotEncoder(drop='first', sparse_output=False, handle_unknown='ignore')),\n",
    "])\n",
    "\n",
    "data_preprocessor = ColumnTransformer([\n",
    "    ('ohe', ohe_pipe, ohe_columns),\n",
    "    ('num', num_pipe, num_columns),\n",
    "],\n",
    "    remainder='passthrough'\n",
    ")\n",
    "\n",
    "pipe_final = Pipeline([\n",
    "    ('preprocessor', data_preprocessor),\n",
    "    ('selector', SelectKBest(k='all')),\n",
    "    ('models', DecisionTreeRegressor(random_state=RANDOM_STATE))\n",
    "])\n"
   ]
  },
  {
   "cell_type": "code",
   "execution_count": 13,
   "metadata": {},
   "outputs": [
    {
     "name": "stdout",
     "output_type": "stream",
     "text": [
      "<class 'pandas.core.frame.DataFrame'>\n",
      "DatetimeIndex: 4409 entries, 2018-03-01 07:00:00 to 2018-08-31 23:00:00\n",
      "Freq: h\n",
      "Data columns (total 12 columns):\n",
      " #   Column        Non-Null Count  Dtype  \n",
      "---  ------        --------------  -----  \n",
      " 0   num_orders    4409 non-null   int64  \n",
      " 1   hour          4409 non-null   int32  \n",
      " 2   weekofyear    4409 non-null   UInt32 \n",
      " 3   dayofweek     4409 non-null   int32  \n",
      " 4   lag_1         4409 non-null   float64\n",
      " 5   lag_2         4409 non-null   float64\n",
      " 6   lag_3         4409 non-null   float64\n",
      " 7   lag_4         4409 non-null   float64\n",
      " 8   lag_5         4409 non-null   float64\n",
      " 9   lag_6         4409 non-null   float64\n",
      " 10  lag_7         4409 non-null   float64\n",
      " 11  rolling_mean  4409 non-null   float64\n",
      "dtypes: UInt32(1), float64(8), int32(2), int64(1)\n",
      "memory usage: 400.4 KB\n"
     ]
    }
   ],
   "source": [
    "df.info()"
   ]
  },
  {
   "cell_type": "code",
   "execution_count": 14,
   "metadata": {},
   "outputs": [],
   "source": [
    "param_grid = [\n",
    "    {\n",
    "        'models': [Ridge(random_state=RANDOM_STATE, max_iter=5000)],\n",
    "        'models__alpha': [0.01, 0.1, 0.5, 1, 5],\n",
    "        'preprocessor__num__scaler': [StandardScaler(), MinMaxScaler(), RobustScaler()],\n",
    "    },\n",
    "\n",
    "    {\n",
    "        'models': [KNeighborsRegressor()],\n",
    "        'models__n_neighbors': range(1, 11),\n",
    "        'models__metric': ['manhattan', 'euclidean'],\n",
    "        'models__algorithm': ['auto', 'brute'],\n",
    "        'models__weights': ['uniform', 'distance'],\n",
    "        'preprocessor__num__poly': ['passthrough'],\n",
    "        'preprocessor__num__scaler': [StandardScaler(), RobustScaler()]\n",
    "    },\n",
    "    {\n",
    "        'models': [SVR()],\n",
    "        'models__C': [10, 40, 60, 80],\n",
    "        'models__gamma': [0.05, 0.1, 0.5],\n",
    "        'models__kernel': ['rbf'],\n",
    "        'preprocessor__num__poly': ['passthrough'],\n",
    "        'preprocessor__num__scaler': [RobustScaler()],\n",
    "    },\n",
    "    {\n",
    "        'models': [SVR()],\n",
    "        'models__C': [10, 20, 40],\n",
    "        'models__kernel': ['linear'],\n",
    "        'preprocessor__num__scaler': [StandardScaler(), RobustScaler()],\n",
    "    },\n",
    "    {\n",
    "        'models': [CatBoostRegressor(random_state=RANDOM_STATE, loss_function='RMSE', verbose=False, cat_features=['ohe__dayofweek', 'ohe__hour'])],\n",
    "        'models__depth': [4, 5],\n",
    "        'models__iterations': [240, 360],\n",
    "        'models__learning_rate': [0.1, 0.2],\n",
    "        'preprocessor__ohe': ['passthrough'],\n",
    "        'preprocessor__num__poly': ['passthrough'],\n",
    "    },\n",
    "]"
   ]
  },
  {
   "cell_type": "markdown",
   "metadata": {},
   "source": [
    "### Поиск по решётке"
   ]
  },
  {
   "cell_type": "code",
   "execution_count": 15,
   "metadata": {},
   "outputs": [
    {
     "name": "stdout",
     "output_type": "stream",
     "text": [
      "Лучшая модель и её параметры:\n",
      "\n",
      " Pipeline(steps=[('preprocessor',\n",
      "                 ColumnTransformer(remainder='passthrough',\n",
      "                                   transformers=[('ohe', 'passthrough',\n",
      "                                                  Index(['dayofweek', 'hour'], dtype='object')),\n",
      "                                                 ('num',\n",
      "                                                  Pipeline(steps=[('scaler',\n",
      "                                                                   MinMaxScaler()),\n",
      "                                                                  ('poly',\n",
      "                                                                   'passthrough')]),\n",
      "                                                  Index(['weekofyear', 'lag_1', 'lag_2', 'lag_3', 'lag_4', 'lag_5', 'lag_6',\n",
      "       'lag_7', 'rolling_mean'],\n",
      "      dtype='object'))])),\n",
      "                ('selector', SelectKBest(k='all')),\n",
      "                ('models',\n",
      "                 <catboost.core.CatBoostRegressor object at 0x0000026710C267D0>)])\n",
      "{'models': <catboost.core.CatBoostRegressor object at 0x0000026710C24450>, 'models__depth': 5, 'models__iterations': 240, 'models__learning_rate': 0.1, 'preprocessor__num__poly': 'passthrough', 'preprocessor__ohe': 'passthrough'}\n",
      "Метрика RMSE лучшей модели на тренировочной выборке: 24.579\n"
     ]
    }
   ],
   "source": [
    "hyper_search = GridSearchCV(\n",
    "    pipe_final,\n",
    "    param_grid,\n",
    "    cv=TimeSeriesSplit(n_splits = 5),\n",
    "    scoring='neg_root_mean_squared_error',\n",
    "    verbose=3,\n",
    "    n_jobs=-1,\n",
    "    return_train_score=True,\n",
    ")\n",
    "\n",
    "use_prev = True\n",
    "filename = 'temp_model.sav'\n",
    "if use_prev:\n",
    "    hyper_search = pickle.load(open(filename, 'rb'))\n",
    "else:\n",
    "    hyper_search.fit(X_train, y_train)\n",
    "    pickle.dump(hyper_search, open(filename, 'wb'))\n",
    "\n",
    "print('Лучшая модель и её параметры:\\n\\n', hyper_search.best_estimator_)\n",
    "print(hyper_search.best_params_)\n",
    "print(f'Метрика RMSE лучшей модели на тренировочной выборке: {-hyper_search.best_score_:.3f}')"
   ]
  },
  {
   "cell_type": "markdown",
   "metadata": {},
   "source": [
    "Как видно, наилучший полученный результат при кросс-валидации: 24,579; лучшая модель - градиентный бустинг с глубиной 5, количеством деревьев 240, скоростью обучения 0.1; стандартизация - MinMaxScaler. При этом линейные модели показывают себя почти так же хорошо, а нелинейные модели (кроме бустинга) демонстрируют заметно худшее качество, что скорее всего говорит о квазилинейном характере связи."
   ]
  },
  {
   "cell_type": "markdown",
   "metadata": {},
   "source": [
    "## Тестирование"
   ]
  },
  {
   "cell_type": "code",
   "execution_count": 16,
   "metadata": {},
   "outputs": [
    {
     "name": "stdout",
     "output_type": "stream",
     "text": [
      "RMSE на тестовой выборке: 40.17\n"
     ]
    }
   ],
   "source": [
    "pred_test = hyper_search.predict(X_test)\n",
    "print(f'RMSE на тестовой выборке: {rmse(pred_test, y_test):.2f}')"
   ]
  },
  {
   "cell_type": "markdown",
   "metadata": {},
   "source": [
    "Как видно, линейная модель показывает качество RMSE=40,17 на тестовой выборке, что меньше ключевого порога в 48."
   ]
  },
  {
   "cell_type": "markdown",
   "metadata": {},
   "source": [
    "## Вывод"
   ]
  },
  {
   "cell_type": "markdown",
   "metadata": {},
   "source": [
    "В ходе проекта были получены следующие результаты:  \n",
    "1. Данные загружены и ресэмплированы к одному часу, пропусков нет. Датасет охватывает период с 1 марта по 31 августа 2018 года.\n",
    "2. \n",
    " * В данных обнаружена сезонность по дням недели и часам в дне. Наибольший спад количества заказов с 5 до 7 утра, пик - ночью. Разница по дням недели невелика. Установлено, что ряд стационарен на уровне значимости 0.05, среднее количество заказов в час почти монотонно возрастает с каждой неделей с менее 60 до почти 160. \n",
    " * Созданы переменные с указанием часа, дня недели и номера недели. Также добавлены отстающие значения и скользящее среднее за 7 дней.\n",
    "3. Найдена наилучшая модель: градиентный бустинг с параметрами глубина дерева: 5; количество деревьев: 240; скорость обучения: 0,1; стандартизация: MinMax. RMSE при кросс-валидации: 24,579. \n",
    "4. RMSE на тестовом наборе данных: 40,17. Показатель на тесте менее 48, требуемый результат достигнут."
   ]
  },
  {
   "cell_type": "code",
   "execution_count": null,
   "metadata": {},
   "outputs": [],
   "source": []
  }
 ],
 "metadata": {
  "ExecuteTimeLog": [
   {
    "duration": 51,
    "start_time": "2024-03-29T06:13:10.332Z"
   },
   {
    "duration": 393,
    "start_time": "2024-03-29T06:13:20.491Z"
   },
   {
    "duration": 104,
    "start_time": "2024-03-29T06:13:20.929Z"
   },
   {
    "duration": 64,
    "start_time": "2024-03-29T06:13:41.523Z"
   },
   {
    "duration": 53,
    "start_time": "2024-03-29T06:15:32.660Z"
   },
   {
    "duration": 8,
    "start_time": "2024-03-29T06:17:46.548Z"
   },
   {
    "duration": 10,
    "start_time": "2024-03-29T06:17:58.771Z"
   },
   {
    "duration": 60,
    "start_time": "2024-03-29T06:18:11.003Z"
   },
   {
    "duration": 56,
    "start_time": "2024-03-29T14:05:07.837Z"
   },
   {
    "duration": 346,
    "start_time": "2024-03-29T14:05:11.139Z"
   },
   {
    "duration": 117,
    "start_time": "2024-03-29T14:05:11.487Z"
   },
   {
    "duration": 9,
    "start_time": "2024-03-29T14:45:23.973Z"
   },
   {
    "duration": 10,
    "start_time": "2024-03-29T14:45:26.968Z"
   },
   {
    "duration": 92,
    "start_time": "2024-03-29T14:46:02.832Z"
   },
   {
    "duration": 7,
    "start_time": "2024-03-29T14:46:09.449Z"
   },
   {
    "duration": 7,
    "start_time": "2024-03-29T14:46:14.273Z"
   },
   {
    "duration": 336,
    "start_time": "2024-03-29T14:46:46.537Z"
   },
   {
    "duration": 67,
    "start_time": "2024-03-29T14:46:49.744Z"
   },
   {
    "duration": 8,
    "start_time": "2024-03-29T14:46:52.809Z"
   },
   {
    "duration": 9,
    "start_time": "2024-03-29T14:46:54.601Z"
   },
   {
    "duration": 230,
    "start_time": "2024-03-29T14:46:58.298Z"
   },
   {
    "duration": 14,
    "start_time": "2024-03-29T14:47:27.898Z"
   },
   {
    "duration": 196,
    "start_time": "2024-03-29T14:47:37.906Z"
   },
   {
    "duration": 185,
    "start_time": "2024-03-29T14:53:57.146Z"
   },
   {
    "duration": 254,
    "start_time": "2024-03-29T14:54:48.189Z"
   },
   {
    "duration": 186,
    "start_time": "2024-03-29T14:54:57.086Z"
   },
   {
    "duration": 182,
    "start_time": "2024-03-29T14:55:02.740Z"
   },
   {
    "duration": 183,
    "start_time": "2024-03-29T14:56:29.683Z"
   },
   {
    "duration": 452,
    "start_time": "2024-03-29T15:01:13.278Z"
   },
   {
    "duration": 631,
    "start_time": "2024-03-29T15:02:18.054Z"
   },
   {
    "duration": 708,
    "start_time": "2024-03-29T15:02:54.814Z"
   },
   {
    "duration": 634,
    "start_time": "2024-03-29T15:04:31.150Z"
   },
   {
    "duration": 184,
    "start_time": "2024-03-29T15:04:50.605Z"
   },
   {
    "duration": 952,
    "start_time": "2024-03-29T15:11:51.234Z"
   },
   {
    "duration": 473,
    "start_time": "2024-03-29T15:13:03.325Z"
   },
   {
    "duration": 834,
    "start_time": "2024-03-29T15:13:27.325Z"
   },
   {
    "duration": 11,
    "start_time": "2024-03-29T15:14:16.869Z"
   },
   {
    "duration": 51,
    "start_time": "2024-03-29T15:14:32.213Z"
   },
   {
    "duration": 13,
    "start_time": "2024-03-29T15:14:43.562Z"
   },
   {
    "duration": 11,
    "start_time": "2024-03-29T15:14:56.276Z"
   },
   {
    "duration": 11,
    "start_time": "2024-03-29T15:15:32.428Z"
   },
   {
    "duration": 12,
    "start_time": "2024-03-29T15:16:01.931Z"
   },
   {
    "duration": 628,
    "start_time": "2024-03-29T15:16:24.939Z"
   },
   {
    "duration": 8,
    "start_time": "2024-03-29T15:57:06.301Z"
   },
   {
    "duration": 10,
    "start_time": "2024-03-29T15:58:38.735Z"
   },
   {
    "duration": 118,
    "start_time": "2024-03-30T00:31:37.716Z"
   },
   {
    "duration": 11,
    "start_time": "2024-03-30T00:31:47.384Z"
   },
   {
    "duration": 20,
    "start_time": "2024-03-30T00:35:55.036Z"
   },
   {
    "duration": 16,
    "start_time": "2024-03-30T00:37:35.391Z"
   },
   {
    "duration": 62,
    "start_time": "2024-03-30T00:38:01.310Z"
   },
   {
    "duration": 15,
    "start_time": "2024-03-30T00:38:13.735Z"
   },
   {
    "duration": 4,
    "start_time": "2024-03-30T00:38:36.454Z"
   },
   {
    "duration": 11,
    "start_time": "2024-03-30T00:38:45.649Z"
   },
   {
    "duration": 5,
    "start_time": "2024-03-30T00:38:54.142Z"
   },
   {
    "duration": 5,
    "start_time": "2024-03-30T00:38:58.551Z"
   },
   {
    "duration": 9,
    "start_time": "2024-03-30T00:39:24.750Z"
   },
   {
    "duration": 8,
    "start_time": "2024-03-30T00:40:08.149Z"
   },
   {
    "duration": 5,
    "start_time": "2024-03-30T00:40:31.711Z"
   },
   {
    "duration": 14,
    "start_time": "2024-03-30T00:41:01.151Z"
   },
   {
    "duration": 19,
    "start_time": "2024-03-30T00:41:08.202Z"
   },
   {
    "duration": 20,
    "start_time": "2024-03-30T00:41:36.062Z"
   },
   {
    "duration": 29,
    "start_time": "2024-03-30T00:42:48.062Z"
   },
   {
    "duration": 285,
    "start_time": "2024-03-30T01:02:50.397Z"
   },
   {
    "duration": 40,
    "start_time": "2024-03-30T01:03:06.584Z"
   },
   {
    "duration": 75,
    "start_time": "2024-03-30T01:05:03.017Z"
   },
   {
    "duration": 3,
    "start_time": "2024-03-30T01:05:10.318Z"
   },
   {
    "duration": 14,
    "start_time": "2024-03-30T01:09:15.801Z"
   },
   {
    "duration": 1085,
    "start_time": "2024-03-30T01:09:50.836Z"
   },
   {
    "duration": 1180,
    "start_time": "2024-03-30T01:10:12.148Z"
   },
   {
    "duration": 5858,
    "start_time": "2024-03-30T01:10:25.971Z"
   },
   {
    "duration": 6163,
    "start_time": "2024-03-30T01:11:41.499Z"
   },
   {
    "duration": 15,
    "start_time": "2024-03-30T01:11:51.059Z"
   },
   {
    "duration": 9,
    "start_time": "2024-03-30T01:12:09.185Z"
   },
   {
    "duration": 11509,
    "start_time": "2024-03-30T01:13:13.572Z"
   },
   {
    "duration": 14,
    "start_time": "2024-03-30T01:13:36.891Z"
   },
   {
    "duration": 9,
    "start_time": "2024-03-30T01:13:46.579Z"
   },
   {
    "duration": 11324,
    "start_time": "2024-03-30T01:14:08.723Z"
   },
   {
    "duration": 15,
    "start_time": "2024-03-30T01:14:20.049Z"
   },
   {
    "duration": 8,
    "start_time": "2024-03-30T01:14:38.964Z"
   },
   {
    "duration": 10,
    "start_time": "2024-03-30T01:15:14.835Z"
   },
   {
    "duration": 24216,
    "start_time": "2024-03-30T01:16:04.602Z"
   },
   {
    "duration": 14,
    "start_time": "2024-03-30T01:16:30.403Z"
   },
   {
    "duration": 10,
    "start_time": "2024-03-30T01:16:32.747Z"
   },
   {
    "duration": 10,
    "start_time": "2024-03-30T01:17:03.027Z"
   },
   {
    "duration": 3,
    "start_time": "2024-03-30T01:18:01.933Z"
   },
   {
    "duration": 25,
    "start_time": "2024-03-30T01:18:51.840Z"
   },
   {
    "duration": 16156,
    "start_time": "2024-03-30T01:19:57.854Z"
   },
   {
    "duration": 4,
    "start_time": "2024-03-30T01:20:14.013Z"
   },
   {
    "duration": 87,
    "start_time": "2024-03-30T01:20:14.019Z"
   },
   {
    "duration": 6,
    "start_time": "2024-03-30T01:20:14.107Z"
   },
   {
    "duration": 18,
    "start_time": "2024-03-30T01:20:14.115Z"
   },
   {
    "duration": 25,
    "start_time": "2024-03-30T01:20:14.134Z"
   },
   {
    "duration": 355,
    "start_time": "2024-03-30T01:20:14.160Z"
   },
   {
    "duration": 27,
    "start_time": "2024-03-30T01:20:14.517Z"
   },
   {
    "duration": 0,
    "start_time": "2024-03-30T01:20:14.545Z"
   },
   {
    "duration": 20,
    "start_time": "2024-03-30T01:20:35.726Z"
   },
   {
    "duration": 189,
    "start_time": "2024-03-30T01:20:53.503Z"
   },
   {
    "duration": 34,
    "start_time": "2024-03-30T01:21:05.053Z"
   },
   {
    "duration": 4,
    "start_time": "2024-03-30T01:21:17.556Z"
   },
   {
    "duration": 12,
    "start_time": "2024-03-30T01:21:20.428Z"
   },
   {
    "duration": 10,
    "start_time": "2024-03-30T01:22:32.965Z"
   },
   {
    "duration": 9313,
    "start_time": "2024-03-30T01:22:39.127Z"
   },
   {
    "duration": 4,
    "start_time": "2024-03-30T01:22:48.442Z"
   },
   {
    "duration": 78,
    "start_time": "2024-03-30T01:22:48.448Z"
   },
   {
    "duration": 7,
    "start_time": "2024-03-30T01:22:48.528Z"
   },
   {
    "duration": 8,
    "start_time": "2024-03-30T01:22:48.538Z"
   },
   {
    "duration": 40,
    "start_time": "2024-03-30T01:22:48.548Z"
   },
   {
    "duration": 329,
    "start_time": "2024-03-30T01:22:48.590Z"
   },
   {
    "duration": 663,
    "start_time": "2024-03-30T01:22:48.921Z"
   },
   {
    "duration": 14,
    "start_time": "2024-03-30T01:22:49.585Z"
   },
   {
    "duration": 9,
    "start_time": "2024-03-30T01:24:17.685Z"
   },
   {
    "duration": 283,
    "start_time": "2024-03-30T01:25:38.823Z"
   },
   {
    "duration": 9319,
    "start_time": "2024-03-30T01:26:26.801Z"
   },
   {
    "duration": 4,
    "start_time": "2024-03-30T01:26:36.122Z"
   },
   {
    "duration": 81,
    "start_time": "2024-03-30T01:26:36.128Z"
   },
   {
    "duration": 7,
    "start_time": "2024-03-30T01:26:36.210Z"
   },
   {
    "duration": 11,
    "start_time": "2024-03-30T01:26:36.219Z"
   },
   {
    "duration": 197,
    "start_time": "2024-03-30T01:26:36.231Z"
   },
   {
    "duration": 16,
    "start_time": "2024-03-30T01:26:36.429Z"
   },
   {
    "duration": 678,
    "start_time": "2024-03-30T01:26:36.447Z"
   },
   {
    "duration": 157,
    "start_time": "2024-03-30T01:26:37.127Z"
   },
   {
    "duration": 97,
    "start_time": "2024-03-30T01:26:37.286Z"
   },
   {
    "duration": 9263,
    "start_time": "2024-03-30T01:27:23.442Z"
   },
   {
    "duration": 5,
    "start_time": "2024-03-30T01:27:32.707Z"
   },
   {
    "duration": 75,
    "start_time": "2024-03-30T01:27:32.713Z"
   },
   {
    "duration": 8,
    "start_time": "2024-03-30T01:27:32.791Z"
   },
   {
    "duration": 10,
    "start_time": "2024-03-30T01:27:32.800Z"
   },
   {
    "duration": 192,
    "start_time": "2024-03-30T01:27:32.811Z"
   },
   {
    "duration": 13,
    "start_time": "2024-03-30T01:27:33.005Z"
   },
   {
    "duration": 664,
    "start_time": "2024-03-30T01:27:33.020Z"
   },
   {
    "duration": 18,
    "start_time": "2024-03-30T01:27:33.685Z"
   },
   {
    "duration": 85,
    "start_time": "2024-03-30T01:27:33.705Z"
   },
   {
    "duration": 9175,
    "start_time": "2024-03-30T01:27:59.721Z"
   },
   {
    "duration": 4,
    "start_time": "2024-03-30T01:28:08.899Z"
   },
   {
    "duration": 68,
    "start_time": "2024-03-30T01:28:08.904Z"
   },
   {
    "duration": 6,
    "start_time": "2024-03-30T01:28:08.974Z"
   },
   {
    "duration": 9,
    "start_time": "2024-03-30T01:28:08.982Z"
   },
   {
    "duration": 215,
    "start_time": "2024-03-30T01:28:08.992Z"
   },
   {
    "duration": 22,
    "start_time": "2024-03-30T01:28:09.208Z"
   },
   {
    "duration": 776,
    "start_time": "2024-03-30T01:28:09.231Z"
   },
   {
    "duration": 14,
    "start_time": "2024-03-30T01:28:10.009Z"
   },
   {
    "duration": 102,
    "start_time": "2024-03-30T01:28:10.083Z"
   },
   {
    "duration": 9517,
    "start_time": "2024-03-30T01:28:55.856Z"
   },
   {
    "duration": 3,
    "start_time": "2024-03-30T01:29:05.376Z"
   },
   {
    "duration": 79,
    "start_time": "2024-03-30T01:29:05.380Z"
   },
   {
    "duration": 6,
    "start_time": "2024-03-30T01:29:05.461Z"
   },
   {
    "duration": 12,
    "start_time": "2024-03-30T01:29:05.469Z"
   },
   {
    "duration": 189,
    "start_time": "2024-03-30T01:29:05.482Z"
   },
   {
    "duration": 22,
    "start_time": "2024-03-30T01:29:05.672Z"
   },
   {
    "duration": 766,
    "start_time": "2024-03-30T01:29:05.696Z"
   },
   {
    "duration": 23,
    "start_time": "2024-03-30T01:29:06.463Z"
   },
   {
    "duration": 96,
    "start_time": "2024-03-30T01:29:06.491Z"
   },
   {
    "duration": 9275,
    "start_time": "2024-03-30T01:29:31.779Z"
   },
   {
    "duration": 4,
    "start_time": "2024-03-30T01:29:41.057Z"
   },
   {
    "duration": 66,
    "start_time": "2024-03-30T01:29:41.063Z"
   },
   {
    "duration": 7,
    "start_time": "2024-03-30T01:29:41.131Z"
   },
   {
    "duration": 8,
    "start_time": "2024-03-30T01:29:41.140Z"
   },
   {
    "duration": 194,
    "start_time": "2024-03-30T01:29:41.149Z"
   },
   {
    "duration": 22,
    "start_time": "2024-03-30T01:29:41.345Z"
   },
   {
    "duration": 726,
    "start_time": "2024-03-30T01:29:41.369Z"
   },
   {
    "duration": 14,
    "start_time": "2024-03-30T01:29:42.096Z"
   },
   {
    "duration": 8,
    "start_time": "2024-03-30T01:29:42.183Z"
   },
   {
    "duration": 12,
    "start_time": "2024-03-30T01:30:15.216Z"
   },
   {
    "duration": 6,
    "start_time": "2024-03-30T01:30:16.799Z"
   },
   {
    "duration": 9350,
    "start_time": "2024-03-30T01:30:29.625Z"
   },
   {
    "duration": 5,
    "start_time": "2024-03-30T01:30:38.977Z"
   },
   {
    "duration": 70,
    "start_time": "2024-03-30T01:30:38.983Z"
   },
   {
    "duration": 7,
    "start_time": "2024-03-30T01:30:39.054Z"
   },
   {
    "duration": 9,
    "start_time": "2024-03-30T01:30:39.063Z"
   },
   {
    "duration": 202,
    "start_time": "2024-03-30T01:30:39.073Z"
   },
   {
    "duration": 17,
    "start_time": "2024-03-30T01:30:39.276Z"
   },
   {
    "duration": 810,
    "start_time": "2024-03-30T01:30:39.294Z"
   },
   {
    "duration": 176,
    "start_time": "2024-03-30T01:30:40.106Z"
   },
   {
    "duration": 7,
    "start_time": "2024-03-30T01:30:40.284Z"
   },
   {
    "duration": 9314,
    "start_time": "2024-03-30T01:30:50.472Z"
   },
   {
    "duration": 4,
    "start_time": "2024-03-30T01:30:59.788Z"
   },
   {
    "duration": 72,
    "start_time": "2024-03-30T01:30:59.793Z"
   },
   {
    "duration": 7,
    "start_time": "2024-03-30T01:30:59.867Z"
   },
   {
    "duration": 8,
    "start_time": "2024-03-30T01:30:59.877Z"
   },
   {
    "duration": 190,
    "start_time": "2024-03-30T01:30:59.887Z"
   },
   {
    "duration": 26,
    "start_time": "2024-03-30T01:31:00.078Z"
   },
   {
    "duration": 690,
    "start_time": "2024-03-30T01:31:00.106Z"
   },
   {
    "duration": 87,
    "start_time": "2024-03-30T01:31:00.798Z"
   },
   {
    "duration": 112,
    "start_time": "2024-03-30T01:31:00.892Z"
   },
   {
    "duration": 123,
    "start_time": "2024-03-30T01:33:05.373Z"
   },
   {
    "duration": 167,
    "start_time": "2024-03-30T01:33:26.424Z"
   },
   {
    "duration": 214,
    "start_time": "2024-03-30T01:34:05.832Z"
   },
   {
    "duration": 581,
    "start_time": "2024-03-30T01:34:47.664Z"
   },
   {
    "duration": 9369,
    "start_time": "2024-03-30T01:35:48.913Z"
   },
   {
    "duration": 4,
    "start_time": "2024-03-30T01:35:58.285Z"
   },
   {
    "duration": 72,
    "start_time": "2024-03-30T01:35:58.290Z"
   },
   {
    "duration": 7,
    "start_time": "2024-03-30T01:35:58.364Z"
   },
   {
    "duration": 16,
    "start_time": "2024-03-30T01:35:58.372Z"
   },
   {
    "duration": 703,
    "start_time": "2024-03-30T01:35:58.389Z"
   },
   {
    "duration": 476,
    "start_time": "2024-03-30T01:35:59.094Z"
   },
   {
    "duration": 29,
    "start_time": "2024-03-30T01:35:59.572Z"
   },
   {
    "duration": 85,
    "start_time": "2024-03-30T01:35:59.602Z"
   },
   {
    "duration": 94,
    "start_time": "2024-03-30T01:35:59.691Z"
   },
   {
    "duration": 9453,
    "start_time": "2024-03-30T01:36:22.472Z"
   },
   {
    "duration": 4,
    "start_time": "2024-03-30T01:36:31.927Z"
   },
   {
    "duration": 75,
    "start_time": "2024-03-30T01:36:31.932Z"
   },
   {
    "duration": 7,
    "start_time": "2024-03-30T01:36:32.008Z"
   },
   {
    "duration": 11,
    "start_time": "2024-03-30T01:36:32.016Z"
   },
   {
    "duration": 681,
    "start_time": "2024-03-30T01:36:32.028Z"
   },
   {
    "duration": 578,
    "start_time": "2024-03-30T01:36:32.710Z"
   },
   {
    "duration": 22,
    "start_time": "2024-03-30T01:36:33.290Z"
   },
   {
    "duration": 74,
    "start_time": "2024-03-30T01:36:33.313Z"
   },
   {
    "duration": 96,
    "start_time": "2024-03-30T01:36:33.389Z"
   },
   {
    "duration": 9292,
    "start_time": "2024-03-30T01:37:14.450Z"
   },
   {
    "duration": 4,
    "start_time": "2024-03-30T01:37:23.744Z"
   },
   {
    "duration": 69,
    "start_time": "2024-03-30T01:37:23.749Z"
   },
   {
    "duration": 7,
    "start_time": "2024-03-30T01:37:23.820Z"
   },
   {
    "duration": 12,
    "start_time": "2024-03-30T01:37:23.829Z"
   },
   {
    "duration": 661,
    "start_time": "2024-03-30T01:37:23.843Z"
   },
   {
    "duration": 456,
    "start_time": "2024-03-30T01:37:24.505Z"
   },
   {
    "duration": 33,
    "start_time": "2024-03-30T01:37:24.963Z"
   },
   {
    "duration": 188,
    "start_time": "2024-03-30T01:37:24.998Z"
   },
   {
    "duration": 94,
    "start_time": "2024-03-30T01:37:25.189Z"
   },
   {
    "duration": 9442,
    "start_time": "2024-03-30T01:41:58.317Z"
   },
   {
    "duration": 4,
    "start_time": "2024-03-30T01:42:07.761Z"
   },
   {
    "duration": 98,
    "start_time": "2024-03-30T01:42:07.767Z"
   },
   {
    "duration": 8,
    "start_time": "2024-03-30T01:42:07.867Z"
   },
   {
    "duration": 11,
    "start_time": "2024-03-30T01:42:07.878Z"
   },
   {
    "duration": 799,
    "start_time": "2024-03-30T01:42:07.890Z"
   },
   {
    "duration": 480,
    "start_time": "2024-03-30T01:42:08.691Z"
   },
   {
    "duration": 26,
    "start_time": "2024-03-30T01:42:09.172Z"
   },
   {
    "duration": 13,
    "start_time": "2024-03-30T01:42:09.200Z"
   },
   {
    "duration": 75,
    "start_time": "2024-03-30T01:42:09.214Z"
   },
   {
    "duration": 9250,
    "start_time": "2024-03-30T01:42:28.729Z"
   },
   {
    "duration": 4,
    "start_time": "2024-03-30T01:42:37.982Z"
   },
   {
    "duration": 71,
    "start_time": "2024-03-30T01:42:37.987Z"
   },
   {
    "duration": 7,
    "start_time": "2024-03-30T01:42:38.059Z"
   },
   {
    "duration": 8,
    "start_time": "2024-03-30T01:42:38.068Z"
   },
   {
    "duration": 714,
    "start_time": "2024-03-30T01:42:38.078Z"
   },
   {
    "duration": 462,
    "start_time": "2024-03-30T01:42:38.793Z"
   },
   {
    "duration": 29,
    "start_time": "2024-03-30T01:42:39.257Z"
   },
   {
    "duration": 97,
    "start_time": "2024-03-30T01:42:39.287Z"
   },
   {
    "duration": 97,
    "start_time": "2024-03-30T01:42:39.386Z"
   },
   {
    "duration": 28729,
    "start_time": "2024-04-01T00:29:11.114Z"
   },
   {
    "duration": 1585,
    "start_time": "2024-04-01T00:29:39.845Z"
   },
   {
    "duration": 120,
    "start_time": "2024-04-01T00:29:41.432Z"
   },
   {
    "duration": 8,
    "start_time": "2024-04-01T00:29:41.554Z"
   },
   {
    "duration": 15,
    "start_time": "2024-04-01T00:29:41.563Z"
   },
   {
    "duration": 996,
    "start_time": "2024-04-01T00:29:41.579Z"
   },
   {
    "duration": 825,
    "start_time": "2024-04-01T00:29:42.577Z"
   },
   {
    "duration": 23,
    "start_time": "2024-04-01T00:29:43.403Z"
   },
   {
    "duration": 54,
    "start_time": "2024-04-01T00:29:43.427Z"
   },
   {
    "duration": 8,
    "start_time": "2024-04-01T00:29:43.569Z"
   },
   {
    "duration": 6,
    "start_time": "2024-04-01T00:30:29.229Z"
   },
   {
    "duration": 19,
    "start_time": "2024-04-01T00:31:08.053Z"
   },
   {
    "duration": 4,
    "start_time": "2024-04-01T00:31:18.103Z"
   },
   {
    "duration": 20,
    "start_time": "2024-04-01T00:31:28.205Z"
   },
   {
    "duration": 4,
    "start_time": "2024-04-01T00:34:12.699Z"
   },
   {
    "duration": 60,
    "start_time": "2024-04-01T00:34:15.088Z"
   },
   {
    "duration": 6,
    "start_time": "2024-04-01T00:34:21.961Z"
   },
   {
    "duration": 11,
    "start_time": "2024-04-01T00:34:32.474Z"
   },
   {
    "duration": 23,
    "start_time": "2024-04-01T00:38:11.502Z"
   },
   {
    "duration": 9209,
    "start_time": "2024-04-01T00:38:58.057Z"
   },
   {
    "duration": 4,
    "start_time": "2024-04-01T00:39:07.268Z"
   },
   {
    "duration": 75,
    "start_time": "2024-04-01T00:39:07.274Z"
   },
   {
    "duration": 6,
    "start_time": "2024-04-01T00:39:07.351Z"
   },
   {
    "duration": 8,
    "start_time": "2024-04-01T00:39:07.359Z"
   },
   {
    "duration": 909,
    "start_time": "2024-04-01T00:39:07.369Z"
   },
   {
    "duration": 6,
    "start_time": "2024-04-01T00:39:08.280Z"
   },
   {
    "duration": 14,
    "start_time": "2024-04-01T00:39:08.287Z"
   },
   {
    "duration": 893,
    "start_time": "2024-04-01T00:39:08.303Z"
   },
   {
    "duration": 24,
    "start_time": "2024-04-01T00:39:09.198Z"
   },
   {
    "duration": 45,
    "start_time": "2024-04-01T00:39:09.224Z"
   },
   {
    "duration": 95,
    "start_time": "2024-04-01T00:39:09.271Z"
   },
   {
    "duration": 9126,
    "start_time": "2024-04-01T00:39:59.675Z"
   },
   {
    "duration": 4,
    "start_time": "2024-04-01T00:40:08.803Z"
   },
   {
    "duration": 64,
    "start_time": "2024-04-01T00:40:08.808Z"
   },
   {
    "duration": 6,
    "start_time": "2024-04-01T00:40:08.874Z"
   },
   {
    "duration": 8,
    "start_time": "2024-04-01T00:40:08.881Z"
   },
   {
    "duration": 970,
    "start_time": "2024-04-01T00:40:08.890Z"
   },
   {
    "duration": 6,
    "start_time": "2024-04-01T00:40:09.865Z"
   },
   {
    "duration": 12,
    "start_time": "2024-04-01T00:40:09.872Z"
   },
   {
    "duration": 1010,
    "start_time": "2024-04-01T00:40:09.885Z"
   },
   {
    "duration": 28,
    "start_time": "2024-04-01T00:40:10.897Z"
   },
   {
    "duration": 42,
    "start_time": "2024-04-01T00:40:10.927Z"
   },
   {
    "duration": 99,
    "start_time": "2024-04-01T00:40:10.971Z"
   },
   {
    "duration": 18,
    "start_time": "2024-04-01T00:40:36.601Z"
   },
   {
    "duration": 29,
    "start_time": "2024-04-01T00:42:42.318Z"
   },
   {
    "duration": 7,
    "start_time": "2024-04-01T00:45:47.955Z"
   },
   {
    "duration": 370,
    "start_time": "2024-04-01T00:57:22.844Z"
   },
   {
    "duration": 335,
    "start_time": "2024-04-01T00:57:41.117Z"
   },
   {
    "duration": 376,
    "start_time": "2024-04-01T00:57:50.939Z"
   },
   {
    "duration": 339,
    "start_time": "2024-04-01T00:57:57.676Z"
   },
   {
    "duration": 300,
    "start_time": "2024-04-01T01:05:17.803Z"
   },
   {
    "duration": 356,
    "start_time": "2024-04-01T01:09:32.417Z"
   },
   {
    "duration": 321,
    "start_time": "2024-04-01T01:09:48.382Z"
   },
   {
    "duration": 124,
    "start_time": "2024-04-01T01:09:56.453Z"
   },
   {
    "duration": 350,
    "start_time": "2024-04-01T01:10:08.927Z"
   },
   {
    "duration": 416,
    "start_time": "2024-04-01T01:10:28.897Z"
   },
   {
    "duration": 345,
    "start_time": "2024-04-01T01:10:45.017Z"
   },
   {
    "duration": 340,
    "start_time": "2024-04-01T01:12:09.471Z"
   },
   {
    "duration": 352,
    "start_time": "2024-04-01T01:12:17.224Z"
   },
   {
    "duration": 242,
    "start_time": "2024-04-01T01:18:44.172Z"
   },
   {
    "duration": 15,
    "start_time": "2024-04-01T03:15:54.562Z"
   },
   {
    "duration": 9212,
    "start_time": "2024-04-01T03:18:30.126Z"
   },
   {
    "duration": 44,
    "start_time": "2024-04-01T03:18:39.340Z"
   },
   {
    "duration": 69,
    "start_time": "2024-04-01T03:18:39.385Z"
   },
   {
    "duration": 7,
    "start_time": "2024-04-01T03:18:39.456Z"
   },
   {
    "duration": 8,
    "start_time": "2024-04-01T03:18:39.464Z"
   },
   {
    "duration": 922,
    "start_time": "2024-04-01T03:18:39.474Z"
   },
   {
    "duration": 6,
    "start_time": "2024-04-01T03:18:40.397Z"
   },
   {
    "duration": 21,
    "start_time": "2024-04-01T03:18:40.404Z"
   },
   {
    "duration": 0,
    "start_time": "2024-04-01T03:18:40.426Z"
   },
   {
    "duration": 0,
    "start_time": "2024-04-01T03:18:40.427Z"
   },
   {
    "duration": 0,
    "start_time": "2024-04-01T03:18:40.428Z"
   },
   {
    "duration": 0,
    "start_time": "2024-04-01T03:18:40.429Z"
   },
   {
    "duration": 0,
    "start_time": "2024-04-01T03:18:40.430Z"
   },
   {
    "duration": 0,
    "start_time": "2024-04-01T03:18:40.432Z"
   },
   {
    "duration": 0,
    "start_time": "2024-04-01T03:18:40.433Z"
   },
   {
    "duration": 8969,
    "start_time": "2024-04-01T03:25:02.388Z"
   },
   {
    "duration": 5,
    "start_time": "2024-04-01T03:25:11.359Z"
   },
   {
    "duration": 69,
    "start_time": "2024-04-01T03:25:11.365Z"
   },
   {
    "duration": 6,
    "start_time": "2024-04-01T03:25:11.436Z"
   },
   {
    "duration": 7,
    "start_time": "2024-04-01T03:25:11.443Z"
   },
   {
    "duration": 1064,
    "start_time": "2024-04-01T03:25:11.451Z"
   },
   {
    "duration": 796,
    "start_time": "2024-04-01T03:25:12.517Z"
   },
   {
    "duration": 68,
    "start_time": "2024-04-01T03:25:13.314Z"
   },
   {
    "duration": 341,
    "start_time": "2024-04-01T03:25:13.384Z"
   },
   {
    "duration": 192,
    "start_time": "2024-04-01T03:25:13.727Z"
   },
   {
    "duration": 48,
    "start_time": "2024-04-01T03:25:13.920Z"
   },
   {
    "duration": 0,
    "start_time": "2024-04-01T03:25:13.970Z"
   },
   {
    "duration": 0,
    "start_time": "2024-04-01T03:25:13.971Z"
   },
   {
    "duration": 0,
    "start_time": "2024-04-01T03:25:13.972Z"
   },
   {
    "duration": 29,
    "start_time": "2024-04-01T03:26:26.413Z"
   },
   {
    "duration": 13,
    "start_time": "2024-04-01T03:26:36.806Z"
   },
   {
    "duration": 20,
    "start_time": "2024-04-01T03:26:56.349Z"
   },
   {
    "duration": 18,
    "start_time": "2024-04-01T03:27:00.638Z"
   },
   {
    "duration": 6,
    "start_time": "2024-04-01T03:27:22.516Z"
   },
   {
    "duration": 10,
    "start_time": "2024-04-01T03:27:24.419Z"
   },
   {
    "duration": 3,
    "start_time": "2024-04-01T03:32:14.839Z"
   },
   {
    "duration": 11,
    "start_time": "2024-04-01T03:32:18.030Z"
   },
   {
    "duration": 1709,
    "start_time": "2024-04-01T03:33:30.353Z"
   },
   {
    "duration": 841,
    "start_time": "2024-04-01T03:34:35.461Z"
   },
   {
    "duration": 7,
    "start_time": "2024-04-01T03:34:58.263Z"
   },
   {
    "duration": 3,
    "start_time": "2024-04-01T03:35:02.506Z"
   },
   {
    "duration": 1709,
    "start_time": "2024-04-01T03:35:03.501Z"
   },
   {
    "duration": 28,
    "start_time": "2024-04-01T03:40:09.086Z"
   },
   {
    "duration": 12,
    "start_time": "2024-04-01T03:40:25.248Z"
   },
   {
    "duration": 3,
    "start_time": "2024-04-01T03:40:27.543Z"
   },
   {
    "duration": 6992,
    "start_time": "2024-04-01T03:40:28.082Z"
   },
   {
    "duration": 9044,
    "start_time": "2024-04-01T03:41:08.868Z"
   },
   {
    "duration": 5,
    "start_time": "2024-04-01T03:41:17.914Z"
   },
   {
    "duration": 73,
    "start_time": "2024-04-01T03:41:17.921Z"
   },
   {
    "duration": 8,
    "start_time": "2024-04-01T03:41:17.996Z"
   },
   {
    "duration": 13,
    "start_time": "2024-04-01T03:41:18.007Z"
   },
   {
    "duration": 986,
    "start_time": "2024-04-01T03:41:18.021Z"
   },
   {
    "duration": 980,
    "start_time": "2024-04-01T03:41:19.009Z"
   },
   {
    "duration": 24,
    "start_time": "2024-04-01T03:41:19.990Z"
   },
   {
    "duration": 382,
    "start_time": "2024-04-01T03:41:20.016Z"
   },
   {
    "duration": 217,
    "start_time": "2024-04-01T03:41:20.400Z"
   },
   {
    "duration": 9,
    "start_time": "2024-04-01T03:41:20.619Z"
   },
   {
    "duration": 6,
    "start_time": "2024-04-01T03:41:20.629Z"
   },
   {
    "duration": 6878,
    "start_time": "2024-04-01T03:41:20.637Z"
   },
   {
    "duration": 13,
    "start_time": "2024-04-01T03:41:27.517Z"
   },
   {
    "duration": 3,
    "start_time": "2024-04-01T03:42:54.242Z"
   },
   {
    "duration": 6486,
    "start_time": "2024-04-01T03:42:56.000Z"
   },
   {
    "duration": 3,
    "start_time": "2024-04-01T03:43:10.863Z"
   },
   {
    "duration": 7233,
    "start_time": "2024-04-01T03:43:11.576Z"
   },
   {
    "duration": 65,
    "start_time": "2024-04-01T03:45:21.953Z"
   },
   {
    "duration": 3,
    "start_time": "2024-04-01T03:45:30.664Z"
   },
   {
    "duration": 7539,
    "start_time": "2024-04-01T03:45:31.639Z"
   },
   {
    "duration": 4,
    "start_time": "2024-04-01T03:46:15.827Z"
   },
   {
    "duration": 28915,
    "start_time": "2024-04-01T03:46:17.911Z"
   },
   {
    "duration": 13,
    "start_time": "2024-04-01T03:48:14.035Z"
   },
   {
    "duration": 74,
    "start_time": "2024-04-01T03:48:50.994Z"
   },
   {
    "duration": 9181,
    "start_time": "2024-04-01T03:49:40.490Z"
   },
   {
    "duration": 5,
    "start_time": "2024-04-01T03:49:49.673Z"
   },
   {
    "duration": 69,
    "start_time": "2024-04-01T03:49:49.680Z"
   },
   {
    "duration": 7,
    "start_time": "2024-04-01T03:49:49.751Z"
   },
   {
    "duration": 13,
    "start_time": "2024-04-01T03:49:49.760Z"
   },
   {
    "duration": 943,
    "start_time": "2024-04-01T03:49:49.774Z"
   },
   {
    "duration": 794,
    "start_time": "2024-04-01T03:49:50.719Z"
   },
   {
    "duration": 54,
    "start_time": "2024-04-01T03:49:51.515Z"
   },
   {
    "duration": 353,
    "start_time": "2024-04-01T03:49:51.570Z"
   },
   {
    "duration": 357,
    "start_time": "2024-04-01T03:49:51.925Z"
   },
   {
    "duration": 10,
    "start_time": "2024-04-01T03:49:52.283Z"
   },
   {
    "duration": 12,
    "start_time": "2024-04-01T03:49:52.295Z"
   },
   {
    "duration": 6585,
    "start_time": "2024-04-01T03:49:52.308Z"
   },
   {
    "duration": 13,
    "start_time": "2024-04-01T03:49:58.895Z"
   },
   {
    "duration": 378,
    "start_time": "2024-04-01T03:54:55.164Z"
   },
   {
    "duration": 4,
    "start_time": "2024-04-01T04:00:06.723Z"
   },
   {
    "duration": 34959,
    "start_time": "2024-04-01T04:00:07.357Z"
   },
   {
    "duration": 4,
    "start_time": "2024-04-01T04:01:13.572Z"
   },
   {
    "duration": 51476,
    "start_time": "2024-04-01T04:01:14.511Z"
   },
   {
    "duration": 10,
    "start_time": "2024-04-01T04:02:45.781Z"
   },
   {
    "duration": 4,
    "start_time": "2024-04-01T04:02:46.283Z"
   },
   {
    "duration": 126627,
    "start_time": "2024-04-01T04:02:50.881Z"
   },
   {
    "duration": 4,
    "start_time": "2024-04-01T04:05:39.186Z"
   },
   {
    "duration": 285582,
    "start_time": "2024-04-01T04:05:39.680Z"
   },
   {
    "duration": 4,
    "start_time": "2024-04-01T04:16:55.554Z"
   },
   {
    "duration": 252069,
    "start_time": "2024-04-01T04:16:56.122Z"
   },
   {
    "duration": 4,
    "start_time": "2024-04-01T04:30:16.289Z"
   },
   {
    "duration": 1264877,
    "start_time": "2024-04-01T04:30:17.758Z"
   },
   {
    "duration": 11,
    "start_time": "2024-04-01T04:51:36.394Z"
   },
   {
    "duration": 4,
    "start_time": "2024-04-01T04:52:40.836Z"
   },
   {
    "duration": 918903,
    "start_time": "2024-04-01T04:52:43.813Z"
   },
   {
    "duration": 4,
    "start_time": "2024-04-01T05:16:33.428Z"
   },
   {
    "duration": 404204,
    "start_time": "2024-04-01T05:16:34.415Z"
   },
   {
    "duration": 10,
    "start_time": "2024-04-01T05:24:36.361Z"
   },
   {
    "duration": 4,
    "start_time": "2024-04-01T05:25:02.035Z"
   },
   {
    "duration": 252320,
    "start_time": "2024-04-01T05:25:03.568Z"
   },
   {
    "duration": 121,
    "start_time": "2024-04-01T05:45:17.466Z"
   },
   {
    "duration": 4,
    "start_time": "2024-04-01T05:46:40.209Z"
   },
   {
    "duration": 92035,
    "start_time": "2024-04-01T05:46:42.472Z"
   },
   {
    "duration": 3,
    "start_time": "2024-04-01T05:52:18.347Z"
   },
   {
    "duration": 191926,
    "start_time": "2024-04-01T05:52:19.337Z"
   },
   {
    "duration": 119,
    "start_time": "2024-04-01T05:55:38.529Z"
   },
   {
    "duration": 4,
    "start_time": "2024-04-01T05:56:46.767Z"
   },
   {
    "duration": 105082,
    "start_time": "2024-04-01T05:56:48.845Z"
   },
   {
    "duration": 115,
    "start_time": "2024-04-01T05:59:10.518Z"
   },
   {
    "duration": 3,
    "start_time": "2024-04-01T05:59:38.049Z"
   },
   {
    "duration": 35591,
    "start_time": "2024-04-01T05:59:39.696Z"
   },
   {
    "duration": 14,
    "start_time": "2024-04-01T06:00:23.102Z"
   },
   {
    "duration": 14,
    "start_time": "2024-04-01T06:00:53.863Z"
   },
   {
    "duration": 13,
    "start_time": "2024-04-01T06:01:02.467Z"
   },
   {
    "duration": 4,
    "start_time": "2024-04-01T06:02:17.158Z"
   },
   {
    "duration": 9879,
    "start_time": "2024-04-01T06:02:18.968Z"
   },
   {
    "duration": 3,
    "start_time": "2024-04-01T06:02:42.775Z"
   },
   {
    "duration": 207246,
    "start_time": "2024-04-01T06:02:43.886Z"
   },
   {
    "duration": 112,
    "start_time": "2024-04-01T06:06:19.595Z"
   },
   {
    "duration": 3,
    "start_time": "2024-04-01T06:07:41.510Z"
   },
   {
    "duration": 57423,
    "start_time": "2024-04-01T06:07:42.831Z"
   },
   {
    "duration": 68,
    "start_time": "2024-04-01T06:08:44.071Z"
   },
   {
    "duration": 5,
    "start_time": "2024-04-01T06:09:18.864Z"
   },
   {
    "duration": 138712,
    "start_time": "2024-04-01T06:09:19.335Z"
   },
   {
    "duration": 67,
    "start_time": "2024-04-01T06:11:42.416Z"
   },
   {
    "duration": 64,
    "start_time": "2024-04-01T06:12:26.131Z"
   },
   {
    "duration": 4,
    "start_time": "2024-04-01T06:12:47.090Z"
   },
   {
    "duration": 44461,
    "start_time": "2024-04-01T06:12:48.580Z"
   },
   {
    "duration": 58,
    "start_time": "2024-04-01T06:13:48.791Z"
   },
   {
    "duration": 4,
    "start_time": "2024-04-01T06:14:49.680Z"
   },
   {
    "duration": 35740,
    "start_time": "2024-04-01T06:14:52.547Z"
   },
   {
    "duration": 12,
    "start_time": "2024-04-01T06:15:39.594Z"
   },
   {
    "duration": 14,
    "start_time": "2024-04-01T06:16:28.063Z"
   },
   {
    "duration": 75,
    "start_time": "2024-04-01T06:17:45.369Z"
   },
   {
    "duration": 906,
    "start_time": "2024-04-01T06:30:04.120Z"
   },
   {
    "duration": 944,
    "start_time": "2024-04-01T06:30:55.000Z"
   },
   {
    "duration": 25,
    "start_time": "2024-04-01T06:34:30.625Z"
   },
   {
    "duration": 13,
    "start_time": "2024-04-01T06:34:50.945Z"
   },
   {
    "duration": 813,
    "start_time": "2024-04-01T06:35:16.585Z"
   },
   {
    "duration": 640,
    "start_time": "2024-04-01T06:36:00.767Z"
   },
   {
    "duration": 64,
    "start_time": "2024-04-01T06:56:15.280Z"
   },
   {
    "duration": 9165,
    "start_time": "2024-04-01T06:57:54.249Z"
   },
   {
    "duration": 6,
    "start_time": "2024-04-01T06:58:03.417Z"
   },
   {
    "duration": 72,
    "start_time": "2024-04-01T06:58:03.424Z"
   },
   {
    "duration": 12,
    "start_time": "2024-04-01T06:58:03.498Z"
   },
   {
    "duration": 978,
    "start_time": "2024-04-01T06:58:03.513Z"
   },
   {
    "duration": 63,
    "start_time": "2024-04-01T06:58:04.492Z"
   },
   {
    "duration": 0,
    "start_time": "2024-04-01T06:58:04.557Z"
   },
   {
    "duration": 0,
    "start_time": "2024-04-01T06:58:04.558Z"
   },
   {
    "duration": 0,
    "start_time": "2024-04-01T06:58:04.559Z"
   },
   {
    "duration": 0,
    "start_time": "2024-04-01T06:58:04.560Z"
   },
   {
    "duration": 0,
    "start_time": "2024-04-01T06:58:04.561Z"
   },
   {
    "duration": 0,
    "start_time": "2024-04-01T06:58:04.562Z"
   },
   {
    "duration": 0,
    "start_time": "2024-04-01T06:58:04.564Z"
   },
   {
    "duration": 0,
    "start_time": "2024-04-01T06:58:04.564Z"
   },
   {
    "duration": 0,
    "start_time": "2024-04-01T06:58:04.566Z"
   },
   {
    "duration": 0,
    "start_time": "2024-04-01T06:58:04.566Z"
   },
   {
    "duration": 0,
    "start_time": "2024-04-01T06:58:04.567Z"
   },
   {
    "duration": 0,
    "start_time": "2024-04-01T06:58:04.569Z"
   },
   {
    "duration": 620,
    "start_time": "2024-04-01T06:58:15.532Z"
   },
   {
    "duration": 27,
    "start_time": "2024-04-01T06:58:18.101Z"
   },
   {
    "duration": 396,
    "start_time": "2024-04-01T06:58:18.453Z"
   },
   {
    "duration": 76,
    "start_time": "2024-04-01T06:58:18.851Z"
   },
   {
    "duration": 252,
    "start_time": "2024-04-01T06:58:18.992Z"
   },
   {
    "duration": 105,
    "start_time": "2024-04-01T06:58:19.246Z"
   },
   {
    "duration": 402,
    "start_time": "2024-04-01T06:58:19.386Z"
   },
   {
    "duration": 11,
    "start_time": "2024-04-01T06:58:20.202Z"
   },
   {
    "duration": 4,
    "start_time": "2024-04-01T06:58:22.205Z"
   },
   {
    "duration": 39114,
    "start_time": "2024-04-01T06:58:23.499Z"
   },
   {
    "duration": 70,
    "start_time": "2024-04-01T06:59:13.303Z"
   },
   {
    "duration": 4,
    "start_time": "2024-04-01T07:02:38.288Z"
   },
   {
    "duration": 13315,
    "start_time": "2024-04-01T07:02:41.270Z"
   },
   {
    "duration": 14,
    "start_time": "2024-04-01T07:05:14.374Z"
   },
   {
    "duration": 3,
    "start_time": "2024-04-01T07:05:58.119Z"
   },
   {
    "duration": 36212,
    "start_time": "2024-04-01T07:05:59.296Z"
   },
   {
    "duration": 58,
    "start_time": "2024-04-01T07:07:12.130Z"
   },
   {
    "duration": 12,
    "start_time": "2024-04-01T07:07:13.174Z"
   },
   {
    "duration": 9182,
    "start_time": "2024-04-01T07:07:25.578Z"
   },
   {
    "duration": 1438,
    "start_time": "2024-04-01T07:07:34.762Z"
   },
   {
    "duration": 72,
    "start_time": "2024-04-01T07:07:36.202Z"
   },
   {
    "duration": 13,
    "start_time": "2024-04-01T07:07:36.276Z"
   },
   {
    "duration": 1023,
    "start_time": "2024-04-01T07:07:36.292Z"
   },
   {
    "duration": 699,
    "start_time": "2024-04-01T07:07:37.317Z"
   },
   {
    "duration": 21,
    "start_time": "2024-04-01T07:07:38.018Z"
   },
   {
    "duration": 411,
    "start_time": "2024-04-01T07:07:38.041Z"
   },
   {
    "duration": 59,
    "start_time": "2024-04-01T07:07:38.453Z"
   },
   {
    "duration": 0,
    "start_time": "2024-04-01T07:07:38.513Z"
   },
   {
    "duration": 0,
    "start_time": "2024-04-01T07:07:38.514Z"
   },
   {
    "duration": 0,
    "start_time": "2024-04-01T07:07:38.516Z"
   },
   {
    "duration": 0,
    "start_time": "2024-04-01T07:07:38.517Z"
   },
   {
    "duration": 0,
    "start_time": "2024-04-01T07:07:38.518Z"
   },
   {
    "duration": 0,
    "start_time": "2024-04-01T07:07:38.519Z"
   },
   {
    "duration": 0,
    "start_time": "2024-04-01T07:07:38.521Z"
   },
   {
    "duration": 9243,
    "start_time": "2024-04-01T07:08:35.893Z"
   },
   {
    "duration": 1405,
    "start_time": "2024-04-01T07:08:45.139Z"
   },
   {
    "duration": 79,
    "start_time": "2024-04-01T07:08:46.546Z"
   },
   {
    "duration": 16,
    "start_time": "2024-04-01T07:08:46.627Z"
   },
   {
    "duration": 973,
    "start_time": "2024-04-01T07:08:46.646Z"
   },
   {
    "duration": 711,
    "start_time": "2024-04-01T07:08:47.621Z"
   },
   {
    "duration": 17,
    "start_time": "2024-04-01T07:08:48.334Z"
   },
   {
    "duration": 409,
    "start_time": "2024-04-01T07:08:48.353Z"
   },
   {
    "duration": 279,
    "start_time": "2024-04-01T07:08:48.764Z"
   },
   {
    "duration": 58,
    "start_time": "2024-04-01T07:08:49.045Z"
   },
   {
    "duration": 0,
    "start_time": "2024-04-01T07:08:49.105Z"
   },
   {
    "duration": 0,
    "start_time": "2024-04-01T07:08:49.106Z"
   },
   {
    "duration": 0,
    "start_time": "2024-04-01T07:08:49.107Z"
   },
   {
    "duration": 0,
    "start_time": "2024-04-01T07:08:49.108Z"
   },
   {
    "duration": 0,
    "start_time": "2024-04-01T07:08:49.109Z"
   },
   {
    "duration": 9149,
    "start_time": "2024-04-01T07:09:30.748Z"
   },
   {
    "duration": 1376,
    "start_time": "2024-04-01T07:09:39.900Z"
   },
   {
    "duration": 70,
    "start_time": "2024-04-01T07:09:41.278Z"
   },
   {
    "duration": 13,
    "start_time": "2024-04-01T07:09:41.350Z"
   },
   {
    "duration": 1059,
    "start_time": "2024-04-01T07:09:41.364Z"
   },
   {
    "duration": 697,
    "start_time": "2024-04-01T07:09:42.425Z"
   },
   {
    "duration": 18,
    "start_time": "2024-04-01T07:09:43.123Z"
   },
   {
    "duration": 429,
    "start_time": "2024-04-01T07:09:43.143Z"
   },
   {
    "duration": 281,
    "start_time": "2024-04-01T07:09:43.574Z"
   },
   {
    "duration": 422,
    "start_time": "2024-04-01T07:09:43.857Z"
   },
   {
    "duration": 10,
    "start_time": "2024-04-01T07:09:44.281Z"
   },
   {
    "duration": 6,
    "start_time": "2024-04-01T07:09:44.293Z"
   },
   {
    "duration": 46,
    "start_time": "2024-04-01T07:09:44.301Z"
   },
   {
    "duration": 26,
    "start_time": "2024-04-01T07:09:44.350Z"
   },
   {
    "duration": 28402,
    "start_time": "2024-04-01T12:58:17.975Z"
   },
   {
    "duration": 1255,
    "start_time": "2024-04-01T12:58:46.379Z"
   },
   {
    "duration": 117,
    "start_time": "2024-04-01T12:58:47.636Z"
   },
   {
    "duration": 13,
    "start_time": "2024-04-01T12:58:47.755Z"
   },
   {
    "duration": 997,
    "start_time": "2024-04-01T12:58:47.769Z"
   },
   {
    "duration": 699,
    "start_time": "2024-04-01T12:58:48.768Z"
   },
   {
    "duration": 18,
    "start_time": "2024-04-01T12:58:49.468Z"
   },
   {
    "duration": 343,
    "start_time": "2024-04-01T12:58:49.487Z"
   },
   {
    "duration": 281,
    "start_time": "2024-04-01T12:58:49.832Z"
   },
   {
    "duration": 434,
    "start_time": "2024-04-01T12:58:50.115Z"
   },
   {
    "duration": 10,
    "start_time": "2024-04-01T12:58:50.551Z"
   },
   {
    "duration": 24,
    "start_time": "2024-04-01T12:58:50.562Z"
   },
   {
    "duration": 157,
    "start_time": "2024-04-01T12:58:50.588Z"
   },
   {
    "duration": 0,
    "start_time": "2024-04-01T12:58:50.746Z"
   },
   {
    "duration": 33948,
    "start_time": "2024-04-01T17:45:01.472Z"
   },
   {
    "duration": 1798,
    "start_time": "2024-04-01T17:45:35.422Z"
   },
   {
    "duration": 189,
    "start_time": "2024-04-01T17:45:37.221Z"
   },
   {
    "duration": 16,
    "start_time": "2024-04-01T17:45:37.411Z"
   },
   {
    "duration": 1048,
    "start_time": "2024-04-01T17:45:37.429Z"
   },
   {
    "duration": 757,
    "start_time": "2024-04-01T17:45:38.479Z"
   },
   {
    "duration": 20,
    "start_time": "2024-04-01T17:45:39.238Z"
   },
   {
    "duration": 415,
    "start_time": "2024-04-01T17:45:39.259Z"
   },
   {
    "duration": 315,
    "start_time": "2024-04-01T17:45:39.675Z"
   },
   {
    "duration": 434,
    "start_time": "2024-04-01T17:45:39.993Z"
   },
   {
    "duration": 10,
    "start_time": "2024-04-01T17:45:40.428Z"
   },
   {
    "duration": 13,
    "start_time": "2024-04-01T17:45:40.440Z"
   },
   {
    "duration": 805,
    "start_time": "2024-04-01T17:45:40.455Z"
   },
   {
    "duration": 22,
    "start_time": "2024-04-01T17:45:41.262Z"
   },
   {
    "duration": 57,
    "start_time": "2024-04-01T17:47:50.382Z"
   },
   {
    "duration": 10239,
    "start_time": "2024-04-01T19:37:39.899Z"
   },
   {
    "duration": 10247,
    "start_time": "2024-04-01T19:38:04.376Z"
   },
   {
    "duration": 90,
    "start_time": "2024-04-01T19:44:47.507Z"
   },
   {
    "duration": 10325,
    "start_time": "2024-04-01T20:52:46.189Z"
   },
   {
    "duration": 5,
    "start_time": "2024-04-01T20:52:56.517Z"
   },
   {
    "duration": 101,
    "start_time": "2024-04-01T20:52:56.524Z"
   },
   {
    "duration": 13,
    "start_time": "2024-04-01T20:52:56.627Z"
   },
   {
    "duration": 1012,
    "start_time": "2024-04-01T20:52:56.642Z"
   },
   {
    "duration": 705,
    "start_time": "2024-04-01T20:52:57.656Z"
   },
   {
    "duration": 26,
    "start_time": "2024-04-01T20:52:58.363Z"
   },
   {
    "duration": 395,
    "start_time": "2024-04-01T20:52:58.390Z"
   },
   {
    "duration": 278,
    "start_time": "2024-04-01T20:52:58.787Z"
   },
   {
    "duration": 562,
    "start_time": "2024-04-01T20:52:59.072Z"
   },
   {
    "duration": 11,
    "start_time": "2024-04-01T20:52:59.636Z"
   },
   {
    "duration": 7,
    "start_time": "2024-04-01T20:52:59.648Z"
   },
   {
    "duration": 142,
    "start_time": "2024-04-01T20:52:59.657Z"
   },
   {
    "duration": 0,
    "start_time": "2024-04-01T20:52:59.800Z"
   },
   {
    "duration": 5,
    "start_time": "2024-04-01T21:25:16.516Z"
   },
   {
    "duration": 129,
    "start_time": "2024-04-01T21:25:27.755Z"
   },
   {
    "duration": 6,
    "start_time": "2024-04-01T21:25:51.932Z"
   },
   {
    "duration": 21578,
    "start_time": "2024-04-01T21:25:52.506Z"
   },
   {
    "duration": 10141,
    "start_time": "2024-04-01T21:26:15.749Z"
   },
   {
    "duration": 5,
    "start_time": "2024-04-01T21:26:25.893Z"
   },
   {
    "duration": 82,
    "start_time": "2024-04-01T21:26:25.900Z"
   },
   {
    "duration": 13,
    "start_time": "2024-04-01T21:26:25.984Z"
   },
   {
    "duration": 1077,
    "start_time": "2024-04-01T21:26:25.999Z"
   },
   {
    "duration": 751,
    "start_time": "2024-04-01T21:26:27.079Z"
   },
   {
    "duration": 21,
    "start_time": "2024-04-01T21:26:27.831Z"
   },
   {
    "duration": 430,
    "start_time": "2024-04-01T21:26:27.854Z"
   },
   {
    "duration": 279,
    "start_time": "2024-04-01T21:26:28.286Z"
   },
   {
    "duration": 437,
    "start_time": "2024-04-01T21:26:28.572Z"
   },
   {
    "duration": 11,
    "start_time": "2024-04-01T21:26:29.011Z"
   },
   {
    "duration": 24,
    "start_time": "2024-04-01T21:26:29.023Z"
   },
   {
    "duration": 38953,
    "start_time": "2024-04-01T21:26:29.050Z"
   },
   {
    "duration": 12,
    "start_time": "2024-04-01T21:27:08.005Z"
   },
   {
    "duration": 12,
    "start_time": "2024-04-01T21:27:16.138Z"
   },
   {
    "duration": 10516,
    "start_time": "2024-04-01T21:32:25.585Z"
   },
   {
    "duration": 6,
    "start_time": "2024-04-01T21:32:36.104Z"
   },
   {
    "duration": 93,
    "start_time": "2024-04-01T21:32:36.112Z"
   },
   {
    "duration": 12,
    "start_time": "2024-04-01T21:32:36.207Z"
   },
   {
    "duration": 1034,
    "start_time": "2024-04-01T21:32:36.221Z"
   },
   {
    "duration": 677,
    "start_time": "2024-04-01T21:32:37.257Z"
   },
   {
    "duration": 20,
    "start_time": "2024-04-01T21:32:37.936Z"
   },
   {
    "duration": 418,
    "start_time": "2024-04-01T21:32:37.973Z"
   },
   {
    "duration": 271,
    "start_time": "2024-04-01T21:32:38.393Z"
   },
   {
    "duration": 428,
    "start_time": "2024-04-01T21:32:38.672Z"
   },
   {
    "duration": 11,
    "start_time": "2024-04-01T21:32:39.102Z"
   },
   {
    "duration": 3,
    "start_time": "2024-04-01T21:32:39.115Z"
   },
   {
    "duration": 37203,
    "start_time": "2024-04-01T21:32:39.120Z"
   },
   {
    "duration": 12,
    "start_time": "2024-04-01T21:33:16.325Z"
   },
   {
    "duration": 6,
    "start_time": "2024-04-01T23:15:33.284Z"
   },
   {
    "duration": 5,
    "start_time": "2024-04-01T23:15:36.932Z"
   },
   {
    "duration": 88,
    "start_time": "2024-04-01T23:16:03.691Z"
   },
   {
    "duration": 5,
    "start_time": "2024-04-01T23:16:14.578Z"
   },
   {
    "duration": 14,
    "start_time": "2024-04-01T23:16:19.106Z"
   },
   {
    "duration": 33,
    "start_time": "2024-04-02T01:11:36.569Z"
   },
   {
    "duration": 10096,
    "start_time": "2024-04-02T01:27:16.994Z"
   },
   {
    "duration": 200,
    "start_time": "2024-04-02T01:27:27.094Z"
   },
   {
    "duration": 97,
    "start_time": "2024-04-02T01:27:27.296Z"
   },
   {
    "duration": 0,
    "start_time": "2024-04-02T01:27:27.395Z"
   },
   {
    "duration": 0,
    "start_time": "2024-04-02T01:27:27.397Z"
   },
   {
    "duration": 0,
    "start_time": "2024-04-02T01:27:27.398Z"
   },
   {
    "duration": 0,
    "start_time": "2024-04-02T01:27:27.399Z"
   },
   {
    "duration": 0,
    "start_time": "2024-04-02T01:27:27.400Z"
   },
   {
    "duration": 0,
    "start_time": "2024-04-02T01:27:27.402Z"
   },
   {
    "duration": 0,
    "start_time": "2024-04-02T01:27:27.402Z"
   },
   {
    "duration": 0,
    "start_time": "2024-04-02T01:27:27.404Z"
   },
   {
    "duration": 0,
    "start_time": "2024-04-02T01:27:27.405Z"
   },
   {
    "duration": 0,
    "start_time": "2024-04-02T01:27:27.406Z"
   },
   {
    "duration": 0,
    "start_time": "2024-04-02T01:27:27.407Z"
   },
   {
    "duration": 102,
    "start_time": "2024-04-02T01:36:21.493Z"
   },
   {
    "duration": 10140,
    "start_time": "2024-04-02T01:58:00.734Z"
   },
   {
    "duration": 7,
    "start_time": "2024-04-02T01:58:10.876Z"
   },
   {
    "duration": 122,
    "start_time": "2024-04-02T01:58:10.884Z"
   },
   {
    "duration": 14,
    "start_time": "2024-04-02T01:58:11.008Z"
   },
   {
    "duration": 1041,
    "start_time": "2024-04-02T01:58:11.025Z"
   },
   {
    "duration": 702,
    "start_time": "2024-04-02T01:58:12.069Z"
   },
   {
    "duration": 20,
    "start_time": "2024-04-02T01:58:12.773Z"
   },
   {
    "duration": 388,
    "start_time": "2024-04-02T01:58:12.795Z"
   },
   {
    "duration": 293,
    "start_time": "2024-04-02T01:58:13.185Z"
   },
   {
    "duration": 456,
    "start_time": "2024-04-02T01:58:13.480Z"
   },
   {
    "duration": 11,
    "start_time": "2024-04-02T01:58:13.938Z"
   },
   {
    "duration": 35,
    "start_time": "2024-04-02T01:58:13.950Z"
   },
   {
    "duration": 1629,
    "start_time": "2024-04-02T01:58:13.987Z"
   },
   {
    "duration": 0,
    "start_time": "2024-04-02T01:58:15.618Z"
   },
   {
    "duration": 10173,
    "start_time": "2024-04-02T02:00:04.128Z"
   },
   {
    "duration": 1507,
    "start_time": "2024-04-02T02:00:14.304Z"
   },
   {
    "duration": 76,
    "start_time": "2024-04-02T02:00:15.813Z"
   },
   {
    "duration": 15,
    "start_time": "2024-04-02T02:00:15.891Z"
   },
   {
    "duration": 1138,
    "start_time": "2024-04-02T02:00:15.908Z"
   },
   {
    "duration": 809,
    "start_time": "2024-04-02T02:00:17.048Z"
   },
   {
    "duration": 24,
    "start_time": "2024-04-02T02:00:17.858Z"
   },
   {
    "duration": 404,
    "start_time": "2024-04-02T02:00:17.883Z"
   },
   {
    "duration": 293,
    "start_time": "2024-04-02T02:00:18.288Z"
   },
   {
    "duration": 443,
    "start_time": "2024-04-02T02:00:18.582Z"
   },
   {
    "duration": 10,
    "start_time": "2024-04-02T02:00:19.027Z"
   },
   {
    "duration": 12,
    "start_time": "2024-04-02T02:00:19.038Z"
   },
   {
    "duration": 1778,
    "start_time": "2024-04-02T02:00:19.051Z"
   },
   {
    "duration": 0,
    "start_time": "2024-04-02T02:00:20.831Z"
   },
   {
    "duration": 4,
    "start_time": "2024-04-02T02:02:24.386Z"
   },
   {
    "duration": 1447,
    "start_time": "2024-04-02T02:02:27.055Z"
   },
   {
    "duration": 10319,
    "start_time": "2024-04-02T02:03:54.799Z"
   },
   {
    "duration": 18,
    "start_time": "2024-04-02T02:04:05.121Z"
   },
   {
    "duration": 0,
    "start_time": "2024-04-02T02:04:05.141Z"
   },
   {
    "duration": 0,
    "start_time": "2024-04-02T02:04:05.143Z"
   },
   {
    "duration": 0,
    "start_time": "2024-04-02T02:04:05.144Z"
   },
   {
    "duration": 0,
    "start_time": "2024-04-02T02:04:05.145Z"
   },
   {
    "duration": 0,
    "start_time": "2024-04-02T02:04:05.146Z"
   },
   {
    "duration": 0,
    "start_time": "2024-04-02T02:04:05.148Z"
   },
   {
    "duration": 0,
    "start_time": "2024-04-02T02:04:05.149Z"
   },
   {
    "duration": 0,
    "start_time": "2024-04-02T02:04:05.150Z"
   },
   {
    "duration": 0,
    "start_time": "2024-04-02T02:04:05.151Z"
   },
   {
    "duration": 0,
    "start_time": "2024-04-02T02:04:05.152Z"
   },
   {
    "duration": 0,
    "start_time": "2024-04-02T02:04:05.153Z"
   },
   {
    "duration": 0,
    "start_time": "2024-04-02T02:04:05.154Z"
   },
   {
    "duration": 10642,
    "start_time": "2024-04-02T02:04:10.961Z"
   },
   {
    "duration": 20,
    "start_time": "2024-04-02T02:04:21.605Z"
   },
   {
    "duration": 0,
    "start_time": "2024-04-02T02:04:21.628Z"
   },
   {
    "duration": 0,
    "start_time": "2024-04-02T02:04:21.629Z"
   },
   {
    "duration": 0,
    "start_time": "2024-04-02T02:04:21.630Z"
   },
   {
    "duration": 0,
    "start_time": "2024-04-02T02:04:21.631Z"
   },
   {
    "duration": 0,
    "start_time": "2024-04-02T02:04:21.632Z"
   },
   {
    "duration": 0,
    "start_time": "2024-04-02T02:04:21.634Z"
   },
   {
    "duration": 0,
    "start_time": "2024-04-02T02:04:21.635Z"
   },
   {
    "duration": 0,
    "start_time": "2024-04-02T02:04:21.636Z"
   },
   {
    "duration": 0,
    "start_time": "2024-04-02T02:04:21.637Z"
   },
   {
    "duration": 0,
    "start_time": "2024-04-02T02:04:21.638Z"
   },
   {
    "duration": 0,
    "start_time": "2024-04-02T02:04:21.639Z"
   },
   {
    "duration": 0,
    "start_time": "2024-04-02T02:04:21.640Z"
   },
   {
    "duration": 6,
    "start_time": "2024-04-02T02:04:37.332Z"
   },
   {
    "duration": 10133,
    "start_time": "2024-04-02T02:04:40.794Z"
   },
   {
    "duration": 7,
    "start_time": "2024-04-02T02:04:50.930Z"
   },
   {
    "duration": 94,
    "start_time": "2024-04-02T02:04:50.938Z"
   },
   {
    "duration": 15,
    "start_time": "2024-04-02T02:04:51.035Z"
   },
   {
    "duration": 1095,
    "start_time": "2024-04-02T02:04:51.052Z"
   },
   {
    "duration": 697,
    "start_time": "2024-04-02T02:04:52.150Z"
   },
   {
    "duration": 30,
    "start_time": "2024-04-02T02:04:52.849Z"
   },
   {
    "duration": 516,
    "start_time": "2024-04-02T02:04:52.881Z"
   },
   {
    "duration": 275,
    "start_time": "2024-04-02T02:04:53.399Z"
   },
   {
    "duration": 435,
    "start_time": "2024-04-02T02:04:53.677Z"
   },
   {
    "duration": 12,
    "start_time": "2024-04-02T02:04:54.114Z"
   },
   {
    "duration": 20,
    "start_time": "2024-04-02T02:04:54.127Z"
   },
   {
    "duration": 1663,
    "start_time": "2024-04-02T02:04:54.149Z"
   },
   {
    "duration": 0,
    "start_time": "2024-04-02T02:04:55.814Z"
   },
   {
    "duration": 6,
    "start_time": "2024-04-02T02:05:34.794Z"
   },
   {
    "duration": 1610,
    "start_time": "2024-04-02T02:05:36.820Z"
   },
   {
    "duration": 3,
    "start_time": "2024-04-02T02:47:45.389Z"
   },
   {
    "duration": 602,
    "start_time": "2024-04-02T02:48:13.985Z"
   },
   {
    "duration": 3,
    "start_time": "2024-04-02T02:48:24.883Z"
   },
   {
    "duration": 1965,
    "start_time": "2024-04-02T02:48:27.290Z"
   },
   {
    "duration": 6,
    "start_time": "2024-04-02T02:49:30.419Z"
   },
   {
    "duration": 3,
    "start_time": "2024-04-02T02:51:05.437Z"
   },
   {
    "duration": 1860,
    "start_time": "2024-04-02T02:51:06.341Z"
   },
   {
    "duration": 6,
    "start_time": "2024-04-02T02:51:12.586Z"
   },
   {
    "duration": 3,
    "start_time": "2024-04-02T02:51:24.561Z"
   },
   {
    "duration": 3122,
    "start_time": "2024-04-02T02:51:25.375Z"
   },
   {
    "duration": 6,
    "start_time": "2024-04-02T02:51:28.500Z"
   },
   {
    "duration": 3,
    "start_time": "2024-04-02T02:51:36.346Z"
   },
   {
    "duration": 1787,
    "start_time": "2024-04-02T02:51:37.116Z"
   },
   {
    "duration": 6,
    "start_time": "2024-04-02T02:51:38.905Z"
   },
   {
    "duration": 3,
    "start_time": "2024-04-02T02:51:45.037Z"
   },
   {
    "duration": 1956,
    "start_time": "2024-04-02T02:51:45.815Z"
   },
   {
    "duration": 6,
    "start_time": "2024-04-02T02:51:47.772Z"
   },
   {
    "duration": 3,
    "start_time": "2024-04-02T02:51:52.673Z"
   },
   {
    "duration": 1875,
    "start_time": "2024-04-02T02:51:53.412Z"
   },
   {
    "duration": 5,
    "start_time": "2024-04-02T02:51:55.288Z"
   },
   {
    "duration": 3,
    "start_time": "2024-04-02T02:52:02.509Z"
   },
   {
    "duration": 1515,
    "start_time": "2024-04-02T02:52:02.938Z"
   },
   {
    "duration": 5,
    "start_time": "2024-04-02T02:52:04.455Z"
   },
   {
    "duration": 3,
    "start_time": "2024-04-02T02:52:09.509Z"
   },
   {
    "duration": 1369,
    "start_time": "2024-04-02T02:52:10.350Z"
   },
   {
    "duration": 6,
    "start_time": "2024-04-02T02:52:11.721Z"
   },
   {
    "duration": 3,
    "start_time": "2024-04-02T02:52:24.506Z"
   },
   {
    "duration": 2380,
    "start_time": "2024-04-02T02:52:25.195Z"
   },
   {
    "duration": 6,
    "start_time": "2024-04-02T02:52:27.577Z"
   },
   {
    "duration": 3,
    "start_time": "2024-04-02T02:53:33.970Z"
   },
   {
    "duration": 1970,
    "start_time": "2024-04-02T02:53:34.367Z"
   },
   {
    "duration": 6,
    "start_time": "2024-04-02T02:53:36.338Z"
   },
   {
    "duration": 4,
    "start_time": "2024-04-02T02:53:40.861Z"
   },
   {
    "duration": 1821,
    "start_time": "2024-04-02T02:53:41.335Z"
   },
   {
    "duration": 6,
    "start_time": "2024-04-02T02:53:44.482Z"
   },
   {
    "duration": 4,
    "start_time": "2024-04-02T02:53:48.789Z"
   },
   {
    "duration": 1640,
    "start_time": "2024-04-02T02:53:49.494Z"
   },
   {
    "duration": 5,
    "start_time": "2024-04-02T02:53:51.136Z"
   },
   {
    "duration": 3,
    "start_time": "2024-04-02T02:53:56.078Z"
   },
   {
    "duration": 1233,
    "start_time": "2024-04-02T02:53:56.478Z"
   },
   {
    "duration": 4,
    "start_time": "2024-04-02T02:53:57.713Z"
   },
   {
    "duration": 3,
    "start_time": "2024-04-02T02:54:08.222Z"
   },
   {
    "duration": 1778,
    "start_time": "2024-04-02T02:54:08.685Z"
   },
   {
    "duration": 5,
    "start_time": "2024-04-02T02:54:10.464Z"
   },
   {
    "duration": 4,
    "start_time": "2024-04-02T02:54:15.403Z"
   },
   {
    "duration": 1788,
    "start_time": "2024-04-02T02:54:15.838Z"
   },
   {
    "duration": 6,
    "start_time": "2024-04-02T02:54:17.627Z"
   },
   {
    "duration": 3,
    "start_time": "2024-04-02T02:54:22.293Z"
   },
   {
    "duration": 1752,
    "start_time": "2024-04-02T02:54:24.480Z"
   },
   {
    "duration": 5,
    "start_time": "2024-04-02T02:54:27.943Z"
   },
   {
    "duration": 20,
    "start_time": "2024-04-02T02:56:20.671Z"
   },
   {
    "duration": 72,
    "start_time": "2024-04-02T02:56:35.219Z"
   },
   {
    "duration": 5,
    "start_time": "2024-04-02T02:56:52.590Z"
   },
   {
    "duration": 37234,
    "start_time": "2024-04-02T02:56:55.987Z"
   },
   {
    "duration": 4,
    "start_time": "2024-04-02T02:58:20.806Z"
   },
   {
    "duration": 3,
    "start_time": "2024-04-02T02:58:21.326Z"
   },
   {
    "duration": 86979,
    "start_time": "2024-04-02T02:58:32.472Z"
   },
   {
    "duration": 27,
    "start_time": "2024-04-02T03:00:14.018Z"
   },
   {
    "duration": 24,
    "start_time": "2024-04-02T03:00:53.609Z"
   },
   {
    "duration": 23,
    "start_time": "2024-04-02T03:01:01.985Z"
   },
   {
    "duration": 16,
    "start_time": "2024-04-02T03:01:15.442Z"
   },
   {
    "duration": 24,
    "start_time": "2024-04-02T03:01:39.864Z"
   },
   {
    "duration": 25,
    "start_time": "2024-04-02T03:02:10.275Z"
   },
   {
    "duration": 12,
    "start_time": "2024-04-02T03:02:13.966Z"
   },
   {
    "duration": 12,
    "start_time": "2024-04-02T03:02:32.788Z"
   },
   {
    "duration": 25,
    "start_time": "2024-04-02T03:02:53.355Z"
   },
   {
    "duration": 22,
    "start_time": "2024-04-02T03:03:52.003Z"
   },
   {
    "duration": 28,
    "start_time": "2024-04-02T03:04:19.612Z"
   },
   {
    "duration": 33,
    "start_time": "2024-04-02T03:04:38.214Z"
   },
   {
    "duration": 26,
    "start_time": "2024-04-02T03:04:52.410Z"
   },
   {
    "duration": 26,
    "start_time": "2024-04-02T03:05:01.586Z"
   },
   {
    "duration": 28,
    "start_time": "2024-04-02T03:05:19.187Z"
   },
   {
    "duration": 29,
    "start_time": "2024-04-02T03:05:35.821Z"
   },
   {
    "duration": 34,
    "start_time": "2024-04-02T03:06:02.685Z"
   },
   {
    "duration": 32,
    "start_time": "2024-04-02T03:06:12.275Z"
   },
   {
    "duration": 34,
    "start_time": "2024-04-02T03:06:21.763Z"
   },
   {
    "duration": 34,
    "start_time": "2024-04-02T03:06:47.214Z"
   },
   {
    "duration": 21,
    "start_time": "2024-04-02T03:07:14.437Z"
   },
   {
    "duration": 17,
    "start_time": "2024-04-02T03:07:37.395Z"
   },
   {
    "duration": 5,
    "start_time": "2024-04-02T03:07:53.236Z"
   },
   {
    "duration": 17,
    "start_time": "2024-04-02T03:08:10.085Z"
   },
   {
    "duration": 10285,
    "start_time": "2024-04-02T03:08:18.053Z"
   },
   {
    "duration": 6,
    "start_time": "2024-04-02T03:08:28.341Z"
   },
   {
    "duration": 75,
    "start_time": "2024-04-02T03:08:28.349Z"
   },
   {
    "duration": 13,
    "start_time": "2024-04-02T03:08:28.425Z"
   },
   {
    "duration": 1009,
    "start_time": "2024-04-02T03:08:28.440Z"
   },
   {
    "duration": 827,
    "start_time": "2024-04-02T03:08:29.451Z"
   },
   {
    "duration": 20,
    "start_time": "2024-04-02T03:08:30.280Z"
   },
   {
    "duration": 463,
    "start_time": "2024-04-02T03:08:30.302Z"
   },
   {
    "duration": 295,
    "start_time": "2024-04-02T03:08:30.767Z"
   },
   {
    "duration": 436,
    "start_time": "2024-04-02T03:08:31.064Z"
   },
   {
    "duration": 15,
    "start_time": "2024-04-02T03:08:31.502Z"
   },
   {
    "duration": 140,
    "start_time": "2024-04-02T03:08:31.519Z"
   },
   {
    "duration": 119,
    "start_time": "2024-04-02T03:08:31.661Z"
   },
   {
    "duration": 10686,
    "start_time": "2024-04-02T03:08:31.782Z"
   },
   {
    "duration": 0,
    "start_time": "2024-04-02T03:08:42.470Z"
   },
   {
    "duration": 4,
    "start_time": "2024-04-02T03:09:08.022Z"
   },
   {
    "duration": 10297,
    "start_time": "2024-04-02T03:09:09.025Z"
   },
   {
    "duration": 10131,
    "start_time": "2024-04-02T03:09:38.678Z"
   },
   {
    "duration": 1551,
    "start_time": "2024-04-02T03:09:48.811Z"
   },
   {
    "duration": 92,
    "start_time": "2024-04-02T03:09:50.365Z"
   },
   {
    "duration": 14,
    "start_time": "2024-04-02T03:09:50.459Z"
   },
   {
    "duration": 1090,
    "start_time": "2024-04-02T03:09:50.475Z"
   },
   {
    "duration": 822,
    "start_time": "2024-04-02T03:09:51.567Z"
   },
   {
    "duration": 19,
    "start_time": "2024-04-02T03:09:52.391Z"
   },
   {
    "duration": 431,
    "start_time": "2024-04-02T03:09:52.412Z"
   },
   {
    "duration": 317,
    "start_time": "2024-04-02T03:09:52.845Z"
   },
   {
    "duration": 450,
    "start_time": "2024-04-02T03:09:53.172Z"
   },
   {
    "duration": 15,
    "start_time": "2024-04-02T03:09:53.624Z"
   },
   {
    "duration": 52,
    "start_time": "2024-04-02T03:09:53.641Z"
   },
   {
    "duration": 21,
    "start_time": "2024-04-02T03:09:53.694Z"
   },
   {
    "duration": 10544,
    "start_time": "2024-04-02T03:09:53.717Z"
   },
   {
    "duration": 1,
    "start_time": "2024-04-02T03:10:04.262Z"
   },
   {
    "duration": 10398,
    "start_time": "2024-04-02T03:12:53.238Z"
   },
   {
    "duration": 17,
    "start_time": "2024-04-02T03:14:51.858Z"
   },
   {
    "duration": 90,
    "start_time": "2024-04-02T03:16:54.603Z"
   },
   {
    "duration": 4,
    "start_time": "2024-04-02T03:17:12.547Z"
   },
   {
    "duration": 83161,
    "start_time": "2024-04-02T03:17:13.985Z"
   },
   {
    "duration": 23,
    "start_time": "2024-04-02T03:18:43.874Z"
   },
   {
    "duration": 4,
    "start_time": "2024-04-02T03:19:56.715Z"
   },
   {
    "duration": 164439,
    "start_time": "2024-04-02T03:19:58.236Z"
   },
   {
    "duration": 21,
    "start_time": "2024-04-02T03:27:43.869Z"
   },
   {
    "duration": 6,
    "start_time": "2024-04-02T03:28:58.127Z"
   },
   {
    "duration": 51799,
    "start_time": "2024-04-02T03:28:59.029Z"
   },
   {
    "duration": 14,
    "start_time": "2024-04-02T03:30:11.333Z"
   },
   {
    "duration": 5,
    "start_time": "2024-04-02T03:31:06.575Z"
   },
   {
    "duration": 90002,
    "start_time": "2024-04-02T03:31:07.334Z"
   },
   {
    "duration": 113,
    "start_time": "2024-04-02T03:37:06.431Z"
   },
   {
    "duration": 4,
    "start_time": "2024-04-02T03:37:11.921Z"
   },
   {
    "duration": 15862,
    "start_time": "2024-04-02T03:37:16.737Z"
   },
   {
    "duration": 4,
    "start_time": "2024-04-02T03:37:40.498Z"
   },
   {
    "duration": 54563,
    "start_time": "2024-04-02T03:37:41.608Z"
   },
   {
    "duration": 14,
    "start_time": "2024-04-02T03:38:55.985Z"
   },
   {
    "duration": 3,
    "start_time": "2024-04-02T03:39:51.129Z"
   },
   {
    "duration": 1756,
    "start_time": "2024-04-02T03:39:51.908Z"
   },
   {
    "duration": 6,
    "start_time": "2024-04-02T03:39:57.501Z"
   },
   {
    "duration": 3,
    "start_time": "2024-04-02T03:40:09.410Z"
   },
   {
    "duration": 1757,
    "start_time": "2024-04-02T03:40:10.011Z"
   },
   {
    "duration": 5,
    "start_time": "2024-04-02T03:40:11.770Z"
   },
   {
    "duration": 4,
    "start_time": "2024-04-02T03:41:07.828Z"
   },
   {
    "duration": 3,
    "start_time": "2024-04-02T03:41:08.386Z"
   },
   {
    "duration": 1805,
    "start_time": "2024-04-02T03:41:08.858Z"
   },
   {
    "duration": 5,
    "start_time": "2024-04-02T03:41:10.665Z"
   },
   {
    "duration": 16908,
    "start_time": "2024-04-02T03:41:22.628Z"
   },
   {
    "duration": 14,
    "start_time": "2024-04-02T03:42:05.409Z"
   },
   {
    "duration": 5,
    "start_time": "2024-04-02T03:42:23.508Z"
   },
   {
    "duration": 3,
    "start_time": "2024-04-02T03:42:24.125Z"
   },
   {
    "duration": 1805,
    "start_time": "2024-04-02T03:42:25.074Z"
   },
   {
    "duration": 9673,
    "start_time": "2024-04-02T03:42:30.122Z"
   },
   {
    "duration": 12,
    "start_time": "2024-04-02T03:42:44.690Z"
   },
   {
    "duration": 4,
    "start_time": "2024-04-02T03:43:12.865Z"
   },
   {
    "duration": 28111,
    "start_time": "2024-04-02T03:43:14.021Z"
   },
   {
    "duration": 12,
    "start_time": "2024-04-02T03:43:46.298Z"
   },
   {
    "duration": 4,
    "start_time": "2024-04-02T03:44:33.651Z"
   },
   {
    "duration": 28441,
    "start_time": "2024-04-02T03:44:34.060Z"
   },
   {
    "duration": 12,
    "start_time": "2024-04-02T03:45:29.367Z"
   },
   {
    "duration": 4,
    "start_time": "2024-04-02T03:47:15.176Z"
   },
   {
    "duration": 7161,
    "start_time": "2024-04-02T03:47:15.762Z"
   },
   {
    "duration": 5,
    "start_time": "2024-04-02T03:48:01.449Z"
   },
   {
    "duration": 163245,
    "start_time": "2024-04-02T03:48:02.631Z"
   },
   {
    "duration": 18,
    "start_time": "2024-04-02T03:50:45.878Z"
   },
   {
    "duration": 18,
    "start_time": "2024-04-02T03:59:47.138Z"
   },
   {
    "duration": 4,
    "start_time": "2024-04-02T04:00:46.288Z"
   },
   {
    "duration": 17796,
    "start_time": "2024-04-02T04:00:48.481Z"
   },
   {
    "duration": 19,
    "start_time": "2024-04-02T04:01:13.763Z"
   },
   {
    "duration": 5,
    "start_time": "2024-04-02T04:02:13.831Z"
   },
   {
    "duration": 93,
    "start_time": "2024-04-02T04:02:14.823Z"
   },
   {
    "duration": 28531,
    "start_time": "2024-04-02T04:02:20.410Z"
   },
   {
    "duration": 14,
    "start_time": "2024-04-02T04:03:23.305Z"
   },
   {
    "duration": 7,
    "start_time": "2024-04-02T04:06:20.651Z"
   },
   {
    "duration": 110,
    "start_time": "2024-04-02T04:06:21.664Z"
   },
   {
    "duration": 5694,
    "start_time": "2024-04-02T04:06:32.106Z"
   },
   {
    "duration": 28,
    "start_time": "2024-04-02T04:07:51.321Z"
   },
   {
    "duration": 13,
    "start_time": "2024-04-02T04:08:19.771Z"
   },
   {
    "duration": 15,
    "start_time": "2024-04-02T04:08:23.413Z"
   },
   {
    "duration": 27,
    "start_time": "2024-04-02T04:08:38.323Z"
   },
   {
    "duration": 1430,
    "start_time": "2024-04-02T04:08:55.556Z"
   },
   {
    "duration": 74,
    "start_time": "2024-04-02T04:25:52.691Z"
   },
   {
    "duration": 10292,
    "start_time": "2024-04-02T04:28:59.296Z"
   },
   {
    "duration": 1576,
    "start_time": "2024-04-02T04:29:09.590Z"
   },
   {
    "duration": 76,
    "start_time": "2024-04-02T04:29:11.168Z"
   },
   {
    "duration": 16,
    "start_time": "2024-04-02T04:29:11.245Z"
   },
   {
    "duration": 1157,
    "start_time": "2024-04-02T04:29:11.264Z"
   },
   {
    "duration": 730,
    "start_time": "2024-04-02T04:29:12.423Z"
   },
   {
    "duration": 24,
    "start_time": "2024-04-02T04:29:13.155Z"
   },
   {
    "duration": 420,
    "start_time": "2024-04-02T04:29:13.181Z"
   },
   {
    "duration": 279,
    "start_time": "2024-04-02T04:29:13.602Z"
   },
   {
    "duration": 429,
    "start_time": "2024-04-02T04:29:13.883Z"
   },
   {
    "duration": 1963,
    "start_time": "2024-04-02T04:29:14.314Z"
   },
   {
    "duration": 197,
    "start_time": "2024-04-02T04:29:16.279Z"
   },
   {
    "duration": 13,
    "start_time": "2024-04-02T04:29:16.478Z"
   },
   {
    "duration": 7,
    "start_time": "2024-04-02T04:29:16.494Z"
   },
   {
    "duration": 72,
    "start_time": "2024-04-02T04:29:16.502Z"
   },
   {
    "duration": 17,
    "start_time": "2024-04-02T04:29:16.575Z"
   },
   {
    "duration": 10235,
    "start_time": "2024-04-02T05:20:51.830Z"
   },
   {
    "duration": 1606,
    "start_time": "2024-04-02T05:21:02.068Z"
   },
   {
    "duration": 75,
    "start_time": "2024-04-02T05:21:03.676Z"
   },
   {
    "duration": 17,
    "start_time": "2024-04-02T05:21:03.752Z"
   },
   {
    "duration": 1166,
    "start_time": "2024-04-02T05:21:03.771Z"
   },
   {
    "duration": 755,
    "start_time": "2024-04-02T05:21:04.939Z"
   },
   {
    "duration": 19,
    "start_time": "2024-04-02T05:21:05.695Z"
   },
   {
    "duration": 701,
    "start_time": "2024-04-02T05:21:05.716Z"
   },
   {
    "duration": 489,
    "start_time": "2024-04-02T05:21:06.419Z"
   },
   {
    "duration": 645,
    "start_time": "2024-04-02T05:21:06.909Z"
   },
   {
    "duration": 1527,
    "start_time": "2024-04-02T05:21:07.556Z"
   },
   {
    "duration": 104,
    "start_time": "2024-04-02T05:21:09.174Z"
   },
   {
    "duration": 36,
    "start_time": "2024-04-02T05:21:09.280Z"
   },
   {
    "duration": 7,
    "start_time": "2024-04-02T05:21:09.318Z"
   },
   {
    "duration": 130,
    "start_time": "2024-04-02T05:21:09.327Z"
   },
   {
    "duration": 17,
    "start_time": "2024-04-02T05:21:09.459Z"
   },
   {
    "duration": 28832,
    "start_time": "2024-04-02T05:54:45.260Z"
   },
   {
    "duration": 1561,
    "start_time": "2024-04-02T05:55:14.094Z"
   },
   {
    "duration": 145,
    "start_time": "2024-04-02T05:55:15.656Z"
   },
   {
    "duration": 16,
    "start_time": "2024-04-02T05:55:15.803Z"
   },
   {
    "duration": 1121,
    "start_time": "2024-04-02T05:55:15.822Z"
   },
   {
    "duration": 654,
    "start_time": "2024-04-02T05:55:16.944Z"
   },
   {
    "duration": 28,
    "start_time": "2024-04-02T05:55:17.599Z"
   },
   {
    "duration": 385,
    "start_time": "2024-04-02T05:55:17.628Z"
   },
   {
    "duration": 305,
    "start_time": "2024-04-02T05:55:18.014Z"
   },
   {
    "duration": 435,
    "start_time": "2024-04-02T05:55:18.321Z"
   },
   {
    "duration": 1856,
    "start_time": "2024-04-02T05:55:18.758Z"
   },
   {
    "duration": 107,
    "start_time": "2024-04-02T05:55:20.617Z"
   },
   {
    "duration": 27,
    "start_time": "2024-04-02T05:55:20.725Z"
   },
   {
    "duration": 6,
    "start_time": "2024-04-02T05:55:20.754Z"
   },
   {
    "duration": 165,
    "start_time": "2024-04-02T05:55:20.762Z"
   },
   {
    "duration": 0,
    "start_time": "2024-04-02T05:55:20.929Z"
   },
   {
    "duration": 51,
    "start_time": "2024-04-02T10:56:12.965Z"
   },
   {
    "duration": 30123,
    "start_time": "2024-04-02T10:56:17.440Z"
   },
   {
    "duration": 1693,
    "start_time": "2024-04-02T10:56:47.565Z"
   },
   {
    "duration": 194,
    "start_time": "2024-04-02T10:56:49.262Z"
   },
   {
    "duration": 13,
    "start_time": "2024-04-02T10:56:49.458Z"
   },
   {
    "duration": 1091,
    "start_time": "2024-04-02T10:56:49.473Z"
   },
   {
    "duration": 665,
    "start_time": "2024-04-02T10:56:50.565Z"
   },
   {
    "duration": 24,
    "start_time": "2024-04-02T10:56:51.232Z"
   },
   {
    "duration": 426,
    "start_time": "2024-04-02T10:56:51.258Z"
   },
   {
    "duration": 292,
    "start_time": "2024-04-02T10:56:51.686Z"
   },
   {
    "duration": 424,
    "start_time": "2024-04-02T10:56:51.986Z"
   },
   {
    "duration": 1975,
    "start_time": "2024-04-02T10:56:52.412Z"
   },
   {
    "duration": 105,
    "start_time": "2024-04-02T10:56:54.390Z"
   },
   {
    "duration": 52,
    "start_time": "2024-04-02T10:56:54.497Z"
   },
   {
    "duration": 52,
    "start_time": "2024-04-02T10:56:54.552Z"
   },
   {
    "duration": 207,
    "start_time": "2024-04-02T10:56:54.606Z"
   },
   {
    "duration": 18,
    "start_time": "2024-04-02T10:56:54.814Z"
   }
  ],
  "kernelspec": {
   "display_name": "Python 3 (ipykernel)",
   "language": "python",
   "name": "python3"
  },
  "language_info": {
   "codemirror_mode": {
    "name": "ipython",
    "version": 3
   },
   "file_extension": ".py",
   "mimetype": "text/x-python",
   "name": "python",
   "nbconvert_exporter": "python",
   "pygments_lexer": "ipython3",
   "version": "3.11.9"
  },
  "toc": {
   "base_numbering": 1,
   "nav_menu": {},
   "number_sections": true,
   "sideBar": true,
   "skip_h1_title": true,
   "title_cell": "Содержание",
   "title_sidebar": "Contents",
   "toc_cell": true,
   "toc_position": {
    "height": "739.167px",
    "left": "48px",
    "top": "110.633px",
    "width": "358px"
   },
   "toc_section_display": true,
   "toc_window_display": true
  }
 },
 "nbformat": 4,
 "nbformat_minor": 4
}
