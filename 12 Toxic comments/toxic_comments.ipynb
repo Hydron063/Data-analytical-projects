{
 "cells": [
  {
   "cell_type": "markdown",
   "metadata": {
    "toc": true
   },
   "source": [
    "<h1>Содержание<span class=\"tocSkip\"></span></h1>\n",
    "<div class=\"toc\"><ul class=\"toc-item\"><li><span><a href=\"#Подготовка\" data-toc-modified-id=\"Подготовка-1\"><span class=\"toc-item-num\">1&nbsp;&nbsp;</span>Подготовка</a></span></li><li><span><a href=\"#Обучение\" data-toc-modified-id=\"Обучение-2\"><span class=\"toc-item-num\">2&nbsp;&nbsp;</span>Обучение</a></span></li><li><span><a href=\"#Выводы\" data-toc-modified-id=\"Выводы-3\"><span class=\"toc-item-num\">3&nbsp;&nbsp;</span>Выводы</a></span></li><li><span><a href=\"#Чек-лист-проверки\" data-toc-modified-id=\"Чек-лист-проверки-4\"><span class=\"toc-item-num\">4&nbsp;&nbsp;</span>Чек-лист проверки</a></span></li></ul></div>"
   ]
  },
  {
   "cell_type": "markdown",
   "metadata": {},
   "source": [
    "# Предсказание токсичных комментариев"
   ]
  },
  {
   "cell_type": "markdown",
   "metadata": {},
   "source": [
    "Интернет-магазин «Викишоп» запускает новый сервис. Теперь пользователи могут редактировать и дополнять описания товаров, как в вики-сообществах. То есть клиенты предлагают свои правки и комментируют изменения других. Магазину нужен инструмент, который будет искать токсичные комментарии и отправлять их на модерацию. \n",
    "\n",
    "Обучите модель классифицировать комментарии на позитивные и негативные. В вашем распоряжении набор данных с разметкой о токсичности правок.\n",
    "\n",
    "Постройте модель со значением метрики качества *F1* не меньше 0.75. \n",
    "\n",
    "**Инструкция по выполнению проекта**\n",
    "\n",
    "1. Загрузите и подготовьте данные.\n",
    "2. Обучите разные модели. \n",
    "3. Сделайте выводы.\n",
    "\n",
    "Для выполнения проекта применять *BERT* необязательно, но вы можете попробовать.\n",
    "\n",
    "**Описание данных**\n",
    "\n",
    "Данные находятся в файле `toxic_comments.csv`. Столбец *text* в нём содержит текст комментария, а *toxic* — целевой признак."
   ]
  },
  {
   "cell_type": "markdown",
   "metadata": {},
   "source": [
    "## Подготовка"
   ]
  },
  {
   "cell_type": "markdown",
   "metadata": {},
   "source": [
    "Подключим используемые библиотеки:"
   ]
  },
  {
   "cell_type": "code",
   "execution_count": 1,
   "metadata": {},
   "outputs": [],
   "source": [
    "!pip install nltk -q"
   ]
  },
  {
   "cell_type": "markdown",
   "metadata": {},
   "source": [
    "Импортируем необходимые пакеты:"
   ]
  },
  {
   "cell_type": "code",
   "execution_count": 2,
   "metadata": {},
   "outputs": [
    {
     "name": "stderr",
     "output_type": "stream",
     "text": [
      "[nltk_data] Downloading package wordnet to\n",
      "[nltk_data]     C:\\Users\\hydro\\AppData\\Roaming\\nltk_data...\n",
      "[nltk_data]   Package wordnet is already up-to-date!\n",
      "[nltk_data] Downloading package stopwords to\n",
      "[nltk_data]     C:\\Users\\hydro\\AppData\\Roaming\\nltk_data...\n",
      "[nltk_data]   Package stopwords is already up-to-date!\n",
      "[nltk_data] Downloading package averaged_perceptron_tagger to\n",
      "[nltk_data]     C:\\Users\\hydro\\AppData\\Roaming\\nltk_data...\n",
      "[nltk_data]   Package averaged_perceptron_tagger is already up-to-\n",
      "[nltk_data]       date!\n"
     ]
    }
   ],
   "source": [
    "from sklearn.feature_extraction.text import TfidfVectorizer\n",
    "from sklearn.model_selection import train_test_split, cross_val_score\n",
    "from sklearn.linear_model import LogisticRegression\n",
    "from sklearn.metrics import f1_score, precision_score, recall_score, precision_recall_curve\n",
    "from sklearn.pipeline import Pipeline\n",
    "from sklearn.preprocessing import StandardScaler, RobustScaler\n",
    "from sklearn.model_selection import GridSearchCV\n",
    "from sklearn.neighbors import KNeighborsClassifier\n",
    "from tqdm.auto import tqdm\n",
    "\n",
    "import matplotlib.pyplot as plt\n",
    "import nltk\n",
    "from nltk.corpus import stopwords\n",
    "from nltk.stem import WordNetLemmatizer\n",
    "from nltk.corpus import wordnet\n",
    "import pandas as pd\n",
    "import numpy as np\n",
    "import re\n",
    "import os\n",
    "import pickle\n",
    "import warnings\n",
    "\n",
    "nltk.download('wordnet')\n",
    "nltk.download('stopwords')\n",
    "nltk.download('averaged_perceptron_tagger')\n",
    "warnings.filterwarnings('ignore')\n",
    "tqdm.pandas()"
   ]
  },
  {
   "cell_type": "markdown",
   "metadata": {},
   "source": [
    "Загрузим исходный датасет:"
   ]
  },
  {
   "cell_type": "code",
   "execution_count": 3,
   "metadata": {},
   "outputs": [
    {
     "name": "stdout",
     "output_type": "stream",
     "text": [
      "<class 'pandas.core.frame.DataFrame'>\n",
      "Index: 159292 entries, 0 to 159450\n",
      "Data columns (total 2 columns):\n",
      " #   Column  Non-Null Count   Dtype \n",
      "---  ------  --------------   ----- \n",
      " 0   text    159292 non-null  object\n",
      " 1   toxic   159292 non-null  int64 \n",
      "dtypes: int64(1), object(1)\n",
      "memory usage: 3.6+ MB\n"
     ]
    }
   ],
   "source": [
    "def check_and_read(path, index_col=None, parse_dates=None):\n",
    "    if os.path.exists(path):\n",
    "        return pd.read_csv(path, index_col=index_col, parse_dates=parse_dates)\n",
    "    else:\n",
    "        print(f'Не найден файл по указанному пути: {path}')\n",
    "\n",
    "\n",
    "df = check_and_read('datasets/toxic_comments.csv', index_col=0)\n",
    "df.info()"
   ]
  },
  {
   "cell_type": "markdown",
   "metadata": {},
   "source": [
    "Как видно, набор данных достаточно большой и содержит почти 160000 образцов текста."
   ]
  },
  {
   "cell_type": "markdown",
   "metadata": {},
   "source": [
    "Посмотрим на соотношение классов. Как и ожидалось, токсичные комментарии составляют меньшинство (около 10%):"
   ]
  },
  {
   "cell_type": "code",
   "execution_count": 4,
   "metadata": {},
   "outputs": [
    {
     "name": "stdout",
     "output_type": "stream",
     "text": [
      "Соотношение классов в процентах:\n"
     ]
    },
    {
     "data": {
      "text/plain": [
       "toxic\n",
       "0    89.8\n",
       "1    10.2\n",
       "Name: proportion, dtype: float64"
      ]
     },
     "execution_count": 4,
     "metadata": {},
     "output_type": "execute_result"
    }
   ],
   "source": [
    "print('Соотношение классов в процентах:')\n",
    "df['toxic'].value_counts(normalize=True).round(3)*100"
   ]
  },
  {
   "cell_type": "markdown",
   "metadata": {},
   "source": [
    "Теперь применим функции лемматизации и очистки текста, а затем создадим TfIdf вектора (с удалением стопслов) и 2-граммы."
   ]
  },
  {
   "cell_type": "code",
   "execution_count": 5,
   "metadata": {},
   "outputs": [],
   "source": [
    "tag_dict = {\"J\": wordnet.ADJ,\n",
    "            \"N\": wordnet.NOUN,\n",
    "            \"V\": wordnet.VERB,\n",
    "            \"R\": wordnet.ADV}\n",
    "wnl = WordNetLemmatizer()\n",
    "\n",
    "\n",
    "def get_wordnet_pos(word):\n",
    "    return tag_dict.get(nltk.pos_tag([word])[0][1][0].upper(), wordnet.NOUN)\n",
    "\n",
    "\n",
    "def lemmatize(word_list):\n",
    "    return [wnl.lemmatize(w, get_wordnet_pos(w)) for w in word_list]\n",
    "\n",
    "\n",
    "def clear_text(text):\n",
    "    return ' '.join(lemmatize(re.sub(r'[^A-Za-z\\' ]', ' ', text).split()))\n",
    "\n",
    "\n"
   ]
  },
  {
   "cell_type": "code",
   "execution_count": 6,
   "metadata": {},
   "outputs": [
    {
     "data": {
      "text/plain": [
       "[]"
      ]
     },
     "execution_count": 6,
     "metadata": {},
     "output_type": "execute_result"
    }
   ],
   "source": [
    "[x**2 for x in[]]"
   ]
  },
  {
   "cell_type": "code",
   "execution_count": 7,
   "metadata": {
    "scrolled": true
   },
   "outputs": [],
   "source": [
    "processed = True\n",
    "filename = 'cleared_text.csv'\n",
    "if not processed:\n",
    "    df['text'] = df['text'].progress_apply(lambda x: clear_text(x))\n",
    "    df.to_csv(filename)\n",
    "else:\n",
    "    df = check_and_read(filename, 0).fillna('')"
   ]
  },
  {
   "cell_type": "markdown",
   "metadata": {},
   "source": [
    "Посмотрим на полученный результат:"
   ]
  },
  {
   "cell_type": "code",
   "execution_count": 8,
   "metadata": {},
   "outputs": [
    {
     "data": {
      "text/html": [
       "<div>\n",
       "<style scoped>\n",
       "    .dataframe tbody tr th:only-of-type {\n",
       "        vertical-align: middle;\n",
       "    }\n",
       "\n",
       "    .dataframe tbody tr th {\n",
       "        vertical-align: top;\n",
       "    }\n",
       "\n",
       "    .dataframe thead th {\n",
       "        text-align: right;\n",
       "    }\n",
       "</style>\n",
       "<table border=\"1\" class=\"dataframe\">\n",
       "  <thead>\n",
       "    <tr style=\"text-align: right;\">\n",
       "      <th></th>\n",
       "      <th>text</th>\n",
       "      <th>toxic</th>\n",
       "    </tr>\n",
       "  </thead>\n",
       "  <tbody>\n",
       "    <tr>\n",
       "      <th>0</th>\n",
       "      <td>Explanation Why the edits make under my userna...</td>\n",
       "      <td>0</td>\n",
       "    </tr>\n",
       "    <tr>\n",
       "      <th>1</th>\n",
       "      <td>D'aww He match this background colour I'm seem...</td>\n",
       "      <td>0</td>\n",
       "    </tr>\n",
       "    <tr>\n",
       "      <th>2</th>\n",
       "      <td>Hey man I'm really not try to edit war It's ju...</td>\n",
       "      <td>0</td>\n",
       "    </tr>\n",
       "    <tr>\n",
       "      <th>3</th>\n",
       "      <td>More I can't make any real suggestion on impro...</td>\n",
       "      <td>0</td>\n",
       "    </tr>\n",
       "    <tr>\n",
       "      <th>4</th>\n",
       "      <td>You sir be my hero Any chance you remember wha...</td>\n",
       "      <td>0</td>\n",
       "    </tr>\n",
       "  </tbody>\n",
       "</table>\n",
       "</div>"
      ],
      "text/plain": [
       "                                                text  toxic\n",
       "0  Explanation Why the edits make under my userna...      0\n",
       "1  D'aww He match this background colour I'm seem...      0\n",
       "2  Hey man I'm really not try to edit war It's ju...      0\n",
       "3  More I can't make any real suggestion on impro...      0\n",
       "4  You sir be my hero Any chance you remember wha...      0"
      ]
     },
     "execution_count": 8,
     "metadata": {},
     "output_type": "execute_result"
    }
   ],
   "source": [
    "df.head()"
   ]
  },
  {
   "cell_type": "markdown",
   "metadata": {},
   "source": [
    "## Обучение"
   ]
  },
  {
   "cell_type": "markdown",
   "metadata": {},
   "source": [
    "Выделим тренировочный и тестовый датасеты:"
   ]
  },
  {
   "cell_type": "code",
   "execution_count": 9,
   "metadata": {},
   "outputs": [],
   "source": [
    "RANDOM_STATE = 42\n",
    "\n",
    "X_train, X_test, y_train, y_test = train_test_split(df['text'], df['toxic'], random_state=RANDOM_STATE)"
   ]
  },
  {
   "cell_type": "markdown",
   "metadata": {},
   "source": [
    "Препроцессинг в виде масштабирования признаков обычно не проводится для TfIdf векторов. Применим логистическую регрессию, как наименее затратную по ресурсам, изменяя параметр C и балансируя веса классов."
   ]
  },
  {
   "cell_type": "code",
   "execution_count": 10,
   "metadata": {},
   "outputs": [],
   "source": [
    "stop_words = stopwords.words('english')\n",
    "\n",
    "\n",
    "pipe_final = Pipeline([\n",
    "    ('preprocessor', TfidfVectorizer(stop_words = stop_words, ngram_range=(1, 2))),\n",
    "    ('models', 'passthrough')\n",
    "])\n",
    "\n",
    "param_grid = [\n",
    "    {\n",
    "        'models': [LogisticRegression(random_state=RANDOM_STATE, max_iter=1000)],\n",
    "        'models__C': [10, 20, 30],\n",
    "        'models__class_weight': ['balanced', None],\n",
    "    },\n",
    "]"
   ]
  },
  {
   "cell_type": "code",
   "execution_count": 11,
   "metadata": {},
   "outputs": [
    {
     "name": "stdout",
     "output_type": "stream",
     "text": [
      "Fitting 5 folds for each of 6 candidates, totalling 30 fits\n",
      "Лучшая модель и её параметры:\n",
      "\n",
      " Pipeline(steps=[('preprocessor',\n",
      "                 TfidfVectorizer(ngram_range=(1, 2),\n",
      "                                 stop_words=['i', 'me', 'my', 'myself', 'we',\n",
      "                                             'our', 'ours', 'ourselves', 'you',\n",
      "                                             \"you're\", \"you've\", \"you'll\",\n",
      "                                             \"you'd\", 'your', 'yours',\n",
      "                                             'yourself', 'yourselves', 'he',\n",
      "                                             'him', 'his', 'himself', 'she',\n",
      "                                             \"she's\", 'her', 'hers', 'herself',\n",
      "                                             'it', \"it's\", 'its', 'itself', ...])),\n",
      "                ('models',\n",
      "                 LogisticRegression(C=30, class_weight='balanced',\n",
      "                                    max_iter=1000, random_state=42))])\n",
      "{'models': LogisticRegression(max_iter=1000, random_state=42), 'models__C': 30, 'models__class_weight': 'balanced'}\n",
      "Метрика F1 лучшей модели на тренировочной выборке: 0.779\n",
      "Сравнение первых 10 предсказаний и истинных значений:\n",
      "[0 0 0 0 0 1 1 0 0 0]\n",
      "[0 0 0 0 0 1 1 0 0 0]\n",
      "Метрика F1 на тестовой выборке: 0.781\n",
      "Метрика precision на тестовой выборке: 0.754\n",
      "Метрика recall на тестовой выборке: 0.809\n"
     ]
    }
   ],
   "source": [
    "use_prev = False\n",
    "filename = 'final_model_text.sav'\n",
    "if use_prev:\n",
    "    hyper_search = pickle.load(open(filename, 'rb'))\n",
    "else:\n",
    "    hyper_search = GridSearchCV(\n",
    "        pipe_final,\n",
    "        param_grid,\n",
    "        cv=5,\n",
    "        scoring='f1',\n",
    "        verbose=3,\n",
    "        n_jobs=-1,\n",
    "        return_train_score=True,\n",
    "    )\n",
    "    hyper_search.fit(X_train, y_train)\n",
    "    pickle.dump(hyper_search, open(filename, 'wb'))\n",
    "\n",
    "print('Лучшая модель и её параметры:\\n\\n', hyper_search.best_estimator_)\n",
    "print(hyper_search.best_params_)\n",
    "print(f'Метрика F1 лучшей модели на тренировочной выборке: {hyper_search.best_score_:.3f}')\n",
    "\n",
    "y_pred = hyper_search.predict(X_test)\n",
    "print('Сравнение первых 10 предсказаний и истинных значений:')\n",
    "print(y_pred[:10])\n",
    "print(y_test[:10].to_numpy())\n",
    "print(f'Метрика F1 на тестовой выборке: {f1_score(y_test, y_pred):.3f}')\n",
    "print(f'Метрика precision на тестовой выборке: {precision_score(y_test, y_pred):.3f}')\n",
    "print(f'Метрика recall на тестовой выборке: {recall_score(y_test, y_pred):.3f}')"
   ]
  },
  {
   "cell_type": "markdown",
   "metadata": {},
   "source": [
    "Полученный результат: F1 = 0,781 (precision = 0,754; recall = 0,809). Выявленные оптимальные гиперпараметры: C = 30, с балансированием весов классов. Результат удовлетворительный."
   ]
  },
  {
   "cell_type": "markdown",
   "metadata": {},
   "source": [
    "## Выводы"
   ]
  },
  {
   "cell_type": "markdown",
   "metadata": {},
   "source": [
    "В ходе работы были загружены исходные данные, созданы вектора TfIdf, построена модель логистической регрессии. Лемматизация датасета заняла порядка 20 минут.  \n",
    "Полученный на итоговой модели результат: F1 = 0,782 (precision = 0,786; recall = 0,778). Это превышает требуемый порог 0,75 для F1 меры и соответствует поставленной задаче. Выявленные оптимальные гиперпараметры модели: логистическая регрессия, C = 20, с балансированием весов классов."
   ]
  },
  {
   "cell_type": "code",
   "execution_count": null,
   "metadata": {},
   "outputs": [],
   "source": []
  }
 ],
 "metadata": {
  "ExecuteTimeLog": [
   {
    "duration": 1794,
    "start_time": "2024-04-14T15:00:30.320Z"
   },
   {
    "duration": 4652,
    "start_time": "2024-04-14T15:00:38.064Z"
   },
   {
    "duration": 1696,
    "start_time": "2024-04-15T01:59:51.837Z"
   },
   {
    "duration": 1290,
    "start_time": "2024-04-18T13:03:51.655Z"
   },
   {
    "duration": 86,
    "start_time": "2024-04-18T13:04:00.619Z"
   },
   {
    "duration": 208,
    "start_time": "2024-04-18T13:05:17.387Z"
   },
   {
    "duration": 3126,
    "start_time": "2024-04-18T13:05:21.005Z"
   },
   {
    "duration": 4,
    "start_time": "2024-04-18T13:05:29.661Z"
   },
   {
    "duration": 24,
    "start_time": "2024-04-18T13:05:30.981Z"
   },
   {
    "duration": 9,
    "start_time": "2024-04-18T13:05:42.157Z"
   },
   {
    "duration": 5,
    "start_time": "2024-04-18T13:06:08.809Z"
   },
   {
    "duration": 857,
    "start_time": "2024-04-18T13:06:09.482Z"
   },
   {
    "duration": 3,
    "start_time": "2024-04-18T13:06:10.341Z"
   },
   {
    "duration": 9,
    "start_time": "2024-04-18T13:06:11.591Z"
   },
   {
    "duration": 6,
    "start_time": "2024-04-18T13:08:45.263Z"
   },
   {
    "duration": 776,
    "start_time": "2024-04-18T13:08:47.303Z"
   },
   {
    "duration": 9,
    "start_time": "2024-04-18T13:08:48.081Z"
   },
   {
    "duration": 19,
    "start_time": "2024-04-18T13:08:48.092Z"
   },
   {
    "duration": 5,
    "start_time": "2024-04-18T13:08:59.822Z"
   },
   {
    "duration": 809,
    "start_time": "2024-04-18T13:09:00.748Z"
   },
   {
    "duration": 3,
    "start_time": "2024-04-18T13:09:01.559Z"
   },
   {
    "duration": 228,
    "start_time": "2024-04-18T13:09:01.564Z"
   },
   {
    "duration": 10,
    "start_time": "2024-04-18T13:09:30.991Z"
   },
   {
    "duration": 5,
    "start_time": "2024-04-18T13:09:41.668Z"
   },
   {
    "duration": 784,
    "start_time": "2024-04-18T13:09:42.297Z"
   },
   {
    "duration": 3,
    "start_time": "2024-04-18T13:09:43.083Z"
   },
   {
    "duration": 37,
    "start_time": "2024-04-18T13:09:43.087Z"
   },
   {
    "duration": 799,
    "start_time": "2024-04-18T13:09:52.228Z"
   },
   {
    "duration": 4,
    "start_time": "2024-04-18T13:10:00.958Z"
   },
   {
    "duration": 5,
    "start_time": "2024-04-18T13:13:09.186Z"
   },
   {
    "duration": 780,
    "start_time": "2024-04-18T13:13:10.921Z"
   },
   {
    "duration": 3,
    "start_time": "2024-04-18T13:13:11.709Z"
   },
   {
    "duration": 14107,
    "start_time": "2024-04-18T13:13:14.156Z"
   },
   {
    "duration": 6,
    "start_time": "2024-04-18T13:21:54.924Z"
   },
   {
    "duration": 826,
    "start_time": "2024-04-18T13:21:55.529Z"
   },
   {
    "duration": 3,
    "start_time": "2024-04-18T13:21:56.357Z"
   },
   {
    "duration": 306,
    "start_time": "2024-04-18T13:22:02.405Z"
   },
   {
    "duration": 5,
    "start_time": "2024-04-18T13:22:21.461Z"
   },
   {
    "duration": 813,
    "start_time": "2024-04-18T13:22:22.812Z"
   },
   {
    "duration": 3,
    "start_time": "2024-04-18T13:22:23.627Z"
   },
   {
    "duration": 36247,
    "start_time": "2024-04-18T13:22:23.820Z"
   },
   {
    "duration": 4,
    "start_time": "2024-04-18T13:32:21.389Z"
   },
   {
    "duration": 5,
    "start_time": "2024-04-18T13:34:44.801Z"
   },
   {
    "duration": 5,
    "start_time": "2024-04-18T13:35:14.545Z"
   },
   {
    "duration": 32614,
    "start_time": "2024-04-18T13:35:23.208Z"
   },
   {
    "duration": 6,
    "start_time": "2024-04-18T13:38:42.517Z"
   },
   {
    "duration": 6,
    "start_time": "2024-04-18T13:39:00.433Z"
   },
   {
    "duration": 13,
    "start_time": "2024-04-18T13:40:20.581Z"
   },
   {
    "duration": 5857,
    "start_time": "2024-04-18T13:41:00.625Z"
   },
   {
    "duration": 9,
    "start_time": "2024-04-18T13:42:50.979Z"
   },
   {
    "duration": 6,
    "start_time": "2024-04-18T13:43:04.356Z"
   },
   {
    "duration": 105,
    "start_time": "2024-04-18T13:43:07.955Z"
   },
   {
    "duration": 89,
    "start_time": "2024-04-18T13:43:21.682Z"
   },
   {
    "duration": 5,
    "start_time": "2024-04-18T13:44:03.746Z"
   },
   {
    "duration": 3,
    "start_time": "2024-04-18T13:45:44.651Z"
   },
   {
    "duration": 4,
    "start_time": "2024-04-18T13:45:55.844Z"
   },
   {
    "duration": 4,
    "start_time": "2024-04-18T13:46:04.765Z"
   },
   {
    "duration": 238,
    "start_time": "2024-04-18T13:46:46.251Z"
   },
   {
    "duration": 830,
    "start_time": "2024-04-18T13:48:25.902Z"
   },
   {
    "duration": 5,
    "start_time": "2024-04-18T13:50:37.430Z"
   },
   {
    "duration": 3,
    "start_time": "2024-04-18T13:52:06.699Z"
   },
   {
    "duration": 13,
    "start_time": "2024-04-18T13:52:09.301Z"
   },
   {
    "duration": 6,
    "start_time": "2024-04-18T13:52:18.165Z"
   },
   {
    "duration": 4,
    "start_time": "2024-04-18T13:52:20.726Z"
   },
   {
    "duration": 869,
    "start_time": "2024-04-18T13:52:23.413Z"
   },
   {
    "duration": 4,
    "start_time": "2024-04-18T13:52:54.565Z"
   },
   {
    "duration": 5,
    "start_time": "2024-04-18T13:52:55.068Z"
   },
   {
    "duration": 850,
    "start_time": "2024-04-18T13:52:55.806Z"
   },
   {
    "duration": 3,
    "start_time": "2024-04-18T13:53:59.106Z"
   },
   {
    "duration": 866,
    "start_time": "2024-04-18T13:54:01.133Z"
   },
   {
    "duration": 241,
    "start_time": "2024-04-18T13:54:14.038Z"
   },
   {
    "duration": 10,
    "start_time": "2024-04-18T13:54:17.685Z"
   },
   {
    "duration": 6,
    "start_time": "2024-04-18T13:54:38.513Z"
   },
   {
    "duration": 92,
    "start_time": "2024-04-18T13:54:48.346Z"
   },
   {
    "duration": 100,
    "start_time": "2024-04-18T13:59:48.975Z"
   },
   {
    "duration": 6,
    "start_time": "2024-04-18T14:00:09.409Z"
   },
   {
    "duration": 107,
    "start_time": "2024-04-18T14:00:13.877Z"
   },
   {
    "duration": 6,
    "start_time": "2024-04-18T14:00:46.429Z"
   },
   {
    "duration": 275027,
    "start_time": "2024-04-18T14:00:52.198Z"
   },
   {
    "duration": 0,
    "start_time": "2024-04-18T14:05:27.227Z"
   },
   {
    "duration": 480122,
    "start_time": "2024-04-18T14:05:42.524Z"
   },
   {
    "duration": 154946,
    "start_time": "2024-04-18T14:17:10.698Z"
   },
   {
    "duration": 217576,
    "start_time": "2024-04-18T14:41:17.442Z"
   },
   {
    "duration": 54406,
    "start_time": "2024-04-18T14:44:55.020Z"
   },
   {
    "duration": 6475,
    "start_time": "2024-04-18T14:47:43.754Z"
   },
   {
    "duration": 3,
    "start_time": "2024-04-18T14:47:56.506Z"
   },
   {
    "duration": 52627,
    "start_time": "2024-04-18T14:48:08.596Z"
   },
   {
    "duration": 195,
    "start_time": "2024-04-18T14:50:35.539Z"
   },
   {
    "duration": 3,
    "start_time": "2024-04-18T14:50:36.126Z"
   },
   {
    "duration": 749,
    "start_time": "2024-04-18T14:50:37.027Z"
   },
   {
    "duration": 3,
    "start_time": "2024-04-18T14:50:40.483Z"
   },
   {
    "duration": 125,
    "start_time": "2024-04-18T14:51:22.420Z"
   },
   {
    "duration": 141,
    "start_time": "2024-04-18T14:51:37.491Z"
   },
   {
    "duration": 31108,
    "start_time": "2024-04-18T14:51:39.956Z"
   },
   {
    "duration": 93,
    "start_time": "2024-04-18T14:53:44.908Z"
   },
   {
    "duration": 198395,
    "start_time": "2024-04-18T14:54:04.213Z"
   },
   {
    "duration": 47407,
    "start_time": "2024-04-18T14:57:22.611Z"
   },
   {
    "duration": 6,
    "start_time": "2024-04-18T15:02:39.504Z"
   },
   {
    "duration": 3,
    "start_time": "2024-04-18T15:02:39.943Z"
   },
   {
    "duration": 723,
    "start_time": "2024-04-18T15:02:40.394Z"
   },
   {
    "duration": 3,
    "start_time": "2024-04-18T15:02:41.119Z"
   },
   {
    "duration": 49831,
    "start_time": "2024-04-18T15:02:42.726Z"
   },
   {
    "duration": 256,
    "start_time": "2024-04-18T15:03:32.560Z"
   },
   {
    "duration": 6,
    "start_time": "2024-04-18T15:03:44.001Z"
   },
   {
    "duration": 20,
    "start_time": "2024-04-18T15:03:44.010Z"
   },
   {
    "duration": 753,
    "start_time": "2024-04-18T15:03:44.032Z"
   },
   {
    "duration": 4,
    "start_time": "2024-04-18T15:03:44.787Z"
   },
   {
    "duration": 29882,
    "start_time": "2024-04-18T15:03:44.793Z"
   },
   {
    "duration": 100,
    "start_time": "2024-04-18T15:04:14.676Z"
   },
   {
    "duration": 736878,
    "start_time": "2024-04-18T15:04:14.778Z"
   },
   {
    "duration": 140420,
    "start_time": "2024-04-18T15:16:31.658Z"
   },
   {
    "duration": 7,
    "start_time": "2024-04-18T15:23:31.750Z"
   },
   {
    "duration": 44,
    "start_time": "2024-04-18T15:23:31.758Z"
   },
   {
    "duration": 764,
    "start_time": "2024-04-18T15:23:31.803Z"
   },
   {
    "duration": 3,
    "start_time": "2024-04-18T15:23:32.568Z"
   },
   {
    "duration": 49018,
    "start_time": "2024-04-18T15:23:32.573Z"
   },
   {
    "duration": 141,
    "start_time": "2024-04-18T15:24:21.592Z"
   },
   {
    "duration": 45,
    "start_time": "2024-04-18T15:25:19.396Z"
   },
   {
    "duration": 1530,
    "start_time": "2024-04-18T15:25:23.613Z"
   },
   {
    "duration": 3,
    "start_time": "2024-04-18T15:25:25.145Z"
   },
   {
    "duration": 3237,
    "start_time": "2024-04-18T15:25:25.149Z"
   },
   {
    "duration": 3,
    "start_time": "2024-04-18T15:25:28.387Z"
   },
   {
    "duration": 52075,
    "start_time": "2024-04-18T15:25:28.392Z"
   },
   {
    "duration": 252,
    "start_time": "2024-04-18T15:26:20.469Z"
   },
   {
    "duration": 1145928,
    "start_time": "2024-04-18T15:26:20.722Z"
   },
   {
    "duration": 184436,
    "start_time": "2024-04-18T15:45:26.651Z"
   },
   {
    "duration": 6,
    "start_time": "2024-04-18T15:53:28.082Z"
   },
   {
    "duration": 13,
    "start_time": "2024-04-18T15:53:28.090Z"
   },
   {
    "duration": 897,
    "start_time": "2024-04-18T15:53:28.105Z"
   },
   {
    "duration": 6,
    "start_time": "2024-04-18T15:53:29.003Z"
   },
   {
    "duration": 32119,
    "start_time": "2024-04-18T15:53:29.010Z"
   },
   {
    "duration": 253,
    "start_time": "2024-04-18T15:54:01.131Z"
   },
   {
    "duration": 553653,
    "start_time": "2024-04-18T15:54:01.386Z"
   },
   {
    "duration": 142830,
    "start_time": "2024-04-18T16:03:15.040Z"
   },
   {
    "duration": 170,
    "start_time": "2024-04-18T23:04:51.254Z"
   },
   {
    "duration": 3,
    "start_time": "2024-04-18T23:04:51.426Z"
   },
   {
    "duration": 874,
    "start_time": "2024-04-18T23:04:51.431Z"
   },
   {
    "duration": 4,
    "start_time": "2024-04-18T23:04:52.309Z"
   },
   {
    "duration": 32171,
    "start_time": "2024-04-18T23:04:52.315Z"
   },
   {
    "duration": 246,
    "start_time": "2024-04-18T23:05:24.488Z"
   },
   {
    "duration": 550212,
    "start_time": "2024-04-18T23:05:24.735Z"
   },
   {
    "duration": 131969,
    "start_time": "2024-04-18T23:14:34.948Z"
   },
   {
    "duration": 1551,
    "start_time": "2024-04-19T14:40:15.430Z"
   },
   {
    "duration": 3,
    "start_time": "2024-04-19T14:40:19.254Z"
   },
   {
    "duration": 3345,
    "start_time": "2024-04-19T14:40:20.770Z"
   },
   {
    "duration": 3,
    "start_time": "2024-04-19T14:40:32.231Z"
   },
   {
    "duration": 33729,
    "start_time": "2024-04-19T14:40:34.549Z"
   },
   {
    "duration": 242,
    "start_time": "2024-04-19T14:41:08.280Z"
   },
   {
    "duration": 545355,
    "start_time": "2024-04-19T14:55:28.559Z"
   },
   {
    "duration": 102454,
    "start_time": "2024-04-19T15:08:13.057Z"
   },
   {
    "duration": 128,
    "start_time": "2024-04-19T16:07:11.470Z"
   },
   {
    "duration": 268,
    "start_time": "2024-04-19T16:11:01.094Z"
   },
   {
    "duration": 11,
    "start_time": "2024-04-19T16:11:54.157Z"
   },
   {
    "duration": 4,
    "start_time": "2024-04-19T16:12:24.603Z"
   },
   {
    "duration": 11,
    "start_time": "2024-04-19T16:12:31.545Z"
   },
   {
    "duration": 6,
    "start_time": "2024-04-19T16:13:08.046Z"
   },
   {
    "duration": 5,
    "start_time": "2024-04-19T16:13:17.553Z"
   },
   {
    "duration": 11,
    "start_time": "2024-04-19T16:13:20.082Z"
   },
   {
    "duration": 34,
    "start_time": "2024-04-19T16:13:37.539Z"
   },
   {
    "duration": 5,
    "start_time": "2024-04-19T16:15:50.858Z"
   },
   {
    "duration": 3989344,
    "start_time": "2024-04-19T16:15:52.339Z"
   },
   {
    "duration": 204,
    "start_time": "2024-04-19T17:46:49.490Z"
   },
   {
    "duration": 753,
    "start_time": "2024-04-19T17:47:42.795Z"
   },
   {
    "duration": 649,
    "start_time": "2024-04-19T17:48:08.312Z"
   },
   {
    "duration": 16,
    "start_time": "2024-04-19T17:53:16.600Z"
   },
   {
    "duration": 30,
    "start_time": "2024-04-19T17:53:23.102Z"
   },
   {
    "duration": 38,
    "start_time": "2024-04-19T17:53:31.864Z"
   },
   {
    "duration": 105,
    "start_time": "2024-04-19T17:54:37.182Z"
   },
   {
    "duration": 268,
    "start_time": "2024-04-19T17:55:36.581Z"
   },
   {
    "duration": 6,
    "start_time": "2024-04-19T22:03:49.569Z"
   },
   {
    "duration": 1031037,
    "start_time": "2024-04-19T22:03:52.939Z"
   },
   {
    "duration": 4,
    "start_time": "2024-04-19T22:24:00.849Z"
   },
   {
    "duration": 1715,
    "start_time": "2024-04-19T22:25:11.850Z"
   },
   {
    "duration": 3,
    "start_time": "2024-04-19T22:25:13.569Z"
   },
   {
    "duration": 3300,
    "start_time": "2024-04-19T22:25:13.574Z"
   },
   {
    "duration": 3,
    "start_time": "2024-04-19T22:25:16.876Z"
   },
   {
    "duration": 34027,
    "start_time": "2024-04-19T22:25:16.881Z"
   },
   {
    "duration": 245,
    "start_time": "2024-04-19T22:25:50.909Z"
   },
   {
    "duration": 1738,
    "start_time": "2024-04-19T22:28:24.145Z"
   },
   {
    "duration": 3,
    "start_time": "2024-04-19T22:28:25.885Z"
   },
   {
    "duration": 3300,
    "start_time": "2024-04-19T22:28:34.781Z"
   },
   {
    "duration": 3,
    "start_time": "2024-04-19T22:28:48.376Z"
   },
   {
    "duration": 34216,
    "start_time": "2024-04-19T22:28:49.507Z"
   },
   {
    "duration": 241,
    "start_time": "2024-04-19T22:29:23.724Z"
   },
   {
    "duration": 50,
    "start_time": "2024-04-19T22:39:35.107Z"
   },
   {
    "duration": 1632,
    "start_time": "2024-04-19T22:39:40.295Z"
   },
   {
    "duration": 4,
    "start_time": "2024-04-19T22:39:41.929Z"
   },
   {
    "duration": 3332,
    "start_time": "2024-04-19T22:39:41.935Z"
   },
   {
    "duration": 4,
    "start_time": "2024-04-19T22:39:45.268Z"
   },
   {
    "duration": 33658,
    "start_time": "2024-04-19T22:39:45.273Z"
   },
   {
    "duration": 242,
    "start_time": "2024-04-19T22:40:18.933Z"
   },
   {
    "duration": 95,
    "start_time": "2024-04-19T22:40:19.176Z"
   },
   {
    "duration": 87,
    "start_time": "2024-04-19T22:40:19.273Z"
   },
   {
    "duration": 0,
    "start_time": "2024-04-19T22:40:19.361Z"
   },
   {
    "duration": 4,
    "start_time": "2024-04-19T22:40:47.125Z"
   },
   {
    "duration": 851508,
    "start_time": "2024-04-19T22:40:48.773Z"
   },
   {
    "duration": 5,
    "start_time": "2024-04-19T22:55:38.242Z"
   },
   {
    "duration": 146552,
    "start_time": "2024-04-19T22:55:38.972Z"
   },
   {
    "duration": 5,
    "start_time": "2024-04-19T23:00:33.013Z"
   },
   {
    "duration": 1478,
    "start_time": "2024-04-19T23:05:19.410Z"
   },
   {
    "duration": 3,
    "start_time": "2024-04-19T23:05:20.889Z"
   },
   {
    "duration": 990,
    "start_time": "2024-04-19T23:05:20.893Z"
   },
   {
    "duration": 3,
    "start_time": "2024-04-19T23:05:21.885Z"
   },
   {
    "duration": 33752,
    "start_time": "2024-04-19T23:05:21.890Z"
   },
   {
    "duration": 244,
    "start_time": "2024-04-19T23:05:55.644Z"
   },
   {
    "duration": 98,
    "start_time": "2024-04-19T23:05:55.890Z"
   },
   {
    "duration": 5,
    "start_time": "2024-04-19T23:05:55.990Z"
   },
   {
    "duration": 1544,
    "start_time": "2024-04-19T23:44:36.570Z"
   },
   {
    "duration": 3,
    "start_time": "2024-04-19T23:44:38.116Z"
   },
   {
    "duration": 951,
    "start_time": "2024-04-19T23:44:38.121Z"
   },
   {
    "duration": 3,
    "start_time": "2024-04-19T23:44:39.074Z"
   },
   {
    "duration": 12437,
    "start_time": "2024-04-19T23:44:39.078Z"
   },
   {
    "duration": 0,
    "start_time": "2024-04-19T23:44:51.516Z"
   },
   {
    "duration": 0,
    "start_time": "2024-04-19T23:44:51.517Z"
   },
   {
    "duration": 0,
    "start_time": "2024-04-19T23:44:51.519Z"
   },
   {
    "duration": 0,
    "start_time": "2024-04-19T23:44:51.520Z"
   },
   {
    "duration": 2898,
    "start_time": "2024-04-19T23:45:00.612Z"
   },
   {
    "duration": 0,
    "start_time": "2024-04-19T23:45:03.511Z"
   },
   {
    "duration": 1466,
    "start_time": "2024-04-19T23:45:13.220Z"
   },
   {
    "duration": 3,
    "start_time": "2024-04-19T23:45:14.687Z"
   },
   {
    "duration": 936,
    "start_time": "2024-04-19T23:45:14.692Z"
   },
   {
    "duration": 3,
    "start_time": "2024-04-19T23:45:15.629Z"
   },
   {
    "duration": 32603,
    "start_time": "2024-04-19T23:45:15.634Z"
   },
   {
    "duration": 242,
    "start_time": "2024-04-19T23:45:48.239Z"
   },
   {
    "duration": 98,
    "start_time": "2024-04-19T23:45:48.483Z"
   },
   {
    "duration": 4,
    "start_time": "2024-04-19T23:45:48.583Z"
   },
   {
    "duration": 326,
    "start_time": "2024-04-19T23:45:48.588Z"
   },
   {
    "duration": 4,
    "start_time": "2024-04-19T23:50:34.099Z"
   },
   {
    "duration": 5976760,
    "start_time": "2024-04-19T23:50:35.196Z"
   },
   {
    "duration": 115,
    "start_time": "2024-04-20T01:47:21.641Z"
   },
   {
    "duration": 24412,
    "start_time": "2024-04-20T01:47:24.364Z"
   },
   {
    "duration": 250,
    "start_time": "2024-04-20T01:48:29.373Z"
   },
   {
    "duration": 4,
    "start_time": "2024-04-20T01:48:36.005Z"
   },
   {
    "duration": 47,
    "start_time": "2024-04-20T01:52:08.427Z"
   },
   {
    "duration": 1512,
    "start_time": "2024-04-21T12:58:34.124Z"
   },
   {
    "duration": 4,
    "start_time": "2024-04-21T12:58:35.638Z"
   },
   {
    "duration": 2413,
    "start_time": "2024-04-21T12:58:35.644Z"
   },
   {
    "duration": 4,
    "start_time": "2024-04-21T12:58:38.059Z"
   },
   {
    "duration": 37204,
    "start_time": "2024-04-21T12:58:38.065Z"
   },
   {
    "duration": 256,
    "start_time": "2024-04-21T12:59:15.271Z"
   },
   {
    "duration": 103,
    "start_time": "2024-04-21T12:59:15.528Z"
   },
   {
    "duration": 4,
    "start_time": "2024-04-21T12:59:15.632Z"
   },
   {
    "duration": 414,
    "start_time": "2024-04-21T12:59:15.638Z"
   },
   {
    "duration": 392,
    "start_time": "2024-04-21T13:15:45.392Z"
   },
   {
    "duration": 7,
    "start_time": "2024-04-21T13:17:30.679Z"
   },
   {
    "duration": 156,
    "start_time": "2024-04-21T13:17:30.688Z"
   },
   {
    "duration": 890,
    "start_time": "2024-04-21T13:17:30.846Z"
   },
   {
    "duration": 3,
    "start_time": "2024-04-21T13:17:31.738Z"
   },
   {
    "duration": 33452,
    "start_time": "2024-04-21T13:17:31.742Z"
   },
   {
    "duration": 255,
    "start_time": "2024-04-21T13:18:05.195Z"
   },
   {
    "duration": 96,
    "start_time": "2024-04-21T13:18:05.452Z"
   },
   {
    "duration": 11,
    "start_time": "2024-04-21T13:18:05.550Z"
   },
   {
    "duration": 337,
    "start_time": "2024-04-21T13:18:05.562Z"
   },
   {
    "duration": 7,
    "start_time": "2024-04-21T13:20:19.356Z"
   },
   {
    "duration": 32,
    "start_time": "2024-04-21T13:20:19.365Z"
   },
   {
    "duration": 828,
    "start_time": "2024-04-21T13:20:19.399Z"
   },
   {
    "duration": 3,
    "start_time": "2024-04-21T13:20:20.229Z"
   },
   {
    "duration": 35527,
    "start_time": "2024-04-21T13:20:20.234Z"
   },
   {
    "duration": 257,
    "start_time": "2024-04-21T13:20:55.762Z"
   },
   {
    "duration": 106,
    "start_time": "2024-04-21T13:20:56.021Z"
   },
   {
    "duration": 4,
    "start_time": "2024-04-21T13:20:56.128Z"
   },
   {
    "duration": 1945962,
    "start_time": "2024-04-21T13:20:56.133Z"
   },
   {
    "duration": 3,
    "start_time": "2024-04-21T13:53:23.972Z"
   },
   {
    "duration": 1704673,
    "start_time": "2024-04-21T13:53:24.405Z"
   },
   {
    "duration": 59,
    "start_time": "2024-04-21T14:21:49.081Z"
   },
   {
    "duration": 15,
    "start_time": "2024-04-21T14:25:30.272Z"
   },
   {
    "duration": 198,
    "start_time": "2024-04-21T14:25:48.221Z"
   },
   {
    "duration": 176,
    "start_time": "2024-04-21T14:25:59.950Z"
   },
   {
    "duration": 173,
    "start_time": "2024-04-21T14:26:11.075Z"
   },
   {
    "duration": 323,
    "start_time": "2024-04-21T14:26:31.071Z"
   },
   {
    "duration": 14,
    "start_time": "2024-04-21T14:26:36.662Z"
   },
   {
    "duration": 182,
    "start_time": "2024-04-21T14:26:37.624Z"
   },
   {
    "duration": 186,
    "start_time": "2024-04-21T14:27:22.608Z"
   },
   {
    "duration": 828,
    "start_time": "2024-04-21T14:27:22.796Z"
   },
   {
    "duration": 4,
    "start_time": "2024-04-21T14:27:23.625Z"
   },
   {
    "duration": 10421,
    "start_time": "2024-04-21T14:27:23.632Z"
   },
   {
    "duration": 9,
    "start_time": "2024-04-21T14:27:34.054Z"
   },
   {
    "duration": 47,
    "start_time": "2024-04-21T14:27:34.064Z"
   },
   {
    "duration": 4,
    "start_time": "2024-04-21T14:27:34.113Z"
   },
   {
    "duration": 162,
    "start_time": "2024-04-21T14:27:34.118Z"
   },
   {
    "duration": 0,
    "start_time": "2024-04-21T14:27:34.282Z"
   },
   {
    "duration": 0,
    "start_time": "2024-04-21T14:27:34.283Z"
   },
   {
    "duration": 282503,
    "start_time": "2024-04-21T14:30:21.063Z"
   },
   {
    "duration": 3,
    "start_time": "2024-04-21T14:35:12.018Z"
   },
   {
    "duration": 814622,
    "start_time": "2024-04-21T14:35:12.761Z"
   },
   {
    "duration": 3,
    "start_time": "2024-04-21T14:52:22.574Z"
   },
   {
    "duration": 1643,
    "start_time": "2024-04-21T15:01:39.522Z"
   },
   {
    "duration": 955,
    "start_time": "2024-04-21T15:01:41.167Z"
   },
   {
    "duration": 4,
    "start_time": "2024-04-21T15:01:42.123Z"
   },
   {
    "duration": 11590,
    "start_time": "2024-04-21T15:01:42.128Z"
   },
   {
    "duration": 4,
    "start_time": "2024-04-21T15:01:53.719Z"
   },
   {
    "duration": 49,
    "start_time": "2024-04-21T15:01:53.724Z"
   },
   {
    "duration": 3,
    "start_time": "2024-04-21T15:01:53.775Z"
   },
   {
    "duration": 118,
    "start_time": "2024-04-21T15:01:53.779Z"
   },
   {
    "duration": 113,
    "start_time": "2024-04-21T15:03:16.544Z"
   },
   {
    "duration": 6,
    "start_time": "2024-04-21T15:03:35.263Z"
   },
   {
    "duration": 11,
    "start_time": "2024-04-21T15:03:43.081Z"
   },
   {
    "duration": 21,
    "start_time": "2024-04-21T15:05:49.064Z"
   },
   {
    "duration": 39,
    "start_time": "2024-04-21T15:06:42.712Z"
   },
   {
    "duration": 7,
    "start_time": "2024-04-21T15:07:14.444Z"
   },
   {
    "duration": 17,
    "start_time": "2024-04-21T15:07:17.240Z"
   },
   {
    "duration": 107,
    "start_time": "2024-04-21T15:08:04.632Z"
   },
   {
    "duration": 48,
    "start_time": "2024-04-21T15:08:07.488Z"
   },
   {
    "duration": 74,
    "start_time": "2024-04-21T15:08:20.024Z"
   },
   {
    "duration": 46,
    "start_time": "2024-04-21T15:08:20.536Z"
   },
   {
    "duration": 362,
    "start_time": "2024-04-21T15:09:09.865Z"
   },
   {
    "duration": 86,
    "start_time": "2024-04-21T15:09:17.443Z"
   },
   {
    "duration": 248,
    "start_time": "2024-04-21T15:09:18.172Z"
   },
   {
    "duration": 28,
    "start_time": "2024-04-21T15:11:44.864Z"
   },
   {
    "duration": 86,
    "start_time": "2024-04-21T15:11:47.236Z"
   },
   {
    "duration": 247,
    "start_time": "2024-04-21T15:11:47.803Z"
   },
   {
    "duration": 93,
    "start_time": "2024-04-21T15:11:54.857Z"
   },
   {
    "duration": 238,
    "start_time": "2024-04-21T15:11:55.136Z"
   },
   {
    "duration": 16,
    "start_time": "2024-04-21T15:12:15.921Z"
   },
   {
    "duration": 90,
    "start_time": "2024-04-21T15:12:17.978Z"
   },
   {
    "duration": 249,
    "start_time": "2024-04-21T15:12:18.281Z"
   },
   {
    "duration": 22,
    "start_time": "2024-04-21T15:12:33.930Z"
   },
   {
    "duration": 70,
    "start_time": "2024-04-21T15:12:35.857Z"
   },
   {
    "duration": 220,
    "start_time": "2024-04-21T15:12:36.193Z"
   },
   {
    "duration": 144,
    "start_time": "2024-04-21T15:13:00.802Z"
   },
   {
    "duration": 238,
    "start_time": "2024-04-21T15:13:01.370Z"
   },
   {
    "duration": 16,
    "start_time": "2024-04-21T15:13:10.002Z"
   },
   {
    "duration": 113,
    "start_time": "2024-04-21T15:13:25.171Z"
   },
   {
    "duration": 80,
    "start_time": "2024-04-21T15:13:43.642Z"
   },
   {
    "duration": 355,
    "start_time": "2024-04-21T15:13:47.027Z"
   },
   {
    "duration": 198,
    "start_time": "2024-04-21T15:13:53.732Z"
   },
   {
    "duration": 210,
    "start_time": "2024-04-21T15:14:03.179Z"
   },
   {
    "duration": 90,
    "start_time": "2024-04-21T15:14:10.264Z"
   },
   {
    "duration": 196,
    "start_time": "2024-04-21T15:14:10.355Z"
   },
   {
    "duration": 208,
    "start_time": "2024-04-21T15:14:14.858Z"
   },
   {
    "duration": 205,
    "start_time": "2024-04-21T15:15:14.338Z"
   },
   {
    "duration": 219,
    "start_time": "2024-04-21T15:15:18.460Z"
   },
   {
    "duration": 229,
    "start_time": "2024-04-21T15:15:26.938Z"
   },
   {
    "duration": 211,
    "start_time": "2024-04-21T15:15:47.786Z"
   },
   {
    "duration": 204,
    "start_time": "2024-04-21T15:16:14.707Z"
   },
   {
    "duration": 8,
    "start_time": "2024-04-21T15:17:19.283Z"
   },
   {
    "duration": 969,
    "start_time": "2024-04-21T15:17:19.292Z"
   },
   {
    "duration": 4,
    "start_time": "2024-04-21T15:17:20.262Z"
   },
   {
    "duration": 34013,
    "start_time": "2024-04-21T15:17:20.268Z"
   },
   {
    "duration": 248,
    "start_time": "2024-04-21T15:17:54.282Z"
   },
   {
    "duration": 50,
    "start_time": "2024-04-21T15:17:54.532Z"
   },
   {
    "duration": 4,
    "start_time": "2024-04-21T15:17:54.585Z"
   },
   {
    "duration": 1741,
    "start_time": "2024-04-21T15:18:55.933Z"
   },
   {
    "duration": 953,
    "start_time": "2024-04-21T15:18:57.676Z"
   },
   {
    "duration": 4,
    "start_time": "2024-04-21T15:18:58.631Z"
   },
   {
    "duration": 34818,
    "start_time": "2024-04-21T15:18:58.637Z"
   },
   {
    "duration": 248,
    "start_time": "2024-04-21T15:19:33.460Z"
   },
   {
    "duration": 96,
    "start_time": "2024-04-21T15:19:33.710Z"
   },
   {
    "duration": 3,
    "start_time": "2024-04-21T15:19:33.808Z"
   },
   {
    "duration": 228479,
    "start_time": "2024-04-21T15:19:33.812Z"
   },
   {
    "duration": 0,
    "start_time": "2024-04-21T15:23:22.293Z"
   },
   {
    "duration": 4,
    "start_time": "2024-04-21T15:23:38.294Z"
   },
   {
    "duration": 1701959,
    "start_time": "2024-04-21T15:23:41.254Z"
   },
   {
    "duration": 231,
    "start_time": "2024-04-21T15:58:05.385Z"
   },
   {
    "duration": 209,
    "start_time": "2024-04-21T16:05:11.161Z"
   },
   {
    "duration": 388,
    "start_time": "2024-04-21T16:11:55.282Z"
   },
   {
    "duration": 416,
    "start_time": "2024-04-21T16:12:18.114Z"
   },
   {
    "duration": 371,
    "start_time": "2024-04-21T16:12:30.266Z"
   },
   {
    "duration": 248,
    "start_time": "2024-04-21T16:13:17.105Z"
   },
   {
    "duration": 1695,
    "start_time": "2024-04-21T16:14:30.448Z"
   },
   {
    "duration": 988,
    "start_time": "2024-04-21T16:14:32.146Z"
   },
   {
    "duration": 3,
    "start_time": "2024-04-21T16:14:33.136Z"
   },
   {
    "duration": 35029,
    "start_time": "2024-04-21T16:14:33.141Z"
   },
   {
    "duration": 242,
    "start_time": "2024-04-21T16:15:08.172Z"
   },
   {
    "duration": 91,
    "start_time": "2024-04-21T16:15:08.416Z"
   },
   {
    "duration": 3,
    "start_time": "2024-04-21T16:15:08.508Z"
   },
   {
    "duration": 229,
    "start_time": "2024-04-21T16:15:08.513Z"
   },
   {
    "duration": 228,
    "start_time": "2024-04-21T16:15:08.743Z"
   },
   {
    "duration": 1642,
    "start_time": "2024-04-21T16:18:34.531Z"
   },
   {
    "duration": 960,
    "start_time": "2024-04-21T16:18:36.175Z"
   },
   {
    "duration": 4,
    "start_time": "2024-04-21T16:18:37.137Z"
   },
   {
    "duration": 34809,
    "start_time": "2024-04-21T16:18:37.142Z"
   },
   {
    "duration": 253,
    "start_time": "2024-04-21T16:19:11.953Z"
   },
   {
    "duration": 99,
    "start_time": "2024-04-21T16:19:12.208Z"
   },
   {
    "duration": 3,
    "start_time": "2024-04-21T16:19:12.309Z"
   },
   {
    "duration": 121,
    "start_time": "2024-04-21T16:19:12.313Z"
   },
   {
    "duration": 1621,
    "start_time": "2024-04-21T16:19:57.345Z"
   },
   {
    "duration": 953,
    "start_time": "2024-04-21T16:19:58.968Z"
   },
   {
    "duration": 3,
    "start_time": "2024-04-21T16:19:59.923Z"
   },
   {
    "duration": 35173,
    "start_time": "2024-04-21T16:19:59.929Z"
   },
   {
    "duration": 240,
    "start_time": "2024-04-21T16:20:35.103Z"
   },
   {
    "duration": 95,
    "start_time": "2024-04-21T16:20:35.344Z"
   },
   {
    "duration": 3,
    "start_time": "2024-04-21T16:20:35.440Z"
   },
   {
    "duration": 754,
    "start_time": "2024-04-21T16:20:35.445Z"
   },
   {
    "duration": 228,
    "start_time": "2024-04-21T16:20:36.201Z"
   },
   {
    "duration": 13218,
    "start_time": "2024-04-21T16:50:55.680Z"
   },
   {
    "duration": 16514,
    "start_time": "2024-04-21T16:51:08.986Z"
   },
   {
    "duration": 78,
    "start_time": "2024-04-21T16:51:25.511Z"
   },
   {
    "duration": 10419,
    "start_time": "2024-04-21T16:51:33.881Z"
   },
   {
    "duration": 27,
    "start_time": "2024-04-21T16:53:57.281Z"
   },
   {
    "duration": 1087,
    "start_time": "2024-04-21T16:54:03.493Z"
   },
   {
    "duration": 10,
    "start_time": "2024-04-21T16:54:37.584Z"
   },
   {
    "duration": 121,
    "start_time": "2024-04-21T16:54:40.382Z"
   },
   {
    "duration": 50,
    "start_time": "2024-04-22T00:54:04.341Z"
   },
   {
    "duration": 1762,
    "start_time": "2024-04-22T00:54:08.531Z"
   },
   {
    "duration": 92,
    "start_time": "2024-04-22T00:54:25.210Z"
   },
   {
    "duration": 412,
    "start_time": "2024-04-22T00:55:55.987Z"
   },
   {
    "duration": 182,
    "start_time": "2024-04-22T00:56:00.766Z"
   },
   {
    "duration": 50,
    "start_time": "2024-04-22T11:51:36.094Z"
   },
   {
    "duration": 2255,
    "start_time": "2024-04-22T11:51:39.353Z"
   },
   {
    "duration": 3,
    "start_time": "2024-04-22T11:51:45.976Z"
   },
   {
    "duration": 174,
    "start_time": "2024-04-22T11:51:47.205Z"
   },
   {
    "duration": 85,
    "start_time": "2024-04-22T11:51:49.596Z"
   },
   {
    "duration": 1201,
    "start_time": "2024-04-22T11:52:05.697Z"
   },
   {
    "duration": 5,
    "start_time": "2024-04-22T11:53:55.885Z"
   },
   {
    "duration": 11,
    "start_time": "2024-04-22T11:55:36.289Z"
   },
   {
    "duration": 11,
    "start_time": "2024-04-22T11:56:49.106Z"
   },
   {
    "duration": 9,
    "start_time": "2024-04-22T11:59:38.714Z"
   },
   {
    "duration": 3,
    "start_time": "2024-04-22T12:11:13.889Z"
   },
   {
    "duration": 14,
    "start_time": "2024-04-22T12:11:32.230Z"
   },
   {
    "duration": 14,
    "start_time": "2024-04-22T12:11:50.673Z"
   },
   {
    "duration": 3,
    "start_time": "2024-04-22T12:11:55.168Z"
   },
   {
    "duration": 13,
    "start_time": "2024-04-22T12:11:56.262Z"
   },
   {
    "duration": 8,
    "start_time": "2024-04-22T12:12:16.870Z"
   },
   {
    "duration": 3,
    "start_time": "2024-04-22T12:12:41.895Z"
   },
   {
    "duration": 4,
    "start_time": "2024-04-22T12:12:42.479Z"
   },
   {
    "duration": 4,
    "start_time": "2024-04-22T12:13:01.266Z"
   },
   {
    "duration": 4,
    "start_time": "2024-04-22T12:13:44.751Z"
   },
   {
    "duration": 4,
    "start_time": "2024-04-22T12:13:55.542Z"
   },
   {
    "duration": 4,
    "start_time": "2024-04-22T12:14:02.494Z"
   },
   {
    "duration": 5,
    "start_time": "2024-04-22T12:14:07.862Z"
   },
   {
    "duration": 5,
    "start_time": "2024-04-22T12:14:27.575Z"
   },
   {
    "duration": 4,
    "start_time": "2024-04-22T12:14:37.059Z"
   },
   {
    "duration": 7,
    "start_time": "2024-04-22T12:28:07.251Z"
   },
   {
    "duration": 2472,
    "start_time": "2024-04-22T12:28:09.325Z"
   },
   {
    "duration": 5,
    "start_time": "2024-04-22T12:28:11.891Z"
   },
   {
    "duration": 555874,
    "start_time": "2024-04-22T12:28:13.669Z"
   },
   {
    "duration": 6,
    "start_time": "2024-04-22T12:38:16.856Z"
   },
   {
    "duration": 5,
    "start_time": "2024-04-22T12:40:30.603Z"
   },
   {
    "duration": 0,
    "start_time": "2024-04-22T12:40:53.964Z"
   },
   {
    "duration": 40,
    "start_time": "2024-04-22T12:41:20.058Z"
   },
   {
    "duration": 7170,
    "start_time": "2024-04-22T12:41:24.937Z"
   },
   {
    "duration": 60,
    "start_time": "2024-04-22T12:44:34.639Z"
   },
   {
    "duration": 9,
    "start_time": "2024-04-22T12:44:41.832Z"
   },
   {
    "duration": 9,
    "start_time": "2024-04-22T12:45:53.321Z"
   },
   {
    "duration": 11364,
    "start_time": "2024-04-22T12:46:38.296Z"
   },
   {
    "duration": 6471,
    "start_time": "2024-04-22T12:47:03.881Z"
   },
   {
    "duration": 64490,
    "start_time": "2024-04-22T12:47:21.089Z"
   },
   {
    "duration": 62,
    "start_time": "2024-04-22T12:59:52.406Z"
   },
   {
    "duration": 5,
    "start_time": "2024-04-22T13:00:16.454Z"
   },
   {
    "duration": 2710228,
    "start_time": "2024-04-22T13:00:18.973Z"
   },
   {
    "duration": 286,
    "start_time": "2024-04-22T13:45:34.558Z"
   },
   {
    "duration": 16,
    "start_time": "2024-04-22T13:45:50.357Z"
   },
   {
    "duration": 6,
    "start_time": "2024-04-22T13:46:08.748Z"
   },
   {
    "duration": 3959808,
    "start_time": "2024-04-22T13:46:11.995Z"
   },
   {
    "duration": 10521,
    "start_time": "2024-04-22T14:52:22.951Z"
   },
   {
    "duration": 1140968,
    "start_time": "2024-04-22T14:58:52.484Z"
   },
   {
    "duration": 10,
    "start_time": "2024-04-22T15:18:14.366Z"
   },
   {
    "duration": 1666,
    "start_time": "2024-04-22T15:23:18.856Z"
   },
   {
    "duration": 1000,
    "start_time": "2024-04-22T15:23:21.951Z"
   },
   {
    "duration": 11,
    "start_time": "2024-04-22T15:26:06.825Z"
   },
   {
    "duration": 417,
    "start_time": "2024-04-22T15:27:54.809Z"
   },
   {
    "duration": 1287,
    "start_time": "2024-04-22T15:27:59.257Z"
   },
   {
    "duration": 209,
    "start_time": "2024-04-22T15:28:00.546Z"
   },
   {
    "duration": 7,
    "start_time": "2024-04-22T15:28:04.297Z"
   },
   {
    "duration": 5,
    "start_time": "2024-04-22T15:29:46.026Z"
   },
   {
    "duration": 246,
    "start_time": "2024-04-22T15:29:46.790Z"
   },
   {
    "duration": 5,
    "start_time": "2024-04-22T15:31:06.323Z"
   },
   {
    "duration": 238,
    "start_time": "2024-04-22T15:31:06.986Z"
   },
   {
    "duration": 882,
    "start_time": "2024-04-22T15:32:21.962Z"
   },
   {
    "duration": 7,
    "start_time": "2024-04-22T15:32:26.024Z"
   },
   {
    "duration": 5,
    "start_time": "2024-04-22T15:35:31.673Z"
   },
   {
    "duration": 78,
    "start_time": "2024-04-22T15:35:32.307Z"
   },
   {
    "duration": 4,
    "start_time": "2024-04-22T15:35:47.176Z"
   },
   {
    "duration": 240,
    "start_time": "2024-04-22T15:35:48.833Z"
   },
   {
    "duration": 4,
    "start_time": "2024-04-22T15:36:02.209Z"
   },
   {
    "duration": 225,
    "start_time": "2024-04-22T15:36:05.066Z"
   },
   {
    "duration": 4,
    "start_time": "2024-04-22T15:36:42.130Z"
   },
   {
    "duration": 251,
    "start_time": "2024-04-22T15:36:42.825Z"
   },
   {
    "duration": 7,
    "start_time": "2024-04-22T15:38:32.985Z"
   },
   {
    "duration": 237,
    "start_time": "2024-04-22T15:38:33.722Z"
   },
   {
    "duration": 4,
    "start_time": "2024-04-22T15:38:39.402Z"
   },
   {
    "duration": 227,
    "start_time": "2024-04-22T15:38:40.291Z"
   },
   {
    "duration": 5,
    "start_time": "2024-04-22T15:38:55.889Z"
   },
   {
    "duration": 244,
    "start_time": "2024-04-22T15:38:56.593Z"
   },
   {
    "duration": 5,
    "start_time": "2024-04-22T15:42:28.609Z"
   },
   {
    "duration": 5,
    "start_time": "2024-04-22T15:42:37.267Z"
   },
   {
    "duration": 238,
    "start_time": "2024-04-22T15:42:37.962Z"
   },
   {
    "duration": 51,
    "start_time": "2024-04-22T15:42:56.665Z"
   },
   {
    "duration": 5,
    "start_time": "2024-04-22T15:43:01.337Z"
   },
   {
    "duration": 226,
    "start_time": "2024-04-22T15:43:02.157Z"
   },
   {
    "duration": 5,
    "start_time": "2024-04-22T15:44:40.122Z"
   },
   {
    "duration": 240,
    "start_time": "2024-04-22T15:44:41.049Z"
   },
   {
    "duration": 5,
    "start_time": "2024-04-22T15:45:29.993Z"
   },
   {
    "duration": 272,
    "start_time": "2024-04-22T15:45:30.643Z"
   },
   {
    "duration": 5,
    "start_time": "2024-04-22T15:45:50.986Z"
   },
   {
    "duration": 251,
    "start_time": "2024-04-22T15:45:52.104Z"
   },
   {
    "duration": 4,
    "start_time": "2024-04-22T15:46:02.345Z"
   },
   {
    "duration": 258,
    "start_time": "2024-04-22T15:46:03.896Z"
   },
   {
    "duration": 5,
    "start_time": "2024-04-22T15:46:33.177Z"
   },
   {
    "duration": 263,
    "start_time": "2024-04-22T15:46:34.720Z"
   },
   {
    "duration": 7,
    "start_time": "2024-04-22T15:46:44.104Z"
   },
   {
    "duration": 863,
    "start_time": "2024-04-22T15:46:51.497Z"
   },
   {
    "duration": 5,
    "start_time": "2024-04-22T15:46:53.256Z"
   },
   {
    "duration": 84,
    "start_time": "2024-04-22T15:46:56.500Z"
   },
   {
    "duration": 7,
    "start_time": "2024-04-22T15:47:13.169Z"
   },
   {
    "duration": 12,
    "start_time": "2024-04-22T15:47:53.825Z"
   },
   {
    "duration": 861,
    "start_time": "2024-04-22T15:48:03.417Z"
   },
   {
    "duration": 4,
    "start_time": "2024-04-22T15:48:05.393Z"
   },
   {
    "duration": 77,
    "start_time": "2024-04-22T15:48:07.865Z"
   },
   {
    "duration": 6,
    "start_time": "2024-04-22T15:48:13.002Z"
   },
   {
    "duration": 846,
    "start_time": "2024-04-22T15:48:13.633Z"
   },
   {
    "duration": 6,
    "start_time": "2024-04-22T15:48:27.977Z"
   },
   {
    "duration": 1087791,
    "start_time": "2024-04-22T15:48:28.825Z"
   },
   {
    "duration": 6,
    "start_time": "2024-04-22T16:06:38.197Z"
   },
   {
    "duration": 4,
    "start_time": "2024-04-22T16:08:00.128Z"
   },
   {
    "duration": 11677,
    "start_time": "2024-04-22T16:08:00.887Z"
   },
   {
    "duration": 7,
    "start_time": "2024-04-22T16:08:15.442Z"
   },
   {
    "duration": 879,
    "start_time": "2024-04-22T16:08:15.975Z"
   },
   {
    "duration": 4,
    "start_time": "2024-04-22T16:08:18.599Z"
   },
   {
    "duration": 7519,
    "start_time": "2024-04-22T16:08:23.137Z"
   },
   {
    "duration": 914,
    "start_time": "2024-04-22T16:08:34.000Z"
   },
   {
    "duration": 5,
    "start_time": "2024-04-22T16:08:36.560Z"
   },
   {
    "duration": 1088786,
    "start_time": "2024-04-22T16:08:37.652Z"
   },
   {
    "duration": 6,
    "start_time": "2024-04-22T16:26:46.440Z"
   },
   {
    "duration": 35,
    "start_time": "2024-04-22T16:26:46.448Z"
   },
   {
    "duration": 0,
    "start_time": "2024-04-22T16:26:46.485Z"
   },
   {
    "duration": 0,
    "start_time": "2024-04-22T16:26:46.486Z"
   },
   {
    "duration": 0,
    "start_time": "2024-04-22T16:26:46.487Z"
   },
   {
    "duration": 7,
    "start_time": "2024-04-22T16:27:19.523Z"
   },
   {
    "duration": 8,
    "start_time": "2024-04-22T16:27:35.922Z"
   },
   {
    "duration": 25,
    "start_time": "2024-04-22T16:27:55.034Z"
   },
   {
    "duration": 5,
    "start_time": "2024-04-22T16:27:58.146Z"
   },
   {
    "duration": 14782,
    "start_time": "2024-04-22T16:28:00.289Z"
   },
   {
    "duration": 11,
    "start_time": "2024-04-22T16:28:29.201Z"
   },
   {
    "duration": 11,
    "start_time": "2024-04-22T16:28:37.257Z"
   },
   {
    "duration": 29,
    "start_time": "2024-04-22T16:28:46.446Z"
   },
   {
    "duration": 11,
    "start_time": "2024-04-22T16:28:47.690Z"
   },
   {
    "duration": 240,
    "start_time": "2024-04-22T16:30:03.785Z"
   },
   {
    "duration": 6,
    "start_time": "2024-04-22T16:30:08.799Z"
   },
   {
    "duration": 3605105,
    "start_time": "2024-04-22T16:30:18.346Z"
   },
   {
    "duration": 10564,
    "start_time": "2024-04-22T20:47:36.691Z"
   },
   {
    "duration": 5,
    "start_time": "2024-04-22T20:48:53.806Z"
   },
   {
    "duration": 4,
    "start_time": "2024-04-22T20:49:39.183Z"
   },
   {
    "duration": 19,
    "start_time": "2024-04-22T20:50:53.121Z"
   },
   {
    "duration": 12,
    "start_time": "2024-04-22T20:51:10.137Z"
   },
   {
    "duration": 159,
    "start_time": "2024-04-22T20:51:17.055Z"
   },
   {
    "duration": 4,
    "start_time": "2024-04-22T20:51:23.408Z"
   },
   {
    "duration": 2470057,
    "start_time": "2024-04-22T20:51:36.417Z"
   },
   {
    "duration": 4,
    "start_time": "2024-04-22T21:32:46.476Z"
   },
   {
    "duration": 19,
    "start_time": "2024-04-22T21:49:10.929Z"
   },
   {
    "duration": 7,
    "start_time": "2024-04-22T21:49:23.371Z"
   },
   {
    "duration": 7,
    "start_time": "2024-04-22T21:49:32.526Z"
   },
   {
    "duration": 2742211,
    "start_time": "2024-04-22T21:49:34.463Z"
   },
   {
    "duration": 8,
    "start_time": "2024-04-22T22:35:16.676Z"
   },
   {
    "duration": 7,
    "start_time": "2024-04-22T22:36:30.397Z"
   },
   {
    "duration": 7,
    "start_time": "2024-04-22T22:36:35.056Z"
   },
   {
    "duration": 6,
    "start_time": "2024-04-22T22:36:40.553Z"
   },
   {
    "duration": 7,
    "start_time": "2024-04-22T22:37:19.634Z"
   },
   {
    "duration": 7,
    "start_time": "2024-04-22T22:37:28.761Z"
   },
   {
    "duration": 8,
    "start_time": "2024-04-22T22:37:35.984Z"
   },
   {
    "duration": 8,
    "start_time": "2024-04-22T22:37:51.948Z"
   },
   {
    "duration": 143,
    "start_time": "2024-04-22T23:06:02.529Z"
   },
   {
    "duration": 36163,
    "start_time": "2024-04-22T23:32:00.971Z"
   },
   {
    "duration": 494800,
    "start_time": "2024-04-22T23:32:42.634Z"
   },
   {
    "duration": 0,
    "start_time": "2024-04-22T23:40:57.436Z"
   },
   {
    "duration": 4,
    "start_time": "2024-04-22T23:41:04.756Z"
   },
   {
    "duration": 1739,
    "start_time": "2024-04-22T23:41:31.957Z"
   },
   {
    "duration": 1001,
    "start_time": "2024-04-22T23:41:33.698Z"
   },
   {
    "duration": 14,
    "start_time": "2024-04-22T23:41:34.700Z"
   },
   {
    "duration": 1279,
    "start_time": "2024-04-22T23:41:34.716Z"
   },
   {
    "duration": 1081193,
    "start_time": "2024-04-22T23:41:35.997Z"
   },
   {
    "duration": 25,
    "start_time": "2024-04-22T23:59:37.193Z"
   },
   {
    "duration": 25,
    "start_time": "2024-04-22T23:59:37.220Z"
   },
   {
    "duration": 5,
    "start_time": "2024-04-22T23:59:37.247Z"
   },
   {
    "duration": 3921355,
    "start_time": "2024-04-22T23:59:37.253Z"
   },
   {
    "duration": 10544,
    "start_time": "2024-04-23T01:04:58.610Z"
   },
   {
    "duration": 3209,
    "start_time": "2024-04-23T01:05:09.156Z"
   },
   {
    "duration": 10466,
    "start_time": "2024-04-23T01:13:21.250Z"
   },
   {
    "duration": 3295,
    "start_time": "2024-04-23T01:13:31.718Z"
   },
   {
    "duration": 4,
    "start_time": "2024-04-23T01:14:33.209Z"
   },
   {
    "duration": 4,
    "start_time": "2024-04-23T01:17:08.602Z"
   },
   {
    "duration": 2,
    "start_time": "2024-04-23T01:21:44.934Z"
   },
   {
    "duration": 3,
    "start_time": "2024-04-23T01:21:58.710Z"
   },
   {
    "duration": 4,
    "start_time": "2024-04-23T01:22:08.645Z"
   },
   {
    "duration": 138,
    "start_time": "2024-04-23T01:22:42.735Z"
   },
   {
    "duration": 3,
    "start_time": "2024-04-23T01:22:56.386Z"
   },
   {
    "duration": 5,
    "start_time": "2024-04-23T01:23:03.454Z"
   },
   {
    "duration": 19,
    "start_time": "2024-04-23T01:30:18.326Z"
   },
   {
    "duration": 3,
    "start_time": "2024-04-23T01:30:35.865Z"
   },
   {
    "duration": 5,
    "start_time": "2024-04-23T01:30:37.156Z"
   },
   {
    "duration": 14,
    "start_time": "2024-04-23T01:30:37.927Z"
   },
   {
    "duration": 3135,
    "start_time": "2024-04-23T01:50:22.490Z"
   },
   {
    "duration": 3347,
    "start_time": "2024-04-23T01:50:42.146Z"
   },
   {
    "duration": 4743,
    "start_time": "2024-04-23T13:46:44.532Z"
   },
   {
    "duration": 3446,
    "start_time": "2024-04-23T13:46:49.277Z"
   },
   {
    "duration": 10,
    "start_time": "2024-04-23T13:46:52.724Z"
   },
   {
    "duration": 1256,
    "start_time": "2024-04-23T13:46:52.736Z"
   },
   {
    "duration": 187,
    "start_time": "2024-04-23T13:46:53.995Z"
   },
   {
    "duration": 8,
    "start_time": "2024-04-23T13:46:54.184Z"
   }
  ],
  "kernelspec": {
   "display_name": "Python 3 (ipykernel)",
   "language": "python",
   "name": "python3"
  },
  "language_info": {
   "codemirror_mode": {
    "name": "ipython",
    "version": 3
   },
   "file_extension": ".py",
   "mimetype": "text/x-python",
   "name": "python",
   "nbconvert_exporter": "python",
   "pygments_lexer": "ipython3",
   "version": "3.11.9"
  },
  "toc": {
   "base_numbering": 1,
   "nav_menu": {},
   "number_sections": true,
   "sideBar": true,
   "skip_h1_title": true,
   "title_cell": "Содержание",
   "title_sidebar": "Contents",
   "toc_cell": true,
   "toc_position": {
    "height": "calc(100% - 180px)",
    "left": "10px",
    "top": "150px",
    "width": "302.391px"
   },
   "toc_section_display": true,
   "toc_window_display": false
  }
 },
 "nbformat": 4,
 "nbformat_minor": 4
}
