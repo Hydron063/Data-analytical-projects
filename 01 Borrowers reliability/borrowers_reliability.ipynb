{
 "cells": [
  {
   "cell_type": "markdown",
   "id": "2b4d323d",
   "metadata": {
    "deletable": false,
    "editable": true,
    "id": "c81daeeb",
    "slideshow": {
     "slide_type": ""
    },
    "tags": []
   },
   "source": [
    "# Исследование надежности заемщиков"
   ]
  },
  {
   "cell_type": "markdown",
   "id": "041aa122",
   "metadata": {
    "deletable": false,
    "editable": true,
    "id": "744d7639",
    "slideshow": {
     "slide_type": ""
    },
    "tags": []
   },
   "source": [
    "## Изучение общей информации о данных"
   ]
  },
  {
   "cell_type": "markdown",
   "id": "5202cea6",
   "metadata": {
    "deletable": false,
    "editable": false,
    "id": "e7a14c31",
    "slideshow": {
     "slide_type": ""
    },
    "tags": []
   },
   "source": [
    "**Задание 1. Импортируйте библиотеку pandas. Считайте данные из csv-файла в датафрейм и сохраните в переменную `data`. Путь к файлу:**\n",
    "\n",
    "`/datasets/data.csv`"
   ]
  },
  {
   "cell_type": "markdown",
   "id": "2e1ea2ee-88d7-4708-bf69-543da25d7744",
   "metadata": {},
   "source": [
    "Последовательно импортируем нужную библиотеку и загрузим исходный файл:"
   ]
  },
  {
   "cell_type": "code",
   "execution_count": 1,
   "id": "1400be51-9ce1-4669-85c8-f912d3974511",
   "metadata": {},
   "outputs": [],
   "source": [
    "import pandas as pd"
   ]
  },
  {
   "cell_type": "code",
   "execution_count": 2,
   "id": "2fabdb9d",
   "metadata": {
    "deletable": false,
    "editable": true,
    "id": "7bcf75c9",
    "slideshow": {
     "slide_type": ""
    },
    "tags": []
   },
   "outputs": [],
   "source": [
    "data = pd.read_csv('datasets/data.csv')"
   ]
  },
  {
   "cell_type": "markdown",
   "id": "64fdd212",
   "metadata": {
    "deletable": false,
    "editable": false,
    "id": "b8038fe3",
    "slideshow": {
     "slide_type": ""
    },
    "tags": []
   },
   "source": [
    "**Задание 2. Выведите первые 20 строчек датафрейма `data` на экран.**"
   ]
  },
  {
   "cell_type": "markdown",
   "id": "abb36bc9-50e0-4385-91a6-0a352bfd1ad1",
   "metadata": {},
   "source": [
    "Выведем нужные строки. Отметим, что столбец days_employed имеет явно аномальные (отрицательные и очень большие значения):"
   ]
  },
  {
   "cell_type": "code",
   "execution_count": 3,
   "id": "cdbd39a4",
   "metadata": {
    "deletable": false,
    "editable": true,
    "id": "2a7cab99",
    "outputId": "1a8f3ef2-d323-4ec2-ddf7-89670b5944c4",
    "slideshow": {
     "slide_type": ""
    },
    "tags": []
   },
   "outputs": [
    {
     "data": {
      "text/html": [
       "<div>\n",
       "<style scoped>\n",
       "    .dataframe tbody tr th:only-of-type {\n",
       "        vertical-align: middle;\n",
       "    }\n",
       "\n",
       "    .dataframe tbody tr th {\n",
       "        vertical-align: top;\n",
       "    }\n",
       "\n",
       "    .dataframe thead th {\n",
       "        text-align: right;\n",
       "    }\n",
       "</style>\n",
       "<table border=\"1\" class=\"dataframe\">\n",
       "  <thead>\n",
       "    <tr style=\"text-align: right;\">\n",
       "      <th></th>\n",
       "      <th>Unnamed: 0</th>\n",
       "      <th>children</th>\n",
       "      <th>days_employed</th>\n",
       "      <th>dob_years</th>\n",
       "      <th>education</th>\n",
       "      <th>education_id</th>\n",
       "      <th>family_status</th>\n",
       "      <th>family_status_id</th>\n",
       "      <th>gender</th>\n",
       "      <th>income_type</th>\n",
       "      <th>debt</th>\n",
       "      <th>total_income</th>\n",
       "      <th>purpose</th>\n",
       "    </tr>\n",
       "  </thead>\n",
       "  <tbody>\n",
       "    <tr>\n",
       "      <th>0</th>\n",
       "      <td>0</td>\n",
       "      <td>1</td>\n",
       "      <td>-8437.673028</td>\n",
       "      <td>42</td>\n",
       "      <td>высшее</td>\n",
       "      <td>0</td>\n",
       "      <td>женат / замужем</td>\n",
       "      <td>0</td>\n",
       "      <td>F</td>\n",
       "      <td>сотрудник</td>\n",
       "      <td>0</td>\n",
       "      <td>253875.639453</td>\n",
       "      <td>покупка жилья</td>\n",
       "    </tr>\n",
       "    <tr>\n",
       "      <th>1</th>\n",
       "      <td>1</td>\n",
       "      <td>1</td>\n",
       "      <td>-4024.803754</td>\n",
       "      <td>36</td>\n",
       "      <td>среднее</td>\n",
       "      <td>1</td>\n",
       "      <td>женат / замужем</td>\n",
       "      <td>0</td>\n",
       "      <td>F</td>\n",
       "      <td>сотрудник</td>\n",
       "      <td>0</td>\n",
       "      <td>112080.014102</td>\n",
       "      <td>приобретение автомобиля</td>\n",
       "    </tr>\n",
       "    <tr>\n",
       "      <th>2</th>\n",
       "      <td>2</td>\n",
       "      <td>0</td>\n",
       "      <td>-5623.422610</td>\n",
       "      <td>33</td>\n",
       "      <td>Среднее</td>\n",
       "      <td>1</td>\n",
       "      <td>женат / замужем</td>\n",
       "      <td>0</td>\n",
       "      <td>M</td>\n",
       "      <td>сотрудник</td>\n",
       "      <td>0</td>\n",
       "      <td>145885.952297</td>\n",
       "      <td>покупка жилья</td>\n",
       "    </tr>\n",
       "    <tr>\n",
       "      <th>3</th>\n",
       "      <td>3</td>\n",
       "      <td>3</td>\n",
       "      <td>-4124.747207</td>\n",
       "      <td>32</td>\n",
       "      <td>среднее</td>\n",
       "      <td>1</td>\n",
       "      <td>женат / замужем</td>\n",
       "      <td>0</td>\n",
       "      <td>M</td>\n",
       "      <td>сотрудник</td>\n",
       "      <td>0</td>\n",
       "      <td>267628.550329</td>\n",
       "      <td>дополнительное образование</td>\n",
       "    </tr>\n",
       "    <tr>\n",
       "      <th>4</th>\n",
       "      <td>4</td>\n",
       "      <td>0</td>\n",
       "      <td>340266.072047</td>\n",
       "      <td>53</td>\n",
       "      <td>среднее</td>\n",
       "      <td>1</td>\n",
       "      <td>гражданский брак</td>\n",
       "      <td>1</td>\n",
       "      <td>F</td>\n",
       "      <td>пенсионер</td>\n",
       "      <td>0</td>\n",
       "      <td>158616.077870</td>\n",
       "      <td>сыграть свадьбу</td>\n",
       "    </tr>\n",
       "    <tr>\n",
       "      <th>5</th>\n",
       "      <td>5</td>\n",
       "      <td>0</td>\n",
       "      <td>-926.185831</td>\n",
       "      <td>27</td>\n",
       "      <td>высшее</td>\n",
       "      <td>0</td>\n",
       "      <td>гражданский брак</td>\n",
       "      <td>1</td>\n",
       "      <td>M</td>\n",
       "      <td>компаньон</td>\n",
       "      <td>0</td>\n",
       "      <td>255763.565419</td>\n",
       "      <td>покупка жилья</td>\n",
       "    </tr>\n",
       "    <tr>\n",
       "      <th>6</th>\n",
       "      <td>6</td>\n",
       "      <td>0</td>\n",
       "      <td>-2879.202052</td>\n",
       "      <td>43</td>\n",
       "      <td>высшее</td>\n",
       "      <td>0</td>\n",
       "      <td>женат / замужем</td>\n",
       "      <td>0</td>\n",
       "      <td>F</td>\n",
       "      <td>компаньон</td>\n",
       "      <td>0</td>\n",
       "      <td>240525.971920</td>\n",
       "      <td>операции с жильем</td>\n",
       "    </tr>\n",
       "    <tr>\n",
       "      <th>7</th>\n",
       "      <td>7</td>\n",
       "      <td>0</td>\n",
       "      <td>-152.779569</td>\n",
       "      <td>50</td>\n",
       "      <td>СРЕДНЕЕ</td>\n",
       "      <td>1</td>\n",
       "      <td>женат / замужем</td>\n",
       "      <td>0</td>\n",
       "      <td>M</td>\n",
       "      <td>сотрудник</td>\n",
       "      <td>0</td>\n",
       "      <td>135823.934197</td>\n",
       "      <td>образование</td>\n",
       "    </tr>\n",
       "    <tr>\n",
       "      <th>8</th>\n",
       "      <td>8</td>\n",
       "      <td>2</td>\n",
       "      <td>-6929.865299</td>\n",
       "      <td>35</td>\n",
       "      <td>ВЫСШЕЕ</td>\n",
       "      <td>0</td>\n",
       "      <td>гражданский брак</td>\n",
       "      <td>1</td>\n",
       "      <td>F</td>\n",
       "      <td>сотрудник</td>\n",
       "      <td>0</td>\n",
       "      <td>95856.832424</td>\n",
       "      <td>на проведение свадьбы</td>\n",
       "    </tr>\n",
       "    <tr>\n",
       "      <th>9</th>\n",
       "      <td>9</td>\n",
       "      <td>0</td>\n",
       "      <td>-2188.756445</td>\n",
       "      <td>41</td>\n",
       "      <td>среднее</td>\n",
       "      <td>1</td>\n",
       "      <td>женат / замужем</td>\n",
       "      <td>0</td>\n",
       "      <td>M</td>\n",
       "      <td>сотрудник</td>\n",
       "      <td>0</td>\n",
       "      <td>144425.938277</td>\n",
       "      <td>покупка жилья для семьи</td>\n",
       "    </tr>\n",
       "    <tr>\n",
       "      <th>10</th>\n",
       "      <td>10</td>\n",
       "      <td>2</td>\n",
       "      <td>-4171.483647</td>\n",
       "      <td>36</td>\n",
       "      <td>высшее</td>\n",
       "      <td>0</td>\n",
       "      <td>женат / замужем</td>\n",
       "      <td>0</td>\n",
       "      <td>M</td>\n",
       "      <td>компаньон</td>\n",
       "      <td>0</td>\n",
       "      <td>113943.491460</td>\n",
       "      <td>покупка недвижимости</td>\n",
       "    </tr>\n",
       "    <tr>\n",
       "      <th>11</th>\n",
       "      <td>11</td>\n",
       "      <td>0</td>\n",
       "      <td>-792.701887</td>\n",
       "      <td>40</td>\n",
       "      <td>среднее</td>\n",
       "      <td>1</td>\n",
       "      <td>женат / замужем</td>\n",
       "      <td>0</td>\n",
       "      <td>F</td>\n",
       "      <td>сотрудник</td>\n",
       "      <td>0</td>\n",
       "      <td>77069.234271</td>\n",
       "      <td>покупка коммерческой недвижимости</td>\n",
       "    </tr>\n",
       "    <tr>\n",
       "      <th>12</th>\n",
       "      <td>12</td>\n",
       "      <td>0</td>\n",
       "      <td>NaN</td>\n",
       "      <td>65</td>\n",
       "      <td>среднее</td>\n",
       "      <td>1</td>\n",
       "      <td>гражданский брак</td>\n",
       "      <td>1</td>\n",
       "      <td>M</td>\n",
       "      <td>пенсионер</td>\n",
       "      <td>0</td>\n",
       "      <td>NaN</td>\n",
       "      <td>сыграть свадьбу</td>\n",
       "    </tr>\n",
       "    <tr>\n",
       "      <th>13</th>\n",
       "      <td>13</td>\n",
       "      <td>0</td>\n",
       "      <td>-1846.641941</td>\n",
       "      <td>54</td>\n",
       "      <td>неоконченное высшее</td>\n",
       "      <td>2</td>\n",
       "      <td>женат / замужем</td>\n",
       "      <td>0</td>\n",
       "      <td>F</td>\n",
       "      <td>сотрудник</td>\n",
       "      <td>0</td>\n",
       "      <td>130458.228857</td>\n",
       "      <td>приобретение автомобиля</td>\n",
       "    </tr>\n",
       "    <tr>\n",
       "      <th>14</th>\n",
       "      <td>14</td>\n",
       "      <td>0</td>\n",
       "      <td>-1844.956182</td>\n",
       "      <td>56</td>\n",
       "      <td>высшее</td>\n",
       "      <td>0</td>\n",
       "      <td>гражданский брак</td>\n",
       "      <td>1</td>\n",
       "      <td>F</td>\n",
       "      <td>компаньон</td>\n",
       "      <td>1</td>\n",
       "      <td>165127.911772</td>\n",
       "      <td>покупка жилой недвижимости</td>\n",
       "    </tr>\n",
       "    <tr>\n",
       "      <th>15</th>\n",
       "      <td>15</td>\n",
       "      <td>1</td>\n",
       "      <td>-972.364419</td>\n",
       "      <td>26</td>\n",
       "      <td>среднее</td>\n",
       "      <td>1</td>\n",
       "      <td>женат / замужем</td>\n",
       "      <td>0</td>\n",
       "      <td>F</td>\n",
       "      <td>сотрудник</td>\n",
       "      <td>0</td>\n",
       "      <td>116820.904450</td>\n",
       "      <td>строительство собственной недвижимости</td>\n",
       "    </tr>\n",
       "    <tr>\n",
       "      <th>16</th>\n",
       "      <td>16</td>\n",
       "      <td>0</td>\n",
       "      <td>-1719.934226</td>\n",
       "      <td>35</td>\n",
       "      <td>среднее</td>\n",
       "      <td>1</td>\n",
       "      <td>женат / замужем</td>\n",
       "      <td>0</td>\n",
       "      <td>F</td>\n",
       "      <td>сотрудник</td>\n",
       "      <td>0</td>\n",
       "      <td>289202.704229</td>\n",
       "      <td>недвижимость</td>\n",
       "    </tr>\n",
       "    <tr>\n",
       "      <th>17</th>\n",
       "      <td>17</td>\n",
       "      <td>0</td>\n",
       "      <td>-2369.999720</td>\n",
       "      <td>33</td>\n",
       "      <td>высшее</td>\n",
       "      <td>0</td>\n",
       "      <td>гражданский брак</td>\n",
       "      <td>1</td>\n",
       "      <td>M</td>\n",
       "      <td>сотрудник</td>\n",
       "      <td>0</td>\n",
       "      <td>90410.586745</td>\n",
       "      <td>строительство недвижимости</td>\n",
       "    </tr>\n",
       "    <tr>\n",
       "      <th>18</th>\n",
       "      <td>18</td>\n",
       "      <td>0</td>\n",
       "      <td>400281.136913</td>\n",
       "      <td>53</td>\n",
       "      <td>среднее</td>\n",
       "      <td>1</td>\n",
       "      <td>вдовец / вдова</td>\n",
       "      <td>2</td>\n",
       "      <td>F</td>\n",
       "      <td>пенсионер</td>\n",
       "      <td>0</td>\n",
       "      <td>56823.777243</td>\n",
       "      <td>на покупку подержанного автомобиля</td>\n",
       "    </tr>\n",
       "    <tr>\n",
       "      <th>19</th>\n",
       "      <td>19</td>\n",
       "      <td>0</td>\n",
       "      <td>-10038.818549</td>\n",
       "      <td>48</td>\n",
       "      <td>СРЕДНЕЕ</td>\n",
       "      <td>1</td>\n",
       "      <td>в разводе</td>\n",
       "      <td>3</td>\n",
       "      <td>F</td>\n",
       "      <td>сотрудник</td>\n",
       "      <td>0</td>\n",
       "      <td>242831.107982</td>\n",
       "      <td>на покупку своего автомобиля</td>\n",
       "    </tr>\n",
       "  </tbody>\n",
       "</table>\n",
       "</div>"
      ],
      "text/plain": [
       "    Unnamed: 0  children  days_employed  dob_years            education  \\\n",
       "0            0         1   -8437.673028         42               высшее   \n",
       "1            1         1   -4024.803754         36              среднее   \n",
       "2            2         0   -5623.422610         33              Среднее   \n",
       "3            3         3   -4124.747207         32              среднее   \n",
       "4            4         0  340266.072047         53              среднее   \n",
       "5            5         0    -926.185831         27               высшее   \n",
       "6            6         0   -2879.202052         43               высшее   \n",
       "7            7         0    -152.779569         50              СРЕДНЕЕ   \n",
       "8            8         2   -6929.865299         35               ВЫСШЕЕ   \n",
       "9            9         0   -2188.756445         41              среднее   \n",
       "10          10         2   -4171.483647         36               высшее   \n",
       "11          11         0    -792.701887         40              среднее   \n",
       "12          12         0            NaN         65              среднее   \n",
       "13          13         0   -1846.641941         54  неоконченное высшее   \n",
       "14          14         0   -1844.956182         56               высшее   \n",
       "15          15         1    -972.364419         26              среднее   \n",
       "16          16         0   -1719.934226         35              среднее   \n",
       "17          17         0   -2369.999720         33               высшее   \n",
       "18          18         0  400281.136913         53              среднее   \n",
       "19          19         0  -10038.818549         48              СРЕДНЕЕ   \n",
       "\n",
       "    education_id     family_status  family_status_id gender income_type  debt  \\\n",
       "0              0   женат / замужем                 0      F   сотрудник     0   \n",
       "1              1   женат / замужем                 0      F   сотрудник     0   \n",
       "2              1   женат / замужем                 0      M   сотрудник     0   \n",
       "3              1   женат / замужем                 0      M   сотрудник     0   \n",
       "4              1  гражданский брак                 1      F   пенсионер     0   \n",
       "5              0  гражданский брак                 1      M   компаньон     0   \n",
       "6              0   женат / замужем                 0      F   компаньон     0   \n",
       "7              1   женат / замужем                 0      M   сотрудник     0   \n",
       "8              0  гражданский брак                 1      F   сотрудник     0   \n",
       "9              1   женат / замужем                 0      M   сотрудник     0   \n",
       "10             0   женат / замужем                 0      M   компаньон     0   \n",
       "11             1   женат / замужем                 0      F   сотрудник     0   \n",
       "12             1  гражданский брак                 1      M   пенсионер     0   \n",
       "13             2   женат / замужем                 0      F   сотрудник     0   \n",
       "14             0  гражданский брак                 1      F   компаньон     1   \n",
       "15             1   женат / замужем                 0      F   сотрудник     0   \n",
       "16             1   женат / замужем                 0      F   сотрудник     0   \n",
       "17             0  гражданский брак                 1      M   сотрудник     0   \n",
       "18             1    вдовец / вдова                 2      F   пенсионер     0   \n",
       "19             1         в разводе                 3      F   сотрудник     0   \n",
       "\n",
       "     total_income                                 purpose  \n",
       "0   253875.639453                           покупка жилья  \n",
       "1   112080.014102                 приобретение автомобиля  \n",
       "2   145885.952297                           покупка жилья  \n",
       "3   267628.550329              дополнительное образование  \n",
       "4   158616.077870                         сыграть свадьбу  \n",
       "5   255763.565419                           покупка жилья  \n",
       "6   240525.971920                       операции с жильем  \n",
       "7   135823.934197                             образование  \n",
       "8    95856.832424                   на проведение свадьбы  \n",
       "9   144425.938277                 покупка жилья для семьи  \n",
       "10  113943.491460                    покупка недвижимости  \n",
       "11   77069.234271       покупка коммерческой недвижимости  \n",
       "12            NaN                         сыграть свадьбу  \n",
       "13  130458.228857                 приобретение автомобиля  \n",
       "14  165127.911772              покупка жилой недвижимости  \n",
       "15  116820.904450  строительство собственной недвижимости  \n",
       "16  289202.704229                            недвижимость  \n",
       "17   90410.586745              строительство недвижимости  \n",
       "18   56823.777243      на покупку подержанного автомобиля  \n",
       "19  242831.107982            на покупку своего автомобиля  "
      ]
     },
     "execution_count": 3,
     "metadata": {},
     "output_type": "execute_result"
    }
   ],
   "source": [
    "data.head(20)"
   ]
  },
  {
   "cell_type": "markdown",
   "id": "d7f62f88",
   "metadata": {
    "deletable": false,
    "editable": false,
    "id": "1c12e233",
    "slideshow": {
     "slide_type": ""
    },
    "tags": []
   },
   "source": [
    "**Задание 3. Выведите основную информацию о датафрейме с помощью метода `info()`.**"
   ]
  },
  {
   "cell_type": "markdown",
   "id": "8ebda04f-8fff-4735-bb1b-35740e3439a8",
   "metadata": {},
   "source": [
    "Из основной информации можем выявить общий размер датов и наличие пропусков в столбцах days_employed и total_income:"
   ]
  },
  {
   "cell_type": "code",
   "execution_count": 4,
   "id": "d56e577e",
   "metadata": {
    "deletable": false,
    "editable": true,
    "id": "2b757bca",
    "outputId": "15376089-8dad-46c9-b520-c05248d43158",
    "slideshow": {
     "slide_type": ""
    },
    "tags": []
   },
   "outputs": [
    {
     "name": "stdout",
     "output_type": "stream",
     "text": [
      "<class 'pandas.core.frame.DataFrame'>\n",
      "RangeIndex: 21525 entries, 0 to 21524\n",
      "Data columns (total 13 columns):\n",
      " #   Column            Non-Null Count  Dtype  \n",
      "---  ------            --------------  -----  \n",
      " 0   Unnamed: 0        21525 non-null  int64  \n",
      " 1   children          21525 non-null  int64  \n",
      " 2   days_employed     19351 non-null  float64\n",
      " 3   dob_years         21525 non-null  int64  \n",
      " 4   education         21525 non-null  object \n",
      " 5   education_id      21525 non-null  int64  \n",
      " 6   family_status     21525 non-null  object \n",
      " 7   family_status_id  21525 non-null  int64  \n",
      " 8   gender            21525 non-null  object \n",
      " 9   income_type       21525 non-null  object \n",
      " 10  debt              21525 non-null  int64  \n",
      " 11  total_income      19351 non-null  float64\n",
      " 12  purpose           21525 non-null  object \n",
      "dtypes: float64(2), int64(6), object(5)\n",
      "memory usage: 2.1+ MB\n"
     ]
    }
   ],
   "source": [
    "data.info()"
   ]
  },
  {
   "cell_type": "markdown",
   "id": "a55c7805",
   "metadata": {
    "deletable": false,
    "editable": false,
    "id": "333ec665",
    "slideshow": {
     "slide_type": ""
    },
    "tags": []
   },
   "source": [
    "## Предобработка данных"
   ]
  },
  {
   "cell_type": "markdown",
   "id": "73c57c16",
   "metadata": {
    "deletable": false,
    "editable": false,
    "id": "02d92d53",
    "slideshow": {
     "slide_type": ""
    },
    "tags": []
   },
   "source": [
    "### Удаление пропусков"
   ]
  },
  {
   "cell_type": "markdown",
   "id": "7d27dc71",
   "metadata": {
    "deletable": false,
    "editable": false,
    "id": "cd84967c",
    "slideshow": {
     "slide_type": ""
    },
    "tags": []
   },
   "source": [
    "**Задание 4. Выведите количество пропущенных значений для каждого столбца. Используйте комбинацию двух методов.**"
   ]
  },
  {
   "cell_type": "markdown",
   "id": "9ae43456-81a1-460b-a1fc-f2e5db8e5505",
   "metadata": {},
   "source": [
    "Посчитаем количество пропущенных значений для каждого столбца. В столбцах days_employed и total_income имеется по 2174 пропуска:"
   ]
  },
  {
   "cell_type": "code",
   "execution_count": 5,
   "id": "8308db49",
   "metadata": {
    "deletable": false,
    "editable": true,
    "id": "7f9b2309",
    "outputId": "81f4d817-781c-465c-ed15-91ce4446810d",
    "slideshow": {
     "slide_type": ""
    },
    "tags": []
   },
   "outputs": [
    {
     "data": {
      "text/plain": [
       "Unnamed: 0             0\n",
       "children               0\n",
       "days_employed       2174\n",
       "dob_years              0\n",
       "education              0\n",
       "education_id           0\n",
       "family_status          0\n",
       "family_status_id       0\n",
       "gender                 0\n",
       "income_type            0\n",
       "debt                   0\n",
       "total_income        2174\n",
       "purpose                0\n",
       "dtype: int64"
      ]
     },
     "execution_count": 5,
     "metadata": {},
     "output_type": "execute_result"
    }
   ],
   "source": [
    "data.isna().sum()"
   ]
  },
  {
   "cell_type": "markdown",
   "id": "a082b1be",
   "metadata": {
    "deletable": false,
    "editable": false,
    "id": "db86e27b",
    "slideshow": {
     "slide_type": ""
    },
    "tags": []
   },
   "source": [
    "**Задание 5. В двух столбцах есть пропущенные значения. Один из них — `days_employed`. Пропуски в этом столбце вы обработаете на следующем этапе. Другой столбец с пропущенными значениями — `total_income` — хранит данные о доходах. На сумму дохода сильнее всего влияет тип занятости, поэтому заполнить пропуски в этом столбце нужно медианным значением по каждому типу из столбца `income_type`. Например, у человека с типом занятости `сотрудник` пропуск в столбце `total_income` должен быть заполнен медианным доходом среди всех записей с тем же типом.**"
   ]
  },
  {
   "cell_type": "markdown",
   "id": "cddb8e17-d906-4ae5-8d22-27208bbec43f",
   "metadata": {},
   "source": [
    "Заменим пропуски предложенным способом:"
   ]
  },
  {
   "cell_type": "code",
   "execution_count": 6,
   "id": "c53a3570",
   "metadata": {
    "deletable": false,
    "editable": true,
    "id": "42006a93",
    "slideshow": {
     "slide_type": ""
    },
    "tags": []
   },
   "outputs": [],
   "source": [
    "for t in data['income_type'].unique():\n",
    "    data.loc[(data['income_type'] == t) & (data['total_income'].isna()), 'total_income'] = \\\n",
    "    data.loc[(data['income_type'] == t), 'total_income'].median()"
   ]
  },
  {
   "cell_type": "markdown",
   "id": "fc0a8ba4",
   "metadata": {
    "deletable": false,
    "editable": false,
    "id": "89da5ece",
    "slideshow": {
     "slide_type": ""
    },
    "tags": []
   },
   "source": [
    "### Обработка аномальных значений"
   ]
  },
  {
   "cell_type": "markdown",
   "id": "17e11508",
   "metadata": {
    "deletable": false,
    "editable": false,
    "id": "57964554",
    "slideshow": {
     "slide_type": ""
    },
    "tags": []
   },
   "source": [
    "**Задание 6. В данных могут встречаться артефакты (аномалии) — значения, которые не отражают действительность и появились по какой-то ошибке. таким артефактом будет отрицательное количество дней трудового стажа в столбце `days_employed`. Для реальных данных это нормально. Обработайте значения в этом столбце: замените все отрицательные значения положительными с помощью метода `abs()`.**"
   ]
  },
  {
   "cell_type": "markdown",
   "id": "84f76f50-d116-40b5-9a85-cb33d6820481",
   "metadata": {},
   "source": [
    "Заменим аномалии требуемым способом:"
   ]
  },
  {
   "cell_type": "code",
   "execution_count": 7,
   "id": "33fd2d35",
   "metadata": {
    "deletable": false,
    "editable": true,
    "id": "f6f055bf",
    "slideshow": {
     "slide_type": ""
    },
    "tags": []
   },
   "outputs": [],
   "source": [
    "data['days_employed'] = data['days_employed'].abs()"
   ]
  },
  {
   "cell_type": "markdown",
   "id": "21c0c7ac",
   "metadata": {
    "deletable": false,
    "editable": false,
    "id": "6107dd2f",
    "slideshow": {
     "slide_type": ""
    },
    "tags": []
   },
   "source": [
    "**Задание 7. Для каждого типа занятости выведите медианное значение трудового стажа `days_employed` в днях.**"
   ]
  },
  {
   "cell_type": "markdown",
   "id": "7cb643f3-0389-4e90-9b63-8e5b5dd694f7",
   "metadata": {},
   "source": [
    "С помощью метода groupby выведем требуемые значения:"
   ]
  },
  {
   "cell_type": "code",
   "execution_count": 8,
   "id": "6f703d75",
   "metadata": {
    "deletable": false,
    "editable": true,
    "id": "85a5faf6",
    "outputId": "801ef80e-522b-4668-f34e-565af7432bcf",
    "slideshow": {
     "slide_type": ""
    },
    "tags": []
   },
   "outputs": [
    {
     "data": {
      "text/plain": [
       "income_type\n",
       "безработный        366413.652744\n",
       "в декрете            3296.759962\n",
       "госслужащий          2689.368353\n",
       "компаньон            1547.382223\n",
       "пенсионер          365213.306266\n",
       "предприниматель       520.848083\n",
       "сотрудник            1574.202821\n",
       "студент               578.751554\n",
       "Name: days_employed, dtype: float64"
      ]
     },
     "execution_count": 8,
     "metadata": {},
     "output_type": "execute_result"
    }
   ],
   "source": [
    "data.groupby('income_type')['days_employed'].agg('median')"
   ]
  },
  {
   "cell_type": "markdown",
   "id": "57948711",
   "metadata": {
    "deletable": false,
    "editable": false,
    "id": "38d1a030",
    "slideshow": {
     "slide_type": ""
    },
    "tags": []
   },
   "source": [
    "У двух типов (безработные и пенсионеры) получатся аномально большие значения. Исправить такие значения сложно, поэтому оставьте их как есть. Тем более этот столбец не понадобится вам для исследования."
   ]
  },
  {
   "cell_type": "markdown",
   "id": "395c5634",
   "metadata": {
    "deletable": false,
    "editable": false,
    "id": "d8a9f147",
    "slideshow": {
     "slide_type": ""
    },
    "tags": []
   },
   "source": [
    "**Задание 8. Выведите перечень уникальных значений столбца `children`.**"
   ]
  },
  {
   "cell_type": "markdown",
   "id": "16e196bf-9aa7-475e-8008-6327739df6e7",
   "metadata": {},
   "source": [
    "Среди уникальных значений обратим внимание на аномальные значения -1 и 20:"
   ]
  },
  {
   "cell_type": "code",
   "execution_count": 9,
   "id": "d89a9d3f",
   "metadata": {
    "deletable": false,
    "editable": true,
    "id": "ef5056eb",
    "outputId": "6975b15c-7f95-4697-d16d-a0c79b657b03",
    "slideshow": {
     "slide_type": ""
    },
    "tags": []
   },
   "outputs": [
    {
     "data": {
      "text/plain": [
       "array([ 1,  0,  3,  2, -1,  4, 20,  5], dtype=int64)"
      ]
     },
     "execution_count": 9,
     "metadata": {},
     "output_type": "execute_result"
    }
   ],
   "source": [
    "data['children'].unique()"
   ]
  },
  {
   "cell_type": "markdown",
   "id": "8f2abdc5",
   "metadata": {
    "deletable": false,
    "editable": false,
    "id": "40b9ebf2",
    "slideshow": {
     "slide_type": ""
    },
    "tags": []
   },
   "source": [
    "**Задание 9. В столбце `children` есть два аномальных значения. Удалите строки, в которых встречаются такие аномальные значения из датафрейма `data`.**"
   ]
  },
  {
   "cell_type": "code",
   "execution_count": 10,
   "id": "d0fce55b",
   "metadata": {
    "deletable": false,
    "editable": true,
    "id": "3ff9801d",
    "slideshow": {
     "slide_type": ""
    },
    "tags": []
   },
   "outputs": [],
   "source": [
    "data = data[(data['children'] != -1) & (data['children'] != 20)]"
   ]
  },
  {
   "cell_type": "markdown",
   "id": "641b32ce",
   "metadata": {
    "deletable": false,
    "editable": false,
    "id": "bbc4d0ce",
    "slideshow": {
     "slide_type": ""
    },
    "tags": []
   },
   "source": [
    "**Задание 10. Ещё раз выведите перечень уникальных значений столбца `children`, чтобы убедиться, что артефакты удалены.**"
   ]
  },
  {
   "cell_type": "markdown",
   "id": "7bb69d57-6085-424f-a38a-3522a73861e2",
   "metadata": {},
   "source": [
    "Действительно, мы верно удалили аномальные значения:"
   ]
  },
  {
   "cell_type": "code",
   "execution_count": 11,
   "id": "ec37c8a6",
   "metadata": {
    "deletable": false,
    "editable": true,
    "id": "ad4fa8b7",
    "outputId": "b2097101-d49d-44d9-901b-32a65c9463d1",
    "slideshow": {
     "slide_type": ""
    },
    "tags": []
   },
   "outputs": [
    {
     "data": {
      "text/plain": [
       "array([1, 0, 3, 2, 4, 5], dtype=int64)"
      ]
     },
     "execution_count": 11,
     "metadata": {},
     "output_type": "execute_result"
    }
   ],
   "source": [
    "data['children'].unique()"
   ]
  },
  {
   "cell_type": "markdown",
   "id": "bc82e4be",
   "metadata": {
    "deletable": false,
    "editable": false,
    "id": "75440b63",
    "slideshow": {
     "slide_type": ""
    },
    "tags": []
   },
   "source": [
    "### Удаление пропусков (продолжение)"
   ]
  },
  {
   "cell_type": "markdown",
   "id": "71c0f031",
   "metadata": {
    "deletable": false,
    "editable": false,
    "id": "f4ea573f",
    "slideshow": {
     "slide_type": ""
    },
    "tags": []
   },
   "source": [
    "**Задание 11. Заполните пропуски в столбце `days_employed` медианными значениями по каждого типа занятости `income_type`.**"
   ]
  },
  {
   "cell_type": "code",
   "execution_count": 12,
   "id": "e56cf760",
   "metadata": {
    "deletable": false,
    "editable": true,
    "id": "af6b1a7e",
    "slideshow": {
     "slide_type": ""
    },
    "tags": []
   },
   "outputs": [],
   "source": [
    "for t in data['income_type'].unique():\n",
    "    data.loc[(data['income_type'] == t) & (data['days_employed'].isna()), 'days_employed'] = \\\n",
    "    data.loc[(data['income_type'] == t), 'days_employed'].median()"
   ]
  },
  {
   "cell_type": "markdown",
   "id": "87b9d7ec",
   "metadata": {
    "deletable": false,
    "editable": false,
    "id": "2753f40d",
    "slideshow": {
     "slide_type": ""
    },
    "tags": []
   },
   "source": [
    "**Задание 12. Убедитесь, что все пропуски заполнены. Проверьте себя и ещё раз выведите количество пропущенных значений для каждого столбца с помощью двух методов.**"
   ]
  },
  {
   "cell_type": "markdown",
   "id": "5de87aef-171d-4b63-bc05-2d58491850a0",
   "metadata": {},
   "source": [
    "Пропущенных значений больше нет, мы всё сделали корректно:"
   ]
  },
  {
   "cell_type": "code",
   "execution_count": 13,
   "id": "e0072a9d",
   "metadata": {
    "deletable": false,
    "editable": true,
    "id": "55f78bc2",
    "outputId": "8da1e4e1-358e-4e87-98c9-f261bce0a7b2",
    "slideshow": {
     "slide_type": ""
    },
    "tags": []
   },
   "outputs": [
    {
     "data": {
      "text/plain": [
       "Unnamed: 0          0\n",
       "children            0\n",
       "days_employed       0\n",
       "dob_years           0\n",
       "education           0\n",
       "education_id        0\n",
       "family_status       0\n",
       "family_status_id    0\n",
       "gender              0\n",
       "income_type         0\n",
       "debt                0\n",
       "total_income        0\n",
       "purpose             0\n",
       "dtype: int64"
      ]
     },
     "execution_count": 13,
     "metadata": {},
     "output_type": "execute_result"
    }
   ],
   "source": [
    "data.isna().sum()"
   ]
  },
  {
   "cell_type": "markdown",
   "id": "1f9ff524",
   "metadata": {
    "deletable": false,
    "editable": false,
    "id": "ddc81e43",
    "slideshow": {
     "slide_type": ""
    },
    "tags": []
   },
   "source": [
    "### Изменение типов данных"
   ]
  },
  {
   "cell_type": "markdown",
   "id": "7e85c9d9",
   "metadata": {
    "deletable": true,
    "id": "42d19d24",
    "slideshow": {
     "slide_type": ""
    },
    "tags": []
   },
   "source": [
    "**Задание 13. Заменить вещественный тип данных в столбце `total_income` на целочисленный с помощью метода `astype()`.**"
   ]
  },
  {
   "cell_type": "code",
   "execution_count": 14,
   "id": "6718a2eb",
   "metadata": {
    "deletable": false,
    "editable": true,
    "id": "920b65ad",
    "slideshow": {
     "slide_type": ""
    },
    "tags": []
   },
   "outputs": [],
   "source": [
    "data['total_income'] = data['total_income'].astype(int)"
   ]
  },
  {
   "cell_type": "markdown",
   "id": "fd1d56ed",
   "metadata": {
    "deletable": false,
    "editable": false,
    "id": "80c420ba",
    "slideshow": {
     "slide_type": ""
    },
    "tags": []
   },
   "source": [
    "### Обработка дубликатов"
   ]
  },
  {
   "cell_type": "markdown",
   "id": "69146968",
   "metadata": {
    "deletable": true,
    "slideshow": {
     "slide_type": ""
    },
    "tags": []
   },
   "source": [
    "**Задание 14. Обработать неявные дубликаты в столбце `education`. В этом столбце есть одни и те же значения, но записанные по-разному: с использованием заглавных и строчных букв. Следует привести их к нижнему регистру и проверить остальные столбцы.**"
   ]
  },
  {
   "cell_type": "code",
   "execution_count": 15,
   "id": "03442a79",
   "metadata": {
    "deletable": false,
    "editable": true,
    "slideshow": {
     "slide_type": ""
    },
    "tags": []
   },
   "outputs": [],
   "source": [
    "data['education'] = data['education'].str.lower()"
   ]
  },
  {
   "cell_type": "markdown",
   "id": "069ad81f",
   "metadata": {
    "deletable": false,
    "id": "dc587695",
    "slideshow": {
     "slide_type": ""
    },
    "tags": []
   },
   "source": [
    "**Задание 15. Вывести на экран количество строк-дубликатов в данных. Если такие строки присутствуют, удалить их.**"
   ]
  },
  {
   "cell_type": "markdown",
   "id": "4d5472e9-7183-4ea4-967a-1f8b7cf4d674",
   "metadata": {},
   "source": [
    "Посчитаем дубликаты и убедимся, что дубликаты отсутствуют:"
   ]
  },
  {
   "cell_type": "code",
   "execution_count": 16,
   "id": "30ec2e55",
   "metadata": {
    "deletable": false,
    "editable": true,
    "id": "3ee445e4",
    "outputId": "9684deba-1934-42d1-99e1-cda61740f822",
    "slideshow": {
     "slide_type": ""
    },
    "tags": []
   },
   "outputs": [
    {
     "data": {
      "text/plain": [
       "0"
      ]
     },
     "execution_count": 16,
     "metadata": {},
     "output_type": "execute_result"
    }
   ],
   "source": [
    "data.duplicated().sum()"
   ]
  },
  {
   "cell_type": "markdown",
   "id": "8ae1cf97",
   "metadata": {
    "deletable": false,
    "editable": false,
    "id": "9904cf55",
    "slideshow": {
     "slide_type": ""
    },
    "tags": []
   },
   "source": [
    "### Категоризация данных"
   ]
  },
  {
   "cell_type": "markdown",
   "id": "602e8a5a",
   "metadata": {
    "deletable": false,
    "id": "72fcc8a2",
    "slideshow": {
     "slide_type": ""
    },
    "tags": []
   },
   "source": [
    "**Задание 16. На основании диапазонов, указанных ниже, создать в датафрейме `data` столбец `total_income_category` с категориями:**\n",
    "\n",
    "- 0–30000 — `'E'`;\n",
    "- 30001–50000 — `'D'`;\n",
    "- 50001–200000 — `'C'`;\n",
    "- 200001–1000000 — `'B'`;\n",
    "- 1000001 и выше — `'A'`.\n",
    "\n",
    "\n",
    "**Например, кредитополучателю с доходом 25000 нужно назначить категорию `'E'`, а клиенту, получающему 235000, — `'B'`. Следут использовать собственную функцию с именем `categorize_income()` и метод `apply()`.**"
   ]
  },
  {
   "cell_type": "code",
   "execution_count": 17,
   "id": "eb40572f",
   "metadata": {
    "deletable": false,
    "editable": true,
    "id": "e1771346",
    "slideshow": {
     "slide_type": ""
    },
    "tags": []
   },
   "outputs": [],
   "source": [
    "def categorize_income(income):\n",
    "    try:\n",
    "        if 0 <= income <= 30000:\n",
    "            return 'E'\n",
    "        elif 30001 <= income <= 50000:\n",
    "            return 'D'\n",
    "        elif 50001 <= income <= 200000:\n",
    "            return 'C'\n",
    "        elif 200001 <= income <= 1000000:\n",
    "            return 'B'\n",
    "        elif income >= 1000001:\n",
    "            return 'A'\n",
    "    except:\n",
    "        pass"
   ]
  },
  {
   "cell_type": "code",
   "execution_count": 18,
   "id": "e402e306",
   "metadata": {
    "deletable": false,
    "editable": true,
    "id": "d5f3586d",
    "slideshow": {
     "slide_type": ""
    },
    "tags": []
   },
   "outputs": [],
   "source": [
    "data['total_income_category'] = data['total_income'].apply(categorize_income)"
   ]
  },
  {
   "cell_type": "markdown",
   "id": "5a7d75ba",
   "metadata": {
    "deletable": false,
    "id": "dde49b5c",
    "slideshow": {
     "slide_type": ""
    },
    "tags": []
   },
   "source": [
    "**Задание 17. Вывести на экран перечень уникальных целей взятия кредита из столбца `purpose`.**"
   ]
  },
  {
   "cell_type": "code",
   "execution_count": 19,
   "id": "87ba5e99",
   "metadata": {
    "deletable": false,
    "editable": true,
    "id": "f67ce9b3",
    "outputId": "673c12d9-7d7e-4ae0-9812-c622c89dd244",
    "slideshow": {
     "slide_type": ""
    },
    "tags": []
   },
   "outputs": [
    {
     "data": {
      "text/plain": [
       "array(['покупка жилья', 'приобретение автомобиля',\n",
       "       'дополнительное образование', 'сыграть свадьбу',\n",
       "       'операции с жильем', 'образование', 'на проведение свадьбы',\n",
       "       'покупка жилья для семьи', 'покупка недвижимости',\n",
       "       'покупка коммерческой недвижимости', 'покупка жилой недвижимости',\n",
       "       'строительство собственной недвижимости', 'недвижимость',\n",
       "       'строительство недвижимости', 'на покупку подержанного автомобиля',\n",
       "       'на покупку своего автомобиля',\n",
       "       'операции с коммерческой недвижимостью',\n",
       "       'строительство жилой недвижимости', 'жилье',\n",
       "       'операции со своей недвижимостью', 'автомобили',\n",
       "       'заняться образованием', 'сделка с подержанным автомобилем',\n",
       "       'получение образования', 'автомобиль', 'свадьба',\n",
       "       'получение дополнительного образования', 'покупка своего жилья',\n",
       "       'операции с недвижимостью', 'получение высшего образования',\n",
       "       'свой автомобиль', 'сделка с автомобилем',\n",
       "       'профильное образование', 'высшее образование',\n",
       "       'покупка жилья для сдачи', 'на покупку автомобиля', 'ремонт жилью',\n",
       "       'заняться высшим образованием'], dtype=object)"
      ]
     },
     "execution_count": 19,
     "metadata": {},
     "output_type": "execute_result"
    }
   ],
   "source": [
    "data['purpose'].unique()"
   ]
  },
  {
   "cell_type": "markdown",
   "id": "e49edf42",
   "metadata": {
    "deletable": false,
    "id": "85d0aef0",
    "slideshow": {
     "slide_type": ""
    },
    "tags": []
   },
   "source": [
    "**Задание 18. Создать функцию, которая на основании данных из столбца `purpose` сформирует новый столбец `purpose_category`, в который войдут следующие категории:**\n",
    "\n",
    "- `'операции с автомобилем'`,\n",
    "- `'операции с недвижимостью'`,\n",
    "- `'проведение свадьбы'`,\n",
    "- `'получение образования'`.\n",
    "\n",
    "**Например, если в столбце `purpose` находится подстрока `'на покупку автомобиля'`, то в столбце `purpose_category` должна появиться строка `'операции с автомобилем'`.**\n",
    "\n",
    "**Следует использовать собственную функцию с именем `categorize_purpose()` и метод `apply()`.**"
   ]
  },
  {
   "cell_type": "code",
   "execution_count": 20,
   "id": "5be462ef",
   "metadata": {
    "deletable": false,
    "editable": true,
    "id": "e149fab4",
    "slideshow": {
     "slide_type": ""
    },
    "tags": []
   },
   "outputs": [],
   "source": [
    "def categorize_purpose(row):\n",
    "    try:\n",
    "        if 'автом' in row:\n",
    "            return 'операции с автомобилем'\n",
    "        elif 'жил' in row or 'недвиж' in row:\n",
    "            return 'операции с недвижимостью'\n",
    "        elif 'свад' in row:\n",
    "            return 'проведение свадьбы'\n",
    "        elif 'образов' in row:\n",
    "            return 'получение образования'\n",
    "    except:\n",
    "        return 'нет категории'"
   ]
  },
  {
   "cell_type": "code",
   "execution_count": 21,
   "id": "6af144e6",
   "metadata": {
    "deletable": false,
    "editable": true,
    "id": "bf36e69b",
    "slideshow": {
     "slide_type": ""
    },
    "tags": []
   },
   "outputs": [],
   "source": [
    "data['purpose_category'] = data['purpose'].apply(categorize_purpose)"
   ]
  },
  {
   "cell_type": "markdown",
   "id": "8f7d287a",
   "metadata": {
    "deletable": false,
    "editable": true,
    "id": "09b242bf",
    "slideshow": {
     "slide_type": ""
    },
    "tags": []
   },
   "source": [
    "## Исследование данных и ответ на вопросы"
   ]
  },
  {
   "cell_type": "markdown",
   "id": "931a6664",
   "metadata": {
    "deletable": false,
    "editable": true,
    "id": "c5d66278",
    "slideshow": {
     "slide_type": ""
    },
    "tags": []
   },
   "source": [
    "### Есть ли зависимость между количеством детей и возвратом кредита в срок?"
   ]
  },
  {
   "cell_type": "markdown",
   "id": "d3e1d306",
   "metadata": {
    "editable": true,
    "slideshow": {
     "slide_type": ""
    },
    "tags": []
   },
   "source": [
    "Прежде всего, посчитаем долю просрочивших для каждого варианта количества детей:"
   ]
  },
  {
   "cell_type": "code",
   "execution_count": 22,
   "id": "f7b72c1d",
   "metadata": {
    "deletable": false,
    "editable": true,
    "id": "2cacfc4a",
    "scrolled": true,
    "slideshow": {
     "slide_type": ""
    },
    "tags": []
   },
   "outputs": [
    {
     "data": {
      "text/plain": [
       "children\n",
       "0    0.075129\n",
       "1    0.092154\n",
       "2    0.094404\n",
       "3    0.081818\n",
       "4    0.097561\n",
       "5    0.000000\n",
       "Name: debt, dtype: float64"
      ]
     },
     "execution_count": 22,
     "metadata": {},
     "output_type": "execute_result"
    }
   ],
   "source": [
    "data.groupby('children')['debt'].mean()"
   ]
  },
  {
   "cell_type": "markdown",
   "id": "091b0b47",
   "metadata": {
    "editable": true,
    "slideshow": {
     "slide_type": ""
    },
    "tags": []
   },
   "source": [
    "Отсутствие просрочивших среди дебиторов с пятью детьми, вероятно, объясняется тем, что их просто слишком мало в наборе данных, чтобы обнаружить хотя бы одного просрочившего. Проверим это предположение, добавиви в таблицу их точное количество:"
   ]
  },
  {
   "cell_type": "code",
   "execution_count": 23,
   "id": "567c37da",
   "metadata": {
    "editable": true,
    "slideshow": {
     "slide_type": ""
    },
    "tags": []
   },
   "outputs": [
    {
     "data": {
      "text/html": [
       "<div>\n",
       "<style scoped>\n",
       "    .dataframe tbody tr th:only-of-type {\n",
       "        vertical-align: middle;\n",
       "    }\n",
       "\n",
       "    .dataframe tbody tr th {\n",
       "        vertical-align: top;\n",
       "    }\n",
       "\n",
       "    .dataframe thead th {\n",
       "        text-align: right;\n",
       "    }\n",
       "</style>\n",
       "<table border=\"1\" class=\"dataframe\">\n",
       "  <thead>\n",
       "    <tr style=\"text-align: right;\">\n",
       "      <th></th>\n",
       "      <th>count</th>\n",
       "      <th>mean</th>\n",
       "    </tr>\n",
       "    <tr>\n",
       "      <th>children</th>\n",
       "      <th></th>\n",
       "      <th></th>\n",
       "    </tr>\n",
       "  </thead>\n",
       "  <tbody>\n",
       "    <tr>\n",
       "      <th>0</th>\n",
       "      <td>14149</td>\n",
       "      <td>0.075129</td>\n",
       "    </tr>\n",
       "    <tr>\n",
       "      <th>1</th>\n",
       "      <td>4818</td>\n",
       "      <td>0.092154</td>\n",
       "    </tr>\n",
       "    <tr>\n",
       "      <th>2</th>\n",
       "      <td>2055</td>\n",
       "      <td>0.094404</td>\n",
       "    </tr>\n",
       "    <tr>\n",
       "      <th>3</th>\n",
       "      <td>330</td>\n",
       "      <td>0.081818</td>\n",
       "    </tr>\n",
       "    <tr>\n",
       "      <th>4</th>\n",
       "      <td>41</td>\n",
       "      <td>0.097561</td>\n",
       "    </tr>\n",
       "    <tr>\n",
       "      <th>5</th>\n",
       "      <td>9</td>\n",
       "      <td>0.000000</td>\n",
       "    </tr>\n",
       "  </tbody>\n",
       "</table>\n",
       "</div>"
      ],
      "text/plain": [
       "          count      mean\n",
       "children                 \n",
       "0         14149  0.075129\n",
       "1          4818  0.092154\n",
       "2          2055  0.094404\n",
       "3           330  0.081818\n",
       "4            41  0.097561\n",
       "5             9  0.000000"
      ]
     },
     "execution_count": 23,
     "metadata": {},
     "output_type": "execute_result"
    }
   ],
   "source": [
    "data.groupby('children')['debt'].agg(['count', 'mean'])"
   ]
  },
  {
   "cell_type": "markdown",
   "id": "2a900c10",
   "metadata": {
    "editable": true,
    "slideshow": {
     "slide_type": ""
    },
    "tags": []
   },
   "source": [
    "Действительно, дебиторов с пятью детьми лишь девять человек, а в среднем на одного просрочившего приходится более десяти выплативших кредит вовремя."
   ]
  },
  {
   "cell_type": "markdown",
   "id": "30298f18",
   "metadata": {
    "deletable": false,
    "editable": true,
    "id": "3a6b99ec",
    "slideshow": {
     "slide_type": ""
    },
    "tags": []
   },
   "source": [
    "**Вывод:** Судя по всему, на возврат кредита в срок влияет не количество детей, а их наличие. Так, среди тех, у кого нет детей, процент должников составлял порядка 7.5%, а среди остальных - от 8.2% до 9.8%."
   ]
  },
  {
   "cell_type": "markdown",
   "id": "f9972bb4",
   "metadata": {
    "deletable": false,
    "editable": true,
    "id": "97be82ca",
    "slideshow": {
     "slide_type": ""
    },
    "tags": []
   },
   "source": [
    "### Есть ли зависимость между семейным положением и возвратом кредита в срок?"
   ]
  },
  {
   "cell_type": "markdown",
   "id": "2b80f2cd",
   "metadata": {
    "editable": true,
    "slideshow": {
     "slide_type": ""
    },
    "tags": []
   },
   "source": [
    "Прежде всего, посчитаем долю просрочивших для каждого семейного статуса (чтобы выявить слишком малые категории, вновь добавим в таблицу общее количество дебиторов каждой категории):"
   ]
  },
  {
   "cell_type": "code",
   "execution_count": 24,
   "id": "fd069b02",
   "metadata": {
    "deletable": false,
    "editable": true,
    "id": "dc3f7ee8",
    "slideshow": {
     "slide_type": ""
    },
    "tags": []
   },
   "outputs": [
    {
     "data": {
      "text/html": [
       "<div>\n",
       "<style scoped>\n",
       "    .dataframe tbody tr th:only-of-type {\n",
       "        vertical-align: middle;\n",
       "    }\n",
       "\n",
       "    .dataframe tbody tr th {\n",
       "        vertical-align: top;\n",
       "    }\n",
       "\n",
       "    .dataframe thead th {\n",
       "        text-align: right;\n",
       "    }\n",
       "</style>\n",
       "<table border=\"1\" class=\"dataframe\">\n",
       "  <thead>\n",
       "    <tr style=\"text-align: right;\">\n",
       "      <th></th>\n",
       "      <th>count</th>\n",
       "      <th>mean</th>\n",
       "    </tr>\n",
       "    <tr>\n",
       "      <th>family_status</th>\n",
       "      <th></th>\n",
       "      <th></th>\n",
       "    </tr>\n",
       "  </thead>\n",
       "  <tbody>\n",
       "    <tr>\n",
       "      <th>Не женат / не замужем</th>\n",
       "      <td>2799</td>\n",
       "      <td>0.097535</td>\n",
       "    </tr>\n",
       "    <tr>\n",
       "      <th>гражданский брак</th>\n",
       "      <td>4160</td>\n",
       "      <td>0.092548</td>\n",
       "    </tr>\n",
       "    <tr>\n",
       "      <th>женат / замужем</th>\n",
       "      <td>12302</td>\n",
       "      <td>0.075354</td>\n",
       "    </tr>\n",
       "    <tr>\n",
       "      <th>в разводе</th>\n",
       "      <td>1189</td>\n",
       "      <td>0.070648</td>\n",
       "    </tr>\n",
       "    <tr>\n",
       "      <th>вдовец / вдова</th>\n",
       "      <td>952</td>\n",
       "      <td>0.066176</td>\n",
       "    </tr>\n",
       "  </tbody>\n",
       "</table>\n",
       "</div>"
      ],
      "text/plain": [
       "                       count      mean\n",
       "family_status                         \n",
       "Не женат / не замужем   2799  0.097535\n",
       "гражданский брак        4160  0.092548\n",
       "женат / замужем        12302  0.075354\n",
       "в разводе               1189  0.070648\n",
       "вдовец / вдова           952  0.066176"
      ]
     },
     "execution_count": 24,
     "metadata": {},
     "output_type": "execute_result"
    }
   ],
   "source": [
    "data.groupby('family_status')['debt'].agg(['count', 'mean']).sort_values('mean', ascending=False)"
   ]
  },
  {
   "cell_type": "markdown",
   "id": "9d9196fe",
   "metadata": {
    "deletable": false,
    "editable": true,
    "id": "1cef7837",
    "slideshow": {
     "slide_type": ""
    },
    "tags": []
   },
   "source": [
    "**Вывод:** Процент просрочивших выше среди тех, кто никогда не состоял в официальном браке (неженатые и состоящие в гражданском браке) и составляет 9.3%-9.8%. Среди тех, кто когда-либо состоял в браке (женатые, вдовцы и разведённые) процент должников ниже и составляет 6.6%-7.6%."
   ]
  },
  {
   "cell_type": "markdown",
   "id": "4c1b2a71",
   "metadata": {
    "deletable": false,
    "editable": true,
    "id": "1e8b2fca",
    "slideshow": {
     "slide_type": ""
    },
    "tags": []
   },
   "source": [
    "### Есть ли зависимость между уровнем дохода и возвратом кредита в срок?"
   ]
  },
  {
   "cell_type": "markdown",
   "id": "26e453af",
   "metadata": {
    "editable": true,
    "slideshow": {
     "slide_type": ""
    },
    "tags": []
   },
   "source": [
    "Прежде всего, посчитаем долю просрочивших для каждой категории уровня доходов и общее количество дебиторов в ней:"
   ]
  },
  {
   "cell_type": "code",
   "execution_count": 25,
   "id": "0a991730",
   "metadata": {
    "deletable": false,
    "editable": true,
    "id": "cd7e3720",
    "slideshow": {
     "slide_type": ""
    },
    "tags": []
   },
   "outputs": [
    {
     "data": {
      "text/html": [
       "<div>\n",
       "<style scoped>\n",
       "    .dataframe tbody tr th:only-of-type {\n",
       "        vertical-align: middle;\n",
       "    }\n",
       "\n",
       "    .dataframe tbody tr th {\n",
       "        vertical-align: top;\n",
       "    }\n",
       "\n",
       "    .dataframe thead th {\n",
       "        text-align: right;\n",
       "    }\n",
       "</style>\n",
       "<table border=\"1\" class=\"dataframe\">\n",
       "  <thead>\n",
       "    <tr style=\"text-align: right;\">\n",
       "      <th></th>\n",
       "      <th>count</th>\n",
       "      <th>mean</th>\n",
       "    </tr>\n",
       "    <tr>\n",
       "      <th>total_income_category</th>\n",
       "      <th></th>\n",
       "      <th></th>\n",
       "    </tr>\n",
       "  </thead>\n",
       "  <tbody>\n",
       "    <tr>\n",
       "      <th>A</th>\n",
       "      <td>25</td>\n",
       "      <td>0.080000</td>\n",
       "    </tr>\n",
       "    <tr>\n",
       "      <th>B</th>\n",
       "      <td>5014</td>\n",
       "      <td>0.070602</td>\n",
       "    </tr>\n",
       "    <tr>\n",
       "      <th>C</th>\n",
       "      <td>15992</td>\n",
       "      <td>0.084605</td>\n",
       "    </tr>\n",
       "    <tr>\n",
       "      <th>D</th>\n",
       "      <td>349</td>\n",
       "      <td>0.060172</td>\n",
       "    </tr>\n",
       "    <tr>\n",
       "      <th>E</th>\n",
       "      <td>22</td>\n",
       "      <td>0.090909</td>\n",
       "    </tr>\n",
       "  </tbody>\n",
       "</table>\n",
       "</div>"
      ],
      "text/plain": [
       "                       count      mean\n",
       "total_income_category                 \n",
       "A                         25  0.080000\n",
       "B                       5014  0.070602\n",
       "C                      15992  0.084605\n",
       "D                        349  0.060172\n",
       "E                         22  0.090909"
      ]
     },
     "execution_count": 25,
     "metadata": {},
     "output_type": "execute_result"
    }
   ],
   "source": [
    "data.groupby('total_income_category')['debt'].agg(['count', 'mean'])"
   ]
  },
  {
   "cell_type": "markdown",
   "id": "57ed327a",
   "metadata": {
    "deletable": false,
    "editable": true,
    "id": "e8593def",
    "slideshow": {
     "slide_type": ""
    },
    "tags": []
   },
   "source": [
    "**Вывод:** Среди результатов выделяются самая низкая доля просрочивших среди людей с категорией дохода D (6%) и самая высокая в категории E (9.1%). Однако в целом предположение, что чем больше доход, тем меньше доля просрочивших, не подтверждается."
   ]
  },
  {
   "cell_type": "markdown",
   "id": "245ac458",
   "metadata": {
    "deletable": false,
    "editable": true,
    "id": "99ecbd1f",
    "slideshow": {
     "slide_type": ""
    },
    "tags": []
   },
   "source": [
    "### Как разные цели кредита влияют на его возврат в срок?"
   ]
  },
  {
   "cell_type": "markdown",
   "id": "e707ef26",
   "metadata": {
    "editable": true,
    "slideshow": {
     "slide_type": ""
    },
    "tags": []
   },
   "source": [
    "Прежде всего, посчитаем долю просрочивших для каждой категории целей кредита и общее количество дебиторов в ней:"
   ]
  },
  {
   "cell_type": "code",
   "execution_count": 26,
   "id": "69379a8c",
   "metadata": {
    "deletable": false,
    "editable": true,
    "id": "2b687290",
    "slideshow": {
     "slide_type": ""
    },
    "tags": []
   },
   "outputs": [
    {
     "data": {
      "text/html": [
       "<div>\n",
       "<style scoped>\n",
       "    .dataframe tbody tr th:only-of-type {\n",
       "        vertical-align: middle;\n",
       "    }\n",
       "\n",
       "    .dataframe tbody tr th {\n",
       "        vertical-align: top;\n",
       "    }\n",
       "\n",
       "    .dataframe thead th {\n",
       "        text-align: right;\n",
       "    }\n",
       "</style>\n",
       "<table border=\"1\" class=\"dataframe\">\n",
       "  <thead>\n",
       "    <tr style=\"text-align: right;\">\n",
       "      <th></th>\n",
       "      <th>count</th>\n",
       "      <th>mean</th>\n",
       "    </tr>\n",
       "    <tr>\n",
       "      <th>purpose_category</th>\n",
       "      <th></th>\n",
       "      <th></th>\n",
       "    </tr>\n",
       "  </thead>\n",
       "  <tbody>\n",
       "    <tr>\n",
       "      <th>операции с автомобилем</th>\n",
       "      <td>4288</td>\n",
       "      <td>0.093284</td>\n",
       "    </tr>\n",
       "    <tr>\n",
       "      <th>получение образования</th>\n",
       "      <td>3997</td>\n",
       "      <td>0.092319</td>\n",
       "    </tr>\n",
       "    <tr>\n",
       "      <th>проведение свадьбы</th>\n",
       "      <td>2337</td>\n",
       "      <td>0.078306</td>\n",
       "    </tr>\n",
       "    <tr>\n",
       "      <th>операции с недвижимостью</th>\n",
       "      <td>10780</td>\n",
       "      <td>0.072356</td>\n",
       "    </tr>\n",
       "  </tbody>\n",
       "</table>\n",
       "</div>"
      ],
      "text/plain": [
       "                          count      mean\n",
       "purpose_category                         \n",
       "операции с автомобилем     4288  0.093284\n",
       "получение образования      3997  0.092319\n",
       "проведение свадьбы         2337  0.078306\n",
       "операции с недвижимостью  10780  0.072356"
      ]
     },
     "execution_count": 26,
     "metadata": {},
     "output_type": "execute_result"
    }
   ],
   "source": [
    "data.groupby('purpose_category')['debt'].agg(['count', 'mean']).sort_values('mean', ascending=False)"
   ]
  },
  {
   "cell_type": "markdown",
   "id": "0fc1084b",
   "metadata": {
    "deletable": false,
    "editable": true,
    "id": "b4bb2ce6",
    "slideshow": {
     "slide_type": ""
    },
    "tags": []
   },
   "source": [
    "**Вывод:** Меньше всего просрочивших среди тех, кто брал кредит на операции с недвижимостью (7.3%) и проведение свадьбы (7.9%). Несколько выше эта доля среди взявших в кредит на операции с автомобилем или получение образования (9.3%)."
   ]
  },
  {
   "cell_type": "markdown",
   "id": "fe2c9063",
   "metadata": {
    "deletable": false,
    "editable": true,
    "id": "09c3ac4c",
    "slideshow": {
     "slide_type": ""
    },
    "tags": []
   },
   "source": [
    "### Каковы возможные причины появления пропусков в исходных данных?"
   ]
  },
  {
   "cell_type": "markdown",
   "id": "3e64a754",
   "metadata": {
    "deletable": false,
    "editable": true,
    "id": "9da2ceda",
    "slideshow": {
     "slide_type": ""
    },
    "tags": []
   },
   "source": [
    "*Ответ:* Судя по тому, что пропуски возникают исключительно в двух конкретных столбцах и всегда одновременно, эти пропуски не являются полностью случайными. Нет и причин считать, что вероятность пропусков зависит от данных в других столбцах, то есть пропуски вряд ли случайные. Могу предположить, пропуски неслучайны и некоторые люди намеренно не указали свой заработок и трудовой стаж, сочтя это слишком конфиденциальной информацией или чтобы не снижать шанс на кредит."
   ]
  },
  {
   "cell_type": "markdown",
   "id": "6fa712a1",
   "metadata": {
    "deletable": false,
    "editable": true,
    "id": "7b0487d6",
    "slideshow": {
     "slide_type": ""
    },
    "tags": []
   },
   "source": [
    "### Почему заполнить пропуски медианным значением — лучшее решение для количественных переменных?"
   ]
  },
  {
   "cell_type": "markdown",
   "id": "4005dd82",
   "metadata": {
    "deletable": false,
    "editable": true,
    "id": "7ecf2b8e",
    "slideshow": {
     "slide_type": ""
    },
    "tags": []
   },
   "source": [
    "*Ответ:* При заполнении пропусков следует использовать наиболее характерные значения относительно имеющихся данных; обычно это среднее или медиана. В данном случае количественные переменные с пропусками - это ежемесячный доход и общий трудовой стаж, то есть величины с большим разбросом в значениях. В этой ситуации взятие среднего приведёт к сдвигу, так как, например, малое количество людей, чей заработок очень велик, сдвинут среднее значение в большую сторону, хотя это никак не будет характеризовать основную часть данных. Для таких переменных, как возраст, где обычно нет такого разброса данных, вполне годится и среднее."
   ]
  },
  {
   "cell_type": "markdown",
   "id": "6afe9b90",
   "metadata": {
    "deletable": false,
    "editable": true,
    "id": "6db5255a",
    "slideshow": {
     "slide_type": ""
    },
    "tags": []
   },
   "source": [
    "## Общий вывод"
   ]
  },
  {
   "cell_type": "markdown",
   "id": "377cef56",
   "metadata": {
    "deletable": false,
    "editable": true,
    "id": "bad65432",
    "slideshow": {
     "slide_type": ""
    },
    "tags": []
   },
   "source": [
    "> В рамках проекта мной исследовалась статистика платёжеспособности клиентов на основе набора данных из 21525 вхождений, описывающих дебиторов. Работа велась с такими признаками, как количество детей, трудовой стаж, семейное положение, тип занятости, ежемесячный доход, цель получения кредита. Целевым признаком, относительно которого и выявлялись зависимости, был факт наличия задолженности по ходу выплаты кредита.  \n",
    "  \n",
    "> В ходе предобработки были обнаружены аномальные отрицательные значения трудового стажа, которые было решено заменить на аналогичные, но положительные. Также из набора были удалены дебиторы с аномальным количеством детей -1 и 20. Пропуски были обнаружены только в столбцах с доходом и стажем, они были заполнены медианными значениями для соответствующего типа занятости. Затем были удалены все дубликаты в количестве 71, а в столбце дохода оставлена лишь целая часть.  В завершение, была проведена категоризация данных по доходу (на 5 категорий с порогами в 30 тыс., 50 тыс., 200 тыс. и 1000 тыс.) и по целям кредита (на 4 категории - операции с недвижимостью, с автомобилями, получение образование, проведение свадьбы).  \n",
    "  \n",
    "> Наконец, по имеющимся данным удалось выделить следующие факторы, повышающие риск того, что кредит не будет возвращён в срок: наличие детей, отсутствие опыта брака, доход менее 30000 рублей и направленность кредита на покупку машины или получения образования. Вероятно, именно эти показатели должны учитываться системой скоринга для выявления потенциальных заёмщиков с низкой способностью возвращения кредита.  \n",
    "  \n",
    "> В дальнейшем при сборе данных можно порекомендовать тщательнее подходить к заполнению стажа работы и заработка, чтобы не допускать отрицательных и минимизировать пропущенные значения. Также, в будущем может быть полезно исследовать влияние таких параметров, как образование и пол дебитора, на возврат кредита в срок для улучшения системы скоринга."
   ]
  },
  {
   "cell_type": "code",
   "execution_count": null,
   "id": "5510fc11-9079-461d-877a-de0914267d83",
   "metadata": {
    "editable": true,
    "slideshow": {
     "slide_type": ""
    },
    "tags": []
   },
   "outputs": [],
   "source": []
  }
 ],
 "metadata": {
  "ExecuteTimeLog": [
   {
    "duration": 46,
    "start_time": "2023-10-23T18:39:41.738Z"
   },
   {
    "duration": 7,
    "start_time": "2023-10-23T18:43:43.898Z"
   },
   {
    "duration": 8,
    "start_time": "2023-10-23T18:48:30.584Z"
   },
   {
    "duration": 7,
    "start_time": "2023-10-23T18:52:35.204Z"
   },
   {
    "duration": 480,
    "start_time": "2023-10-23T18:52:45.054Z"
   },
   {
    "duration": 22,
    "start_time": "2023-10-23T18:52:45.536Z"
   },
   {
    "duration": 24,
    "start_time": "2023-10-23T18:52:45.560Z"
   },
   {
    "duration": 26,
    "start_time": "2023-10-23T18:52:45.587Z"
   },
   {
    "duration": 55,
    "start_time": "2023-10-23T18:52:45.616Z"
   },
   {
    "duration": 3,
    "start_time": "2023-10-23T18:52:45.673Z"
   },
   {
    "duration": 12,
    "start_time": "2023-10-23T18:52:45.677Z"
   },
   {
    "duration": 18,
    "start_time": "2023-10-23T18:52:45.690Z"
   },
   {
    "duration": 14,
    "start_time": "2023-10-23T18:52:45.709Z"
   },
   {
    "duration": 9,
    "start_time": "2023-10-23T18:52:45.725Z"
   },
   {
    "duration": 35,
    "start_time": "2023-10-23T18:52:45.736Z"
   },
   {
    "duration": 9,
    "start_time": "2023-10-23T18:52:45.773Z"
   },
   {
    "duration": 8,
    "start_time": "2023-10-23T18:52:45.784Z"
   },
   {
    "duration": 25,
    "start_time": "2023-10-23T18:52:45.793Z"
   },
   {
    "duration": 26,
    "start_time": "2023-10-23T18:52:45.820Z"
   },
   {
    "duration": 19,
    "start_time": "2023-10-23T18:52:45.847Z"
   },
   {
    "duration": 4,
    "start_time": "2023-10-23T18:52:45.868Z"
   },
   {
    "duration": 34,
    "start_time": "2023-10-23T18:52:45.873Z"
   },
   {
    "duration": 66,
    "start_time": "2023-10-23T18:52:45.909Z"
   },
   {
    "duration": 19,
    "start_time": "2023-10-23T18:52:45.977Z"
   },
   {
    "duration": 35,
    "start_time": "2023-10-23T18:52:45.998Z"
   },
   {
    "duration": 11,
    "start_time": "2023-10-23T18:52:46.036Z"
   },
   {
    "duration": 22,
    "start_time": "2023-10-23T18:52:46.050Z"
   },
   {
    "duration": 25,
    "start_time": "2023-10-23T18:52:46.074Z"
   },
   {
    "duration": 30,
    "start_time": "2023-10-23T18:52:46.101Z"
   },
   {
    "duration": 14,
    "start_time": "2023-10-23T18:52:46.133Z"
   },
   {
    "duration": 5,
    "start_time": "2023-10-23T18:54:18.677Z"
   },
   {
    "duration": 8,
    "start_time": "2023-10-23T18:54:42.578Z"
   },
   {
    "duration": 7,
    "start_time": "2023-10-23T18:54:51.582Z"
   },
   {
    "duration": 9,
    "start_time": "2023-10-23T19:02:34.330Z"
   },
   {
    "duration": 14,
    "start_time": "2023-10-23T19:10:03.361Z"
   },
   {
    "duration": 418,
    "start_time": "2023-10-23T22:51:30.662Z"
   },
   {
    "duration": 19,
    "start_time": "2023-10-23T22:51:31.082Z"
   },
   {
    "duration": 13,
    "start_time": "2023-10-23T22:51:31.385Z"
   },
   {
    "duration": 9,
    "start_time": "2023-10-23T22:51:32.095Z"
   },
   {
    "duration": 37,
    "start_time": "2023-10-23T22:51:32.437Z"
   },
   {
    "duration": 3,
    "start_time": "2023-10-23T22:51:32.971Z"
   },
   {
    "duration": 7,
    "start_time": "2023-10-23T22:51:33.324Z"
   },
   {
    "duration": 4,
    "start_time": "2023-10-23T22:51:33.857Z"
   },
   {
    "duration": 5,
    "start_time": "2023-10-23T22:51:34.246Z"
   },
   {
    "duration": 4,
    "start_time": "2023-10-23T22:51:34.603Z"
   },
   {
    "duration": 28,
    "start_time": "2023-10-23T22:51:35.155Z"
   },
   {
    "duration": 8,
    "start_time": "2023-10-23T22:51:35.526Z"
   },
   {
    "duration": 3,
    "start_time": "2023-10-23T22:51:36.091Z"
   },
   {
    "duration": 10,
    "start_time": "2023-10-23T22:51:36.637Z"
   },
   {
    "duration": 18,
    "start_time": "2023-10-23T22:51:37.037Z"
   },
   {
    "duration": 15,
    "start_time": "2023-10-23T22:51:37.221Z"
   },
   {
    "duration": 3,
    "start_time": "2023-10-23T22:51:37.803Z"
   },
   {
    "duration": 8,
    "start_time": "2023-10-23T22:51:37.991Z"
   },
   {
    "duration": 5,
    "start_time": "2023-10-23T22:51:38.389Z"
   },
   {
    "duration": 2,
    "start_time": "2023-10-23T22:51:38.789Z"
   },
   {
    "duration": 8,
    "start_time": "2023-10-23T22:51:39.008Z"
   },
   {
    "duration": 5,
    "start_time": "2023-10-23T22:51:40.160Z"
   },
   {
    "duration": 5,
    "start_time": "2023-10-23T22:51:40.871Z"
   },
   {
    "duration": 8,
    "start_time": "2023-10-23T22:51:41.803Z"
   },
   {
    "duration": 8,
    "start_time": "2023-10-23T22:51:42.540Z"
   },
   {
    "duration": 8,
    "start_time": "2023-10-23T22:51:43.258Z"
   },
   {
    "duration": 57,
    "start_time": "2023-10-23T22:52:13.465Z"
   },
   {
    "duration": 6,
    "start_time": "2023-10-23T22:52:20.596Z"
   },
   {
    "duration": 6,
    "start_time": "2023-10-23T22:52:25.947Z"
   },
   {
    "duration": 748,
    "start_time": "2023-10-25T21:38:41.620Z"
   },
   {
    "duration": 21,
    "start_time": "2023-10-25T21:38:42.369Z"
   },
   {
    "duration": 21,
    "start_time": "2023-10-25T21:38:42.392Z"
   },
   {
    "duration": 16,
    "start_time": "2023-10-25T21:38:42.416Z"
   },
   {
    "duration": 40,
    "start_time": "2023-10-25T21:38:42.433Z"
   },
   {
    "duration": 4,
    "start_time": "2023-10-25T21:38:42.474Z"
   },
   {
    "duration": 27,
    "start_time": "2023-10-25T21:38:42.479Z"
   },
   {
    "duration": 20,
    "start_time": "2023-10-25T21:38:42.508Z"
   },
   {
    "duration": 16,
    "start_time": "2023-10-25T21:38:42.529Z"
   },
   {
    "duration": 8,
    "start_time": "2023-10-25T21:38:42.547Z"
   },
   {
    "duration": 46,
    "start_time": "2023-10-25T21:38:42.557Z"
   },
   {
    "duration": 15,
    "start_time": "2023-10-25T21:38:42.605Z"
   },
   {
    "duration": 5,
    "start_time": "2023-10-25T21:38:42.621Z"
   },
   {
    "duration": 15,
    "start_time": "2023-10-25T21:38:42.627Z"
   },
   {
    "duration": 25,
    "start_time": "2023-10-25T21:38:42.643Z"
   },
   {
    "duration": 16,
    "start_time": "2023-10-25T21:38:42.669Z"
   },
   {
    "duration": 3,
    "start_time": "2023-10-25T21:38:42.686Z"
   },
   {
    "duration": 17,
    "start_time": "2023-10-25T21:38:42.707Z"
   },
   {
    "duration": 6,
    "start_time": "2023-10-25T21:38:42.726Z"
   },
   {
    "duration": 5,
    "start_time": "2023-10-25T21:38:42.734Z"
   },
   {
    "duration": 17,
    "start_time": "2023-10-25T21:38:42.740Z"
   },
   {
    "duration": 27,
    "start_time": "2023-10-25T21:38:42.758Z"
   },
   {
    "duration": 4,
    "start_time": "2023-10-25T21:38:42.787Z"
   },
   {
    "duration": 15,
    "start_time": "2023-10-25T21:38:42.793Z"
   },
   {
    "duration": 13,
    "start_time": "2023-10-25T21:38:42.809Z"
   },
   {
    "duration": 17,
    "start_time": "2023-10-25T21:38:42.823Z"
   },
   {
    "duration": 70,
    "start_time": "2023-10-25T21:39:05.097Z"
   },
   {
    "duration": 8,
    "start_time": "2023-10-25T21:39:14.258Z"
   },
   {
    "duration": 7,
    "start_time": "2023-10-25T21:39:17.235Z"
   },
   {
    "duration": 22,
    "start_time": "2023-10-25T21:41:23.900Z"
   },
   {
    "duration": 8,
    "start_time": "2023-10-25T21:43:22.552Z"
   },
   {
    "duration": 10,
    "start_time": "2023-10-25T21:43:53.590Z"
   },
   {
    "duration": 12,
    "start_time": "2023-10-25T21:44:50.042Z"
   },
   {
    "duration": 55,
    "start_time": "2023-10-27T14:34:19.921Z"
   },
   {
    "duration": 739,
    "start_time": "2023-10-27T14:37:04.532Z"
   },
   {
    "duration": 23,
    "start_time": "2023-10-27T14:37:05.274Z"
   },
   {
    "duration": 24,
    "start_time": "2023-10-27T14:37:05.298Z"
   },
   {
    "duration": 34,
    "start_time": "2023-10-27T14:37:05.324Z"
   },
   {
    "duration": 62,
    "start_time": "2023-10-27T14:37:05.360Z"
   },
   {
    "duration": 4,
    "start_time": "2023-10-27T14:37:05.424Z"
   },
   {
    "duration": 29,
    "start_time": "2023-10-27T14:37:05.430Z"
   },
   {
    "duration": 24,
    "start_time": "2023-10-27T14:37:05.461Z"
   },
   {
    "duration": 51,
    "start_time": "2023-10-27T14:37:05.487Z"
   },
   {
    "duration": 20,
    "start_time": "2023-10-27T14:37:05.539Z"
   },
   {
    "duration": 61,
    "start_time": "2023-10-27T14:37:05.560Z"
   },
   {
    "duration": 12,
    "start_time": "2023-10-27T14:37:05.625Z"
   },
   {
    "duration": 21,
    "start_time": "2023-10-27T14:37:05.638Z"
   },
   {
    "duration": 44,
    "start_time": "2023-10-27T14:37:05.661Z"
   },
   {
    "duration": 22,
    "start_time": "2023-10-27T14:37:05.718Z"
   },
   {
    "duration": 26,
    "start_time": "2023-10-27T14:37:05.742Z"
   },
   {
    "duration": 19,
    "start_time": "2023-10-27T14:37:05.770Z"
   },
   {
    "duration": 27,
    "start_time": "2023-10-27T14:37:05.791Z"
   },
   {
    "duration": 17,
    "start_time": "2023-10-27T14:37:05.820Z"
   },
   {
    "duration": 11,
    "start_time": "2023-10-27T14:37:05.839Z"
   },
   {
    "duration": 42,
    "start_time": "2023-10-27T14:37:05.852Z"
   },
   {
    "duration": 34,
    "start_time": "2023-10-27T14:37:05.896Z"
   },
   {
    "duration": 16,
    "start_time": "2023-10-27T14:37:05.932Z"
   },
   {
    "duration": 35,
    "start_time": "2023-10-27T14:37:05.949Z"
   },
   {
    "duration": 50,
    "start_time": "2023-10-27T14:37:05.987Z"
   },
   {
    "duration": 28,
    "start_time": "2023-10-27T14:37:06.039Z"
   },
   {
    "duration": 11,
    "start_time": "2023-10-27T14:37:27.130Z"
   },
   {
    "duration": 9,
    "start_time": "2023-10-27T14:37:53.775Z"
   },
   {
    "duration": 11,
    "start_time": "2023-10-27T14:38:13.651Z"
   },
   {
    "duration": 14,
    "start_time": "2023-10-27T14:38:26.220Z"
   },
   {
    "duration": 14,
    "start_time": "2023-10-27T15:13:06.476Z"
   },
   {
    "duration": 12,
    "start_time": "2023-10-27T15:13:24.698Z"
   }
  ],
  "colab": {
   "name": "dpp_template_part2.ipynb",
   "provenance": []
  },
  "kernelspec": {
   "display_name": "Python 3 (ipykernel)",
   "language": "python",
   "name": "python3"
  },
  "language_info": {
   "codemirror_mode": {
    "name": "ipython",
    "version": 3
   },
   "file_extension": ".py",
   "mimetype": "text/x-python",
   "name": "python",
   "nbconvert_exporter": "python",
   "pygments_lexer": "ipython3",
   "version": "3.11.9"
  },
  "toc": {
   "base_numbering": 1,
   "nav_menu": {},
   "number_sections": true,
   "sideBar": true,
   "skip_h1_title": true,
   "title_cell": "Table of Contents",
   "title_sidebar": "Contents",
   "toc_cell": false,
   "toc_position": {},
   "toc_section_display": true,
   "toc_window_display": false
  }
 },
 "nbformat": 4,
 "nbformat_minor": 5
}
